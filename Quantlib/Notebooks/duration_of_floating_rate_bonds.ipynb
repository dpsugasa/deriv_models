{
 "cells": [
  {
   "cell_type": "markdown",
   "metadata": {},
   "source": [
    "# Duration of floating-rate bonds"
   ]
  },
  {
   "cell_type": "markdown",
   "metadata": {},
   "source": [
    "(Based on a question by Antonio Savoldi on the QuantLib mailing list. Thanks!)"
   ]
  },
  {
   "cell_type": "code",
   "execution_count": 1,
   "metadata": {},
   "outputs": [],
   "source": [
    "from QuantLib import *\n",
    "from pandas import DataFrame"
   ]
  },
  {
   "cell_type": "code",
   "execution_count": 2,
   "metadata": {},
   "outputs": [],
   "source": [
    "today = Date(8,October,2014)\n",
    "Settings.instance().evaluationDate = today"
   ]
  },
  {
   "cell_type": "markdown",
   "metadata": {},
   "source": [
    "#### The problem"
   ]
  },
  {
   "cell_type": "markdown",
   "metadata": {},
   "source": [
    "We want to calculate the modified duration of a floating-rate bond. First, we need an interest-rate curve to forecast its coupon rates: for illustration's sake, let's take a flat curve with a 0.2% rate."
   ]
  },
  {
   "cell_type": "code",
   "execution_count": 3,
   "metadata": {},
   "outputs": [],
   "source": [
    "forecast_curve = RelinkableYieldTermStructureHandle()\n",
    "forecast_curve.linkTo(FlatForward(today, 0.002, Actual360(),\n",
    "                                  Compounded, Semiannual))"
   ]
  },
  {
   "cell_type": "markdown",
   "metadata": {},
   "source": [
    "Then, we instantiate the index to be used. The bond has semiannual coupons, so we create a `Euribor6M` instance and we pass it the forecast curve. Also, we set a past fixing for the current coupon (which, having fixed in the past, can't be forecast)."
   ]
  },
  {
   "cell_type": "code",
   "execution_count": 4,
   "metadata": {},
   "outputs": [],
   "source": [
    "index = Euribor6M(forecast_curve)\n",
    "index.addFixing(Date(6,August,2014), 0.002)"
   ]
  },
  {
   "cell_type": "markdown",
   "metadata": {},
   "source": [
    "The bond was issued a couple of months before the evaluation date and will run for 5 years with semiannual coupons."
   ]
  },
  {
   "cell_type": "code",
   "execution_count": 5,
   "metadata": {},
   "outputs": [],
   "source": [
    "issueDate = Date(8,August,2014)\n",
    "maturityDate = Date(8,August,2019)\n",
    "\n",
    "schedule = Schedule(issueDate, maturityDate,\n",
    "                    Period(Semiannual), TARGET(), Following, Following,\n",
    "                    DateGeneration.Backward, False)\n",
    "\n",
    "bond = FloatingRateBond(settlementDays = 3,\n",
    "                        faceAmount = 100,\n",
    "                        schedule = schedule,\n",
    "                        index = index,\n",
    "                        paymentDayCounter = Actual360())"
   ]
  },
  {
   "cell_type": "markdown",
   "metadata": {},
   "source": [
    "The cash flows are calculated based on the forecast curve. Here they are, together with their dates. As expected, they each pay around 0.1% of the notional."
   ]
  },
  {
   "cell_type": "code",
   "execution_count": 6,
   "metadata": {},
   "outputs": [
    {
     "data": {
      "text/html": [
       "<div>\n",
       "<style scoped>\n",
       "    .dataframe tbody tr th:only-of-type {\n",
       "        vertical-align: middle;\n",
       "    }\n",
       "\n",
       "    .dataframe tbody tr th {\n",
       "        vertical-align: top;\n",
       "    }\n",
       "\n",
       "    .dataframe thead th {\n",
       "        text-align: right;\n",
       "    }\n",
       "</style>\n",
       "<table border=\"1\" class=\"dataframe\">\n",
       "  <thead>\n",
       "    <tr style=\"text-align: right;\">\n",
       "      <th></th>\n",
       "      <th>date</th>\n",
       "      <th>amount</th>\n",
       "    </tr>\n",
       "  </thead>\n",
       "  <tbody>\n",
       "    <tr>\n",
       "      <th>1</th>\n",
       "      <td>February 9th, 2015</td>\n",
       "      <td>0.102778</td>\n",
       "    </tr>\n",
       "    <tr>\n",
       "      <th>2</th>\n",
       "      <td>August 10th, 2015</td>\n",
       "      <td>0.101112</td>\n",
       "    </tr>\n",
       "    <tr>\n",
       "      <th>3</th>\n",
       "      <td>February 8th, 2016</td>\n",
       "      <td>0.101112</td>\n",
       "    </tr>\n",
       "    <tr>\n",
       "      <th>4</th>\n",
       "      <td>August 8th, 2016</td>\n",
       "      <td>0.101112</td>\n",
       "    </tr>\n",
       "    <tr>\n",
       "      <th>5</th>\n",
       "      <td>February 8th, 2017</td>\n",
       "      <td>0.102223</td>\n",
       "    </tr>\n",
       "    <tr>\n",
       "      <th>6</th>\n",
       "      <td>August 8th, 2017</td>\n",
       "      <td>0.100556</td>\n",
       "    </tr>\n",
       "    <tr>\n",
       "      <th>7</th>\n",
       "      <td>February 8th, 2018</td>\n",
       "      <td>0.102223</td>\n",
       "    </tr>\n",
       "    <tr>\n",
       "      <th>8</th>\n",
       "      <td>August 8th, 2018</td>\n",
       "      <td>0.100556</td>\n",
       "    </tr>\n",
       "    <tr>\n",
       "      <th>9</th>\n",
       "      <td>February 8th, 2019</td>\n",
       "      <td>0.102223</td>\n",
       "    </tr>\n",
       "    <tr>\n",
       "      <th>10</th>\n",
       "      <td>August 8th, 2019</td>\n",
       "      <td>0.100556</td>\n",
       "    </tr>\n",
       "    <tr>\n",
       "      <th>11</th>\n",
       "      <td>August 8th, 2019</td>\n",
       "      <td>100.000000</td>\n",
       "    </tr>\n",
       "  </tbody>\n",
       "</table>\n",
       "</div>"
      ],
      "text/plain": [
       "                  date      amount\n",
       "1   February 9th, 2015    0.102778\n",
       "2    August 10th, 2015    0.101112\n",
       "3   February 8th, 2016    0.101112\n",
       "4     August 8th, 2016    0.101112\n",
       "5   February 8th, 2017    0.102223\n",
       "6     August 8th, 2017    0.100556\n",
       "7   February 8th, 2018    0.102223\n",
       "8     August 8th, 2018    0.100556\n",
       "9   February 8th, 2019    0.102223\n",
       "10    August 8th, 2019    0.100556\n",
       "11    August 8th, 2019  100.000000"
      ]
     },
     "execution_count": 6,
     "metadata": {},
     "output_type": "execute_result"
    }
   ],
   "source": [
    "dates = [ c.date() for c in bond.cashflows() ]\n",
    "cfs = [ c.amount() for c in bond.cashflows() ]\n",
    "DataFrame(list(zip(dates, cfs)),\n",
    "          columns = ('date','amount'),\n",
    "          index = range(1,len(dates)+1))"
   ]
  },
  {
   "cell_type": "markdown",
   "metadata": {},
   "source": [
    "If we try to use the function provided for calculating bond durations, though, we run into a problem. When we pass it the bond and a 0.2% semiannual yield, the result we get is:"
   ]
  },
  {
   "cell_type": "code",
   "execution_count": 7,
   "metadata": {},
   "outputs": [
    {
     "name": "stdout",
     "output_type": "stream",
     "text": [
      "4.8609591731332165\n"
     ]
    }
   ],
   "source": [
    "y = InterestRate(0.002, Actual360(), Compounded, Semiannual)\n",
    "print(BondFunctions.duration(bond, y, Duration.Modified))"
   ]
  },
  {
   "cell_type": "markdown",
   "metadata": {},
   "source": [
    "which is about the time to maturity. Shouldn't we get the time to next coupon instead?"
   ]
  },
  {
   "cell_type": "markdown",
   "metadata": {},
   "source": [
    "#### What happened?"
   ]
  },
  {
   "cell_type": "markdown",
   "metadata": {},
   "source": [
    "The function above is too generic. It calculates the modified duration as $\\displaystyle{-\\frac{1}{P}\\frac{dP}{dy}}$; however, it doesn't know what kind of bond it has been passed and what kind of cash flows are paid, so it can only consider the yield for discounting and not for forecasting. If you looked into the C++ code, you'd see that the bond price $P$ above is calculated as the sum of the discounted cash flows, as in the following:"
   ]
  },
  {
   "cell_type": "code",
   "execution_count": 8,
   "metadata": {},
   "outputs": [
    {
     "name": "stdout",
     "output_type": "stream",
     "text": [
      "100.03665363580889\n"
     ]
    }
   ],
   "source": [
    "y = SimpleQuote(0.002)\n",
    "yield_curve = FlatForward(bond.settlementDate(), QuoteHandle(y),\n",
    "                          Actual360(), Compounded, Semiannual)\n",
    "\n",
    "dates = [ c.date() for c in bond.cashflows() ]\n",
    "cfs = [ c.amount() for c in bond.cashflows() ]\n",
    "discounts = [ yield_curve.discount(d) for d in dates ]\n",
    "P = sum(cf*b for cf,b in zip(cfs,discounts))\n",
    "\n",
    "print(P)"
   ]
  },
  {
   "cell_type": "markdown",
   "metadata": {},
   "source": [
    "(Incidentally, we can see that this matches the calculation in the `dirtyPrice` method of the `Bond` class.)"
   ]
  },
  {
   "cell_type": "code",
   "execution_count": 9,
   "metadata": {},
   "outputs": [
    {
     "name": "stdout",
     "output_type": "stream",
     "text": [
      "100.03665363580889\n"
     ]
    }
   ],
   "source": [
    "bond.setPricingEngine(DiscountingBondEngine(YieldTermStructureHandle(yield_curve)))\n",
    "print(bond.dirtyPrice())"
   ]
  },
  {
   "cell_type": "markdown",
   "metadata": {},
   "source": [
    "Finally, the derivative $\\displaystyle{\\frac{dP}{dy}}$ in the duration formula in approximated as $\\displaystyle{\\frac{P(y+dy)-P(y-dy)}{2 dy}}$, so that we get:"
   ]
  },
  {
   "cell_type": "code",
   "execution_count": 10,
   "metadata": {},
   "outputs": [
    {
     "name": "stdout",
     "output_type": "stream",
     "text": [
      "100.03179102561501\n",
      "100.0415165074028\n"
     ]
    }
   ],
   "source": [
    "dy = 1e-5\n",
    "\n",
    "y.setValue(0.002 + dy)\n",
    "cfs_p = [ c.amount() for c in bond.cashflows() ]\n",
    "discounts_p = [ yield_curve.discount(d) for d in dates ]\n",
    "P_p = sum(cf*b for cf,b in zip(cfs_p,discounts_p))\n",
    "print(P_p)\n",
    "\n",
    "y.setValue(0.002 - dy)\n",
    "cfs_m = [ c.amount() for c in bond.cashflows() ]\n",
    "discounts_m = [ yield_curve.discount(d) for d in dates ]\n",
    "P_m = sum(cf*b for cf,b in zip(cfs_m,discounts_m))\n",
    "print(P_m)\n",
    "\n",
    "y.setValue(0.002)"
   ]
  },
  {
   "cell_type": "code",
   "execution_count": 11,
   "metadata": {},
   "outputs": [
    {
     "name": "stdout",
     "output_type": "stream",
     "text": [
      "4.8609591756253225\n"
     ]
    }
   ],
   "source": [
    "print(-(1/P)*(P_p - P_m)/(2*dy))"
   ]
  },
  {
   "cell_type": "markdown",
   "metadata": {},
   "source": [
    "which is the same figure returned by `BondFunctions.duration`."
   ]
  },
  {
   "cell_type": "markdown",
   "metadata": {},
   "source": [
    "The problem is that the above doesn't use the yield curve for forecasting, so it's not really considering the bond as a floating-rate bond. It's using it as a fixed-rate bond, whose coupon rates happen to equal the current forecasts for the Euribor 6M fixings. This is clear if we look at the coupon amounts and discounts we stored during the calculation:"
   ]
  },
  {
   "cell_type": "code",
   "execution_count": 12,
   "metadata": {},
   "outputs": [
    {
     "data": {
      "text/html": [
       "<div>\n",
       "<style scoped>\n",
       "    .dataframe tbody tr th:only-of-type {\n",
       "        vertical-align: middle;\n",
       "    }\n",
       "\n",
       "    .dataframe tbody tr th {\n",
       "        vertical-align: top;\n",
       "    }\n",
       "\n",
       "    .dataframe thead th {\n",
       "        text-align: right;\n",
       "    }\n",
       "</style>\n",
       "<table border=\"1\" class=\"dataframe\">\n",
       "  <thead>\n",
       "    <tr style=\"text-align: right;\">\n",
       "      <th></th>\n",
       "      <th>date</th>\n",
       "      <th>amount</th>\n",
       "      <th>discounts</th>\n",
       "      <th>amount (+)</th>\n",
       "      <th>discounts (+)</th>\n",
       "      <th>amount (-)</th>\n",
       "      <th>discounts (-)</th>\n",
       "    </tr>\n",
       "  </thead>\n",
       "  <tbody>\n",
       "    <tr>\n",
       "      <th>1</th>\n",
       "      <td>February 9th, 2015</td>\n",
       "      <td>0.102778</td>\n",
       "      <td>0.999339</td>\n",
       "      <td>0.102778</td>\n",
       "      <td>0.999336</td>\n",
       "      <td>0.102778</td>\n",
       "      <td>0.999343</td>\n",
       "    </tr>\n",
       "    <tr>\n",
       "      <th>2</th>\n",
       "      <td>August 10th, 2015</td>\n",
       "      <td>0.101112</td>\n",
       "      <td>0.998330</td>\n",
       "      <td>0.101112</td>\n",
       "      <td>0.998322</td>\n",
       "      <td>0.101112</td>\n",
       "      <td>0.998338</td>\n",
       "    </tr>\n",
       "    <tr>\n",
       "      <th>3</th>\n",
       "      <td>February 8th, 2016</td>\n",
       "      <td>0.101112</td>\n",
       "      <td>0.997322</td>\n",
       "      <td>0.101112</td>\n",
       "      <td>0.997308</td>\n",
       "      <td>0.101112</td>\n",
       "      <td>0.997335</td>\n",
       "    </tr>\n",
       "    <tr>\n",
       "      <th>4</th>\n",
       "      <td>August 8th, 2016</td>\n",
       "      <td>0.101112</td>\n",
       "      <td>0.996314</td>\n",
       "      <td>0.101112</td>\n",
       "      <td>0.996296</td>\n",
       "      <td>0.101112</td>\n",
       "      <td>0.996333</td>\n",
       "    </tr>\n",
       "    <tr>\n",
       "      <th>5</th>\n",
       "      <td>February 8th, 2017</td>\n",
       "      <td>0.102223</td>\n",
       "      <td>0.995297</td>\n",
       "      <td>0.102223</td>\n",
       "      <td>0.995273</td>\n",
       "      <td>0.102223</td>\n",
       "      <td>0.995320</td>\n",
       "    </tr>\n",
       "    <tr>\n",
       "      <th>6</th>\n",
       "      <td>August 8th, 2017</td>\n",
       "      <td>0.100556</td>\n",
       "      <td>0.994297</td>\n",
       "      <td>0.100556</td>\n",
       "      <td>0.994269</td>\n",
       "      <td>0.100556</td>\n",
       "      <td>0.994325</td>\n",
       "    </tr>\n",
       "    <tr>\n",
       "      <th>7</th>\n",
       "      <td>February 8th, 2018</td>\n",
       "      <td>0.102223</td>\n",
       "      <td>0.993282</td>\n",
       "      <td>0.102223</td>\n",
       "      <td>0.993248</td>\n",
       "      <td>0.102223</td>\n",
       "      <td>0.993315</td>\n",
       "    </tr>\n",
       "    <tr>\n",
       "      <th>8</th>\n",
       "      <td>August 8th, 2018</td>\n",
       "      <td>0.100556</td>\n",
       "      <td>0.992284</td>\n",
       "      <td>0.100556</td>\n",
       "      <td>0.992245</td>\n",
       "      <td>0.100556</td>\n",
       "      <td>0.992322</td>\n",
       "    </tr>\n",
       "    <tr>\n",
       "      <th>9</th>\n",
       "      <td>February 8th, 2019</td>\n",
       "      <td>0.102223</td>\n",
       "      <td>0.991270</td>\n",
       "      <td>0.102223</td>\n",
       "      <td>0.991227</td>\n",
       "      <td>0.102223</td>\n",
       "      <td>0.991314</td>\n",
       "    </tr>\n",
       "    <tr>\n",
       "      <th>10</th>\n",
       "      <td>August 8th, 2019</td>\n",
       "      <td>0.100556</td>\n",
       "      <td>0.990275</td>\n",
       "      <td>0.100556</td>\n",
       "      <td>0.990226</td>\n",
       "      <td>0.100556</td>\n",
       "      <td>0.990323</td>\n",
       "    </tr>\n",
       "    <tr>\n",
       "      <th>11</th>\n",
       "      <td>August 8th, 2019</td>\n",
       "      <td>100.000000</td>\n",
       "      <td>0.990275</td>\n",
       "      <td>100.000000</td>\n",
       "      <td>0.990226</td>\n",
       "      <td>100.000000</td>\n",
       "      <td>0.990323</td>\n",
       "    </tr>\n",
       "  </tbody>\n",
       "</table>\n",
       "</div>"
      ],
      "text/plain": [
       "                  date      amount  discounts  amount (+)  discounts (+)  \\\n",
       "1   February 9th, 2015    0.102778   0.999339    0.102778       0.999336   \n",
       "2    August 10th, 2015    0.101112   0.998330    0.101112       0.998322   \n",
       "3   February 8th, 2016    0.101112   0.997322    0.101112       0.997308   \n",
       "4     August 8th, 2016    0.101112   0.996314    0.101112       0.996296   \n",
       "5   February 8th, 2017    0.102223   0.995297    0.102223       0.995273   \n",
       "6     August 8th, 2017    0.100556   0.994297    0.100556       0.994269   \n",
       "7   February 8th, 2018    0.102223   0.993282    0.102223       0.993248   \n",
       "8     August 8th, 2018    0.100556   0.992284    0.100556       0.992245   \n",
       "9   February 8th, 2019    0.102223   0.991270    0.102223       0.991227   \n",
       "10    August 8th, 2019    0.100556   0.990275    0.100556       0.990226   \n",
       "11    August 8th, 2019  100.000000   0.990275  100.000000       0.990226   \n",
       "\n",
       "    amount (-)  discounts (-)  \n",
       "1     0.102778       0.999343  \n",
       "2     0.101112       0.998338  \n",
       "3     0.101112       0.997335  \n",
       "4     0.101112       0.996333  \n",
       "5     0.102223       0.995320  \n",
       "6     0.100556       0.994325  \n",
       "7     0.102223       0.993315  \n",
       "8     0.100556       0.992322  \n",
       "9     0.102223       0.991314  \n",
       "10    0.100556       0.990323  \n",
       "11  100.000000       0.990323  "
      ]
     },
     "execution_count": 12,
     "metadata": {},
     "output_type": "execute_result"
    }
   ],
   "source": [
    "DataFrame(list(zip(dates, cfs, discounts,\n",
    "                   cfs_p, discounts_p, cfs_m, discounts_m)),\n",
    "          columns = ('date','amount','discounts',\n",
    "                     'amount (+)','discounts (+)','amount (-)','discounts (-)',),\n",
    "          index = range(1,len(dates)+1))"
   ]
  },
  {
   "cell_type": "markdown",
   "metadata": {},
   "source": [
    "where you can see how the discount factors changed when the yield was modified, but the coupon amounts stayed the same."
   ]
  },
  {
   "cell_type": "markdown",
   "metadata": {},
   "source": [
    "#### The solution"
   ]
  },
  {
   "cell_type": "markdown",
   "metadata": {},
   "source": [
    "Unfortunately, there's no easy way to fix the `BondFunctions.duration` method so that it does the right thing. What we can do, instead, is to repeat the calculation above while setting up the bond and the curves so that the yield is used correctly. In particular, we have to link the forecast curve to the flat yield curve being modified..."
   ]
  },
  {
   "cell_type": "code",
   "execution_count": 13,
   "metadata": {},
   "outputs": [],
   "source": [
    "forecast_curve.linkTo(yield_curve)"
   ]
  },
  {
   "cell_type": "markdown",
   "metadata": {},
   "source": [
    "...so that changing the yield will also affect the forecast rate of the coupons."
   ]
  },
  {
   "cell_type": "code",
   "execution_count": 14,
   "metadata": {},
   "outputs": [
    {
     "name": "stdout",
     "output_type": "stream",
     "text": [
      "100.03632329080955\n",
      "100.03698398354918\n"
     ]
    }
   ],
   "source": [
    "y.setValue(0.002 + dy)\n",
    "P_p = bond.dirtyPrice()\n",
    "cfs_p = [ c.amount() for c in bond.cashflows() ]\n",
    "discounts_p = [ yield_curve.discount(d) for d in dates ]\n",
    "print(P_p)\n",
    "\n",
    "y.setValue(0.002 - dy)\n",
    "P_m = bond.dirtyPrice()\n",
    "cfs_m = [ c.amount() for c in bond.cashflows() ]\n",
    "discounts_m = [ yield_curve.discount(d) for d in dates ]\n",
    "print(P_m)\n",
    "\n",
    "y.setValue(0.002)"
   ]
  },
  {
   "cell_type": "markdown",
   "metadata": {},
   "source": [
    "Now the coupon amounts change with the yield (except, of course, the first coupon, whose amount was already fixed)..."
   ]
  },
  {
   "cell_type": "code",
   "execution_count": 15,
   "metadata": {},
   "outputs": [
    {
     "data": {
      "text/html": [
       "<div>\n",
       "<style scoped>\n",
       "    .dataframe tbody tr th:only-of-type {\n",
       "        vertical-align: middle;\n",
       "    }\n",
       "\n",
       "    .dataframe tbody tr th {\n",
       "        vertical-align: top;\n",
       "    }\n",
       "\n",
       "    .dataframe thead th {\n",
       "        text-align: right;\n",
       "    }\n",
       "</style>\n",
       "<table border=\"1\" class=\"dataframe\">\n",
       "  <thead>\n",
       "    <tr style=\"text-align: right;\">\n",
       "      <th></th>\n",
       "      <th>date</th>\n",
       "      <th>amount</th>\n",
       "      <th>discounts</th>\n",
       "      <th>amount (+)</th>\n",
       "      <th>discounts (+)</th>\n",
       "      <th>amount (-)</th>\n",
       "      <th>discounts (-)</th>\n",
       "    </tr>\n",
       "  </thead>\n",
       "  <tbody>\n",
       "    <tr>\n",
       "      <th>1</th>\n",
       "      <td>February 9th, 2015</td>\n",
       "      <td>0.102778</td>\n",
       "      <td>0.999339</td>\n",
       "      <td>0.102778</td>\n",
       "      <td>0.999336</td>\n",
       "      <td>0.102778</td>\n",
       "      <td>0.999343</td>\n",
       "    </tr>\n",
       "    <tr>\n",
       "      <th>2</th>\n",
       "      <td>August 10th, 2015</td>\n",
       "      <td>0.101112</td>\n",
       "      <td>0.998330</td>\n",
       "      <td>0.101617</td>\n",
       "      <td>0.998322</td>\n",
       "      <td>0.100606</td>\n",
       "      <td>0.998338</td>\n",
       "    </tr>\n",
       "    <tr>\n",
       "      <th>3</th>\n",
       "      <td>February 8th, 2016</td>\n",
       "      <td>0.101112</td>\n",
       "      <td>0.997322</td>\n",
       "      <td>0.101617</td>\n",
       "      <td>0.997308</td>\n",
       "      <td>0.100606</td>\n",
       "      <td>0.997335</td>\n",
       "    </tr>\n",
       "    <tr>\n",
       "      <th>4</th>\n",
       "      <td>August 8th, 2016</td>\n",
       "      <td>0.101112</td>\n",
       "      <td>0.996314</td>\n",
       "      <td>0.101617</td>\n",
       "      <td>0.996296</td>\n",
       "      <td>0.100606</td>\n",
       "      <td>0.996333</td>\n",
       "    </tr>\n",
       "    <tr>\n",
       "      <th>5</th>\n",
       "      <td>February 8th, 2017</td>\n",
       "      <td>0.102223</td>\n",
       "      <td>0.995297</td>\n",
       "      <td>0.102734</td>\n",
       "      <td>0.995273</td>\n",
       "      <td>0.101712</td>\n",
       "      <td>0.995320</td>\n",
       "    </tr>\n",
       "    <tr>\n",
       "      <th>6</th>\n",
       "      <td>August 8th, 2017</td>\n",
       "      <td>0.100556</td>\n",
       "      <td>0.994297</td>\n",
       "      <td>0.101059</td>\n",
       "      <td>0.994269</td>\n",
       "      <td>0.100053</td>\n",
       "      <td>0.994325</td>\n",
       "    </tr>\n",
       "    <tr>\n",
       "      <th>7</th>\n",
       "      <td>February 8th, 2018</td>\n",
       "      <td>0.102223</td>\n",
       "      <td>0.993282</td>\n",
       "      <td>0.102734</td>\n",
       "      <td>0.993248</td>\n",
       "      <td>0.101712</td>\n",
       "      <td>0.993315</td>\n",
       "    </tr>\n",
       "    <tr>\n",
       "      <th>8</th>\n",
       "      <td>August 8th, 2018</td>\n",
       "      <td>0.100556</td>\n",
       "      <td>0.992284</td>\n",
       "      <td>0.101059</td>\n",
       "      <td>0.992245</td>\n",
       "      <td>0.100053</td>\n",
       "      <td>0.992322</td>\n",
       "    </tr>\n",
       "    <tr>\n",
       "      <th>9</th>\n",
       "      <td>February 8th, 2019</td>\n",
       "      <td>0.102223</td>\n",
       "      <td>0.991270</td>\n",
       "      <td>0.102734</td>\n",
       "      <td>0.991227</td>\n",
       "      <td>0.101712</td>\n",
       "      <td>0.991314</td>\n",
       "    </tr>\n",
       "    <tr>\n",
       "      <th>10</th>\n",
       "      <td>August 8th, 2019</td>\n",
       "      <td>0.100556</td>\n",
       "      <td>0.990275</td>\n",
       "      <td>0.101059</td>\n",
       "      <td>0.990226</td>\n",
       "      <td>0.100053</td>\n",
       "      <td>0.990323</td>\n",
       "    </tr>\n",
       "    <tr>\n",
       "      <th>11</th>\n",
       "      <td>August 8th, 2019</td>\n",
       "      <td>100.000000</td>\n",
       "      <td>0.990275</td>\n",
       "      <td>100.000000</td>\n",
       "      <td>0.990226</td>\n",
       "      <td>100.000000</td>\n",
       "      <td>0.990323</td>\n",
       "    </tr>\n",
       "  </tbody>\n",
       "</table>\n",
       "</div>"
      ],
      "text/plain": [
       "                  date      amount  discounts  amount (+)  discounts (+)  \\\n",
       "1   February 9th, 2015    0.102778   0.999339    0.102778       0.999336   \n",
       "2    August 10th, 2015    0.101112   0.998330    0.101617       0.998322   \n",
       "3   February 8th, 2016    0.101112   0.997322    0.101617       0.997308   \n",
       "4     August 8th, 2016    0.101112   0.996314    0.101617       0.996296   \n",
       "5   February 8th, 2017    0.102223   0.995297    0.102734       0.995273   \n",
       "6     August 8th, 2017    0.100556   0.994297    0.101059       0.994269   \n",
       "7   February 8th, 2018    0.102223   0.993282    0.102734       0.993248   \n",
       "8     August 8th, 2018    0.100556   0.992284    0.101059       0.992245   \n",
       "9   February 8th, 2019    0.102223   0.991270    0.102734       0.991227   \n",
       "10    August 8th, 2019    0.100556   0.990275    0.101059       0.990226   \n",
       "11    August 8th, 2019  100.000000   0.990275  100.000000       0.990226   \n",
       "\n",
       "    amount (-)  discounts (-)  \n",
       "1     0.102778       0.999343  \n",
       "2     0.100606       0.998338  \n",
       "3     0.100606       0.997335  \n",
       "4     0.100606       0.996333  \n",
       "5     0.101712       0.995320  \n",
       "6     0.100053       0.994325  \n",
       "7     0.101712       0.993315  \n",
       "8     0.100053       0.992322  \n",
       "9     0.101712       0.991314  \n",
       "10    0.100053       0.990323  \n",
       "11  100.000000       0.990323  "
      ]
     },
     "execution_count": 15,
     "metadata": {},
     "output_type": "execute_result"
    }
   ],
   "source": [
    "DataFrame(list(zip(dates, cfs, discounts, cfs_p,\n",
    "                   discounts_p, cfs_m, discounts_m)),\n",
    "          columns = ('date','amount','discounts',\n",
    "                     'amount (+)','discounts (+)','amount (-)','discounts (-)',),\n",
    "          index = range(1,len(dates)+1))"
   ]
  },
  {
   "cell_type": "markdown",
   "metadata": {},
   "source": [
    "...and the duration is calculated correctly, thus approximating the four months to the next coupon."
   ]
  },
  {
   "cell_type": "code",
   "execution_count": 16,
   "metadata": {},
   "outputs": [
    {
     "name": "stdout",
     "output_type": "stream",
     "text": [
      "0.33022533022465994\n"
     ]
    }
   ],
   "source": [
    "print(-(1/P)*(P_p - P_m)/(2*dy))"
   ]
  },
  {
   "cell_type": "markdown",
   "metadata": {},
   "source": [
    "This also holds if the discounting curve is dependent, but not the same as the forecast curve; e.g., as in the case of an added credit spread:"
   ]
  },
  {
   "cell_type": "code",
   "execution_count": 17,
   "metadata": {},
   "outputs": [],
   "source": [
    "discount_curve = ZeroSpreadedTermStructure(forecast_curve,\n",
    "                                           QuoteHandle(SimpleQuote(0.001)))\n",
    "bond.setPricingEngine(DiscountingBondEngine(YieldTermStructureHandle(discount_curve)))"
   ]
  },
  {
   "cell_type": "markdown",
   "metadata": {},
   "source": [
    "This causes the price to decrease due to the increased discount factors..."
   ]
  },
  {
   "cell_type": "code",
   "execution_count": 18,
   "metadata": {},
   "outputs": [
    {
     "name": "stdout",
     "output_type": "stream",
     "text": [
      "99.55107926688962\n"
     ]
    }
   ],
   "source": [
    "P = bond.dirtyPrice()\n",
    "cfs = [ c.amount() for c in bond.cashflows() ]\n",
    "discounts = [ discount_curve.discount(d) for d in dates ]\n",
    "print(P)"
   ]
  },
  {
   "cell_type": "markdown",
   "metadata": {},
   "source": [
    "...but the coupon amounts are still the same."
   ]
  },
  {
   "cell_type": "code",
   "execution_count": 19,
   "metadata": {},
   "outputs": [
    {
     "data": {
      "text/html": [
       "<div>\n",
       "<style scoped>\n",
       "    .dataframe tbody tr th:only-of-type {\n",
       "        vertical-align: middle;\n",
       "    }\n",
       "\n",
       "    .dataframe tbody tr th {\n",
       "        vertical-align: top;\n",
       "    }\n",
       "\n",
       "    .dataframe thead th {\n",
       "        text-align: right;\n",
       "    }\n",
       "</style>\n",
       "<table border=\"1\" class=\"dataframe\">\n",
       "  <thead>\n",
       "    <tr style=\"text-align: right;\">\n",
       "      <th></th>\n",
       "      <th>date</th>\n",
       "      <th>amount</th>\n",
       "      <th>discount</th>\n",
       "    </tr>\n",
       "  </thead>\n",
       "  <tbody>\n",
       "    <tr>\n",
       "      <th>1</th>\n",
       "      <td>February 9th, 2015</td>\n",
       "      <td>0.102778</td>\n",
       "      <td>0.999009</td>\n",
       "    </tr>\n",
       "    <tr>\n",
       "      <th>2</th>\n",
       "      <td>August 10th, 2015</td>\n",
       "      <td>0.101112</td>\n",
       "      <td>0.997496</td>\n",
       "    </tr>\n",
       "    <tr>\n",
       "      <th>3</th>\n",
       "      <td>February 8th, 2016</td>\n",
       "      <td>0.101112</td>\n",
       "      <td>0.995984</td>\n",
       "    </tr>\n",
       "    <tr>\n",
       "      <th>4</th>\n",
       "      <td>August 8th, 2016</td>\n",
       "      <td>0.101112</td>\n",
       "      <td>0.994475</td>\n",
       "    </tr>\n",
       "    <tr>\n",
       "      <th>5</th>\n",
       "      <td>February 8th, 2017</td>\n",
       "      <td>0.102223</td>\n",
       "      <td>0.992952</td>\n",
       "    </tr>\n",
       "    <tr>\n",
       "      <th>6</th>\n",
       "      <td>August 8th, 2017</td>\n",
       "      <td>0.100556</td>\n",
       "      <td>0.991456</td>\n",
       "    </tr>\n",
       "    <tr>\n",
       "      <th>7</th>\n",
       "      <td>February 8th, 2018</td>\n",
       "      <td>0.102223</td>\n",
       "      <td>0.989938</td>\n",
       "    </tr>\n",
       "    <tr>\n",
       "      <th>8</th>\n",
       "      <td>August 8th, 2018</td>\n",
       "      <td>0.100556</td>\n",
       "      <td>0.988446</td>\n",
       "    </tr>\n",
       "    <tr>\n",
       "      <th>9</th>\n",
       "      <td>February 8th, 2019</td>\n",
       "      <td>0.102223</td>\n",
       "      <td>0.986932</td>\n",
       "    </tr>\n",
       "    <tr>\n",
       "      <th>10</th>\n",
       "      <td>August 8th, 2019</td>\n",
       "      <td>0.100556</td>\n",
       "      <td>0.985445</td>\n",
       "    </tr>\n",
       "    <tr>\n",
       "      <th>11</th>\n",
       "      <td>August 8th, 2019</td>\n",
       "      <td>100.000000</td>\n",
       "      <td>0.985445</td>\n",
       "    </tr>\n",
       "  </tbody>\n",
       "</table>\n",
       "</div>"
      ],
      "text/plain": [
       "                  date      amount  discount\n",
       "1   February 9th, 2015    0.102778  0.999009\n",
       "2    August 10th, 2015    0.101112  0.997496\n",
       "3   February 8th, 2016    0.101112  0.995984\n",
       "4     August 8th, 2016    0.101112  0.994475\n",
       "5   February 8th, 2017    0.102223  0.992952\n",
       "6     August 8th, 2017    0.100556  0.991456\n",
       "7   February 8th, 2018    0.102223  0.989938\n",
       "8     August 8th, 2018    0.100556  0.988446\n",
       "9   February 8th, 2019    0.102223  0.986932\n",
       "10    August 8th, 2019    0.100556  0.985445\n",
       "11    August 8th, 2019  100.000000  0.985445"
      ]
     },
     "execution_count": 19,
     "metadata": {},
     "output_type": "execute_result"
    }
   ],
   "source": [
    "DataFrame(list(zip(dates, cfs, discounts)),\n",
    "          columns = ('date','amount','discount'),\n",
    "          index = range(1,len(dates)+1))"
   ]
  },
  {
   "cell_type": "markdown",
   "metadata": {},
   "source": [
    "The price derivative is calculated in the same way as above..."
   ]
  },
  {
   "cell_type": "code",
   "execution_count": 20,
   "metadata": {},
   "outputs": [
    {
     "name": "stdout",
     "output_type": "stream",
     "text": [
      "99.55075966035385\n",
      "99.55139887578544\n"
     ]
    }
   ],
   "source": [
    "y.setValue(0.002 + dy)\n",
    "P_p = bond.dirtyPrice()\n",
    "print(P_p)\n",
    "\n",
    "y.setValue(0.002 - dy)\n",
    "P_m = bond.dirtyPrice()\n",
    "print(P_m)\n",
    "\n",
    "y.setValue(0.002)"
   ]
  },
  {
   "cell_type": "code",
   "execution_count": 21,
   "metadata": {},
   "outputs": [
    {
     "name": "stdout",
     "output_type": "stream",
     "text": [
      "0.3210489711903113\n"
     ]
    }
   ],
   "source": [
    "print(-(1/P)*(P_p - P_m)/(2*dy))"
   ]
  },
  {
   "cell_type": "markdown",
   "metadata": {},
   "source": [
    "...and yields a similar result."
   ]
  }
 ],
 "metadata": {
  "kernelspec": {
   "display_name": "Python 3",
   "language": "python",
   "name": "python3"
  },
  "language_info": {
   "codemirror_mode": {
    "name": "ipython",
    "version": 3
   },
   "file_extension": ".py",
   "mimetype": "text/x-python",
   "name": "python",
   "nbconvert_exporter": "python",
   "pygments_lexer": "ipython3",
   "version": "3.6.5"
  }
 },
 "nbformat": 4,
 "nbformat_minor": 1
}
