{
 "cells": [
  {
   "cell_type": "markdown",
   "metadata": {},
   "source": [
    "# Heston model parameter calibration in QuantLib Python & SciPy"
   ]
  },
  {
   "cell_type": "markdown",
   "metadata": {},
   "source": [
    "I have discussed parameter calibration using the QuantLib solvers in the earlier chapter. In this chapter I want to show how you can use QuantLib Python and the Python SciPy library to do parameter calibration. This exercise opens us to use more robust solvers available in the Python open source libraries. QuantLib's strength is all financial models. SciPy's strength is all the solvers and numerical methods. So here, I will show you how you can make the best of both worlds. We will start as usual by importing the modules."
   ]
  },
  {
   "cell_type": "code",
   "execution_count": 1,
   "metadata": {},
   "outputs": [],
   "source": [
    "from QuantLib import *\n",
    "from math import pow, sqrt\n",
    "import numpy as np\n",
    "from scipy.optimize import root"
   ]
  },
  {
   "cell_type": "markdown",
   "metadata": {},
   "source": [
    "Let's construct some of the basic dependencies such as the yield and dividend term structures. "
   ]
  },
  {
   "cell_type": "code",
   "execution_count": 2,
   "metadata": {},
   "outputs": [],
   "source": [
    "day_count = Actual365Fixed()\n",
    "calendar = UnitedStates()\n",
    "calculation_date = Date(6, 11, 2015)\n",
    "\n",
    "spot = 659.37\n",
    "Settings.instance().evaluationDate = calculation_date\n",
    "\n",
    "risk_free_rate = 0.01\n",
    "dividend_rate = 0.0\n",
    "yield_ts = YieldTermStructureHandle(\n",
    "    FlatForward(calculation_date, risk_free_rate, day_count))\n",
    "dividend_ts = YieldTermStructureHandle(\n",
    "    FlatForward(calculation_date, dividend_rate, day_count))"
   ]
  },
  {
   "cell_type": "markdown",
   "metadata": {},
   "source": [
    "Following is a sample grid of volatilities for different expiration and strikes."
   ]
  },
  {
   "cell_type": "code",
   "execution_count": 3,
   "metadata": {},
   "outputs": [],
   "source": [
    "expiration_dates = [Date(6,12,2015), Date(6,1,2016), Date(6,2,2016),\n",
    "                    Date(6,3,2016), Date(6,4,2016), Date(6,5,2016), \n",
    "                    Date(6,6,2016), Date(6,7,2016), Date(6,8,2016),\n",
    "                    Date(6,9,2016), Date(6,10,2016), Date(6,11,2016), \n",
    "                    Date(6,12,2016), Date(6,1,2017), Date(6,2,2017),\n",
    "                    Date(6,3,2017), Date(6,4,2017), Date(6,5,2017), \n",
    "                    Date(6,6,2017), Date(6,7,2017), Date(6,8,2017),\n",
    "                    Date(6,9,2017), Date(6,10,2017), Date(6,11,2017)]\n",
    "strikes = [527.50, 560.46, 593.43, 626.40, 659.37, 692.34, 725.31, 758.28]\n",
    "data = [\n",
    "[0.37819, 0.34177, 0.30394, 0.27832, 0.26453, 0.25916, 0.25941, 0.26127],\n",
    "[0.3445, 0.31769, 0.2933, 0.27614, 0.26575, 0.25729, 0.25228, 0.25202],\n",
    "[0.37419, 0.35372, 0.33729, 0.32492, 0.31601, 0.30883, 0.30036, 0.29568],\n",
    "[0.37498, 0.35847, 0.34475, 0.33399, 0.32715, 0.31943, 0.31098, 0.30506],\n",
    "[0.35941, 0.34516, 0.33296, 0.32275, 0.31867, 0.30969, 0.30239, 0.29631],\n",
    "[0.35521, 0.34242, 0.33154, 0.3219, 0.31948, 0.31096, 0.30424, 0.2984],\n",
    "[0.35442, 0.34267, 0.33288, 0.32374, 0.32245, 0.31474, 0.30838, 0.30283],\n",
    "[0.35384, 0.34286, 0.33386, 0.32507, 0.3246, 0.31745, 0.31135, 0.306],\n",
    "[0.35338, 0.343, 0.33464, 0.32614, 0.3263, 0.31961, 0.31371, 0.30852],\n",
    "[0.35301, 0.34312, 0.33526, 0.32698, 0.32766, 0.32132, 0.31558, 0.31052],\n",
    "[0.35272, 0.34322, 0.33574, 0.32765, 0.32873, 0.32267, 0.31705, 0.31209],\n",
    "[0.35246, 0.3433, 0.33617, 0.32822, 0.32965, 0.32383, 0.31831, 0.31344],\n",
    "[0.35226, 0.34336, 0.33651, 0.32869, 0.3304, 0.32477, 0.31934, 0.31453],\n",
    "[0.35207, 0.34342, 0.33681, 0.32911, 0.33106, 0.32561, 0.32025, 0.3155],\n",
    "[0.35171, 0.34327, 0.33679, 0.32931, 0.3319, 0.32665, 0.32139, 0.31675],\n",
    "[0.35128, 0.343, 0.33658, 0.32937, 0.33276, 0.32769, 0.32255, 0.31802],\n",
    "[0.35086, 0.34274, 0.33637, 0.32943, 0.3336, 0.32872, 0.32368, 0.31927],\n",
    "[0.35049, 0.34252, 0.33618, 0.32948, 0.33432, 0.32959, 0.32465, 0.32034],\n",
    "[0.35016, 0.34231, 0.33602, 0.32953, 0.33498, 0.3304, 0.32554, 0.32132],\n",
    "[0.34986, 0.34213, 0.33587, 0.32957, 0.33556, 0.3311, 0.32631, 0.32217],\n",
    "[0.34959, 0.34196, 0.33573, 0.32961, 0.3361, 0.33176, 0.32704, 0.32296],\n",
    "[0.34934, 0.34181, 0.33561, 0.32964, 0.33658, 0.33235, 0.32769, 0.32368],\n",
    "[0.34912, 0.34167, 0.3355, 0.32967, 0.33701, 0.33288, 0.32827, 0.32432],\n",
    "[0.34891, 0.34154, 0.33539, 0.3297, 0.33742, 0.33337, 0.32881, 0.32492]]"
   ]
  },
  {
   "cell_type": "markdown",
   "metadata": {},
   "source": [
    "I have abstracted some of the repetitive methods into python functions. The function `setup_helpers` will construct the Heston model helpers and returns an array of these objects. The `cost_function_generator` is a method to set the cost function and will be used by the SciPy modules. The `calibration_report` lets us evaluate the quality of the fit. The `setup_model` method initializes the `HestonModel` and the `AnalyticHestonEngine` prior to calibration."
   ]
  },
  {
   "cell_type": "code",
   "execution_count": 4,
   "metadata": {},
   "outputs": [],
   "source": [
    "def setup_helpers(engine, expiration_dates, strikes, \n",
    "                  data, ref_date, spot, yield_ts, \n",
    "                  dividend_ts):\n",
    "    heston_helpers = []\n",
    "    grid_data = []\n",
    "    for i, date in enumerate(expiration_dates):\n",
    "        for j, s in enumerate(strikes):\n",
    "            t = (date - ref_date )\n",
    "            p = Period(t, Days)\n",
    "            vols = data[i][j]\n",
    "            helper = HestonModelHelper(\n",
    "                p, calendar, spot, s, \n",
    "                QuoteHandle(SimpleQuote(vols)),\n",
    "                yield_ts, dividend_ts)\n",
    "            helper.setPricingEngine(engine)\n",
    "            heston_helpers.append(helper)\n",
    "            grid_data.append((date, s))\n",
    "    return heston_helpers, grid_data\n",
    "\n",
    "def cost_function_generator(model, helpers,norm=False):\n",
    "    def cost_function(params):\n",
    "        params_ = Array(list(params))\n",
    "        model.setParams(params_)\n",
    "        error = [h.calibrationError() for h in helpers]\n",
    "        if norm:\n",
    "            return np.sqrt(np.sum(np.abs(error)))\n",
    "        else:\n",
    "            return error\n",
    "    return cost_function\n",
    "\n",
    "def calibration_report(helpers, grid_data, detailed=False):\n",
    "    avg = 0.0\n",
    "    if detailed:\n",
    "        print(\"%15s %25s %15s %15s %20s\" % (\n",
    "            \"Strikes\", \"Expiry\", \"Market Value\", \n",
    "            \"Model Value\", \"Relative Error (%)\"))\n",
    "        print(\"=\"*100)\n",
    "    for i, opt in enumerate(helpers):\n",
    "        err = (opt.modelValue()/opt.marketValue() - 1.0)\n",
    "        date,strike = grid_data[i]\n",
    "        if detailed:\n",
    "            print(\"%15.2f %25s %14.5f %15.5f %20.7f \" % (\n",
    "                strike, str(date), opt.marketValue(), \n",
    "                opt.modelValue(), \n",
    "                100.0*(opt.modelValue()/opt.marketValue() - 1.0)))\n",
    "        avg += abs(err)\n",
    "    avg = avg*100.0/len(helpers)\n",
    "    if detailed: print(\"-\"*100)\n",
    "    summary = \"Average Abs Error (%%) : %5.9f\" % (avg)\n",
    "    print(summary)\n",
    "    return avg\n",
    "    \n",
    "def setup_model(_yield_ts, _dividend_ts, _spot, \n",
    "                init_condition=(0.02,0.2,0.5,0.1,0.01)):\n",
    "    theta, kappa, sigma, rho, v0 = init_condition\n",
    "    process = HestonProcess(_yield_ts, _dividend_ts, \n",
    "                           QuoteHandle(SimpleQuote(_spot)), \n",
    "                           v0, kappa, theta, sigma, rho)\n",
    "    model = HestonModel(process)\n",
    "    engine = AnalyticHestonEngine(model) \n",
    "    return model, engine\n",
    "summary= []"
   ]
  },
  {
   "cell_type": "markdown",
   "metadata": {},
   "source": [
    "#### Comparing Different Calibration Methods\n",
    "\n",
    "Solvers such as Levenberg-Marquardt find local minima and are very sensitive to the initial conditions. Depending on the starting conditions for your solver, you could end up with a good set of parameters with good convergence or not so good set of parameters. We will look at two initial conditions for different solvers and see how the local minima solvers perform. We will compare this with differential evolution that looks for global minima. \n",
    "\n",
    "We will setup the Heston model with two different initial conditions:\n",
    "    - theta, kappa, sigma, rho, v0 = (0.02, 0.2, 0.5, 0.1, 0.01)\n",
    "    - theta, kappa, sigma, rho, v0 = (0.07, 0.5, 0.1, 0.1, 0.1)"
   ]
  },
  {
   "cell_type": "markdown",
   "metadata": {},
   "source": [
    "#### Local Solvers"
   ]
  },
  {
   "cell_type": "markdown",
   "metadata": {},
   "source": [
    "##### Using QuantLib Levenberg-Marquardt Solver"
   ]
  },
  {
   "cell_type": "markdown",
   "metadata": {},
   "source": [
    "As a first step, let's look at QuantLib's Levenberg-Marquardt solver. The initial condition considered is `theta, kappa, sigma, rho, v0 = (0.02,0.2,0.5,0.1,0.01)`"
   ]
  },
  {
   "cell_type": "code",
   "execution_count": 5,
   "metadata": {},
   "outputs": [],
   "source": [
    "model1, engine1 = setup_model(\n",
    "    yield_ts, dividend_ts, spot, \n",
    "    init_condition=(0.02,0.2,0.5,0.1,0.01))\n",
    "heston_helpers1, grid_data1 = setup_helpers(\n",
    "    engine1, expiration_dates, strikes, data, \n",
    "    calculation_date, spot, yield_ts, dividend_ts\n",
    ")\n",
    "initial_condition = list(model1.params())"
   ]
  },
  {
   "cell_type": "code",
   "execution_count": 6,
   "metadata": {},
   "outputs": [
    {
     "name": "stdout",
     "output_type": "stream",
     "text": [
      "theta = 0.125748, kappa = 7.915000, sigma = 1.887854, rho = -0.364942, v0 = 0.055397\n",
      "Average Abs Error (%) : 3.015268051\n",
      "CPU times: user 2.8 s, sys: 0 ns, total: 2.8 s\n",
      "Wall time: 2.8 s\n"
     ]
    }
   ],
   "source": [
    "%%time\n",
    "lm = LevenbergMarquardt(1e-8, 1e-8, 1e-8)\n",
    "model1.calibrate(heston_helpers1, lm, \n",
    "                 EndCriteria(500, 300, 1.0e-8,1.0e-8, 1.0e-8))\n",
    "theta, kappa, sigma, rho, v0 = model1.params()\n",
    "print(\"theta = %f, kappa = %f, sigma = %f, rho = %f, v0 = %f\" % \\\n",
    "    (theta, kappa, sigma, rho, v0))\n",
    "error = calibration_report(heston_helpers1, grid_data1)\n",
    "summary.append([\"QL LM1\", error] + list(model1.params()))"
   ]
  },
  {
   "cell_type": "markdown",
   "metadata": {},
   "source": [
    "Methods like Levenberg-Marquardt solve for local minima and do not search for global minima. The solver is very sensitive to the initial conditions. Let's set a different set of initial conditions, and see what happens below. The initial condition considered is `theta, kappa, sigma, rho, v0 = (0.07,0.5,0.1,0.1,0.1)`"
   ]
  },
  {
   "cell_type": "code",
   "execution_count": 7,
   "metadata": {},
   "outputs": [],
   "source": [
    "model1, engine1 = setup_model(\n",
    "    yield_ts, dividend_ts, spot, \n",
    "    init_condition=(0.07,0.5,0.1,0.1,0.1))\n",
    "heston_helpers1, grid_data1 = setup_helpers(\n",
    "    engine1, expiration_dates, strikes, data, \n",
    "    calculation_date, spot, yield_ts, dividend_ts\n",
    ")\n",
    "initial_condition = list(model1.params())"
   ]
  },
  {
   "cell_type": "code",
   "execution_count": 8,
   "metadata": {},
   "outputs": [
    {
     "name": "stdout",
     "output_type": "stream",
     "text": [
      "theta = 0.084523, kappa = 0.000000, sigma = 0.132289, rho = -0.514278, v0 = 0.099928\n",
      "Average Abs Error (%) : 11.007433024\n",
      "CPU times: user 2.91 s, sys: 0 ns, total: 2.91 s\n",
      "Wall time: 2.89 s\n"
     ]
    }
   ],
   "source": [
    "%%time\n",
    "lm = LevenbergMarquardt(1e-8, 1e-8, 1e-8)\n",
    "model1.calibrate(heston_helpers1, lm, \n",
    "                 EndCriteria(500, 300, 1.0e-8,1.0e-8, 1.0e-8))\n",
    "theta, kappa, sigma, rho, v0 = model1.params()\n",
    "print(\"theta = %f, kappa = %f, sigma = %f, rho = %f, v0 = %f\" % \\\n",
    "    (theta, kappa, sigma, rho, v0))\n",
    "error = calibration_report(heston_helpers1, grid_data1)\n",
    "summary.append([\"QL LM2\", error] + list(model1.params()))"
   ]
  },
  {
   "cell_type": "markdown",
   "metadata": {},
   "source": [
    "We see that the solver produces a 11% average of absolute error. This is not particularly great."
   ]
  },
  {
   "cell_type": "markdown",
   "metadata": {},
   "source": [
    "##### Using SciPy Levenberg-Marquardt Solver"
   ]
  },
  {
   "cell_type": "markdown",
   "metadata": {},
   "source": [
    "Here we are going to try the same exercise but using SciPy. SciPy has far more optimization, minimization and root finding algorithms that are very robust. So by leveraging it, we can take advantage of this rich set of options at hand."
   ]
  },
  {
   "cell_type": "code",
   "execution_count": 9,
   "metadata": {},
   "outputs": [],
   "source": [
    "model2, engine2 = setup_model(\n",
    "    yield_ts, dividend_ts, spot, \n",
    "    init_condition=(0.02,0.2,0.5,0.1,0.01))\n",
    "heston_helpers2, grid_data2 = setup_helpers(\n",
    "    engine2, expiration_dates, strikes, data,\n",
    "    calculation_date, spot, yield_ts, dividend_ts\n",
    ")\n",
    "initial_condition = list(model2.params())"
   ]
  },
  {
   "cell_type": "code",
   "execution_count": 10,
   "metadata": {},
   "outputs": [
    {
     "name": "stdout",
     "output_type": "stream",
     "text": [
      "theta = 0.125747, kappa = 7.915687, sigma = 1.887934, rho = -0.364944, v0 = 0.055394\n",
      "Average Abs Error (%) : 3.015252651\n",
      "CPU times: user 3.24 s, sys: 20 ms, total: 3.26 s\n",
      "Wall time: 3.54 s\n"
     ]
    }
   ],
   "source": [
    "%%time\n",
    "cost_function = cost_function_generator(model2, heston_helpers2)\n",
    "sol = root(cost_function, initial_condition, method='lm')\n",
    "theta, kappa, sigma, rho, v0 = model2.params()\n",
    "print(\"theta = %f, kappa = %f, sigma = %f, rho = %f, v0 = %f\" % \\\n",
    "    (theta, kappa, sigma, rho, v0))\n",
    "error = calibration_report(heston_helpers2, grid_data2)\n",
    "summary.append([\"SciPy LM1\", error] + list(model2.params()))"
   ]
  },
  {
   "cell_type": "markdown",
   "metadata": {},
   "source": [
    "The solution for this particular case seems to be fairly robust. Both solvers (QuantLib and SciPy) seem to have landed on more or less the same solution for this particular initial condition. Let's see how SciPy does for the second initial condition considered above -  `theta, kappa, sigma, rho, v0 = (0.07,0.5,0.1,0.1,0.1)`"
   ]
  },
  {
   "cell_type": "code",
   "execution_count": 11,
   "metadata": {},
   "outputs": [],
   "source": [
    "model2, engine2 = setup_model(\n",
    "    yield_ts, dividend_ts, spot,\n",
    "    init_condition=(0.07,0.5,0.1,0.1,0.1))\n",
    "heston_helpers2, grid_data2 = setup_helpers(\n",
    "    engine2, expiration_dates, strikes, data,\n",
    "    calculation_date, spot, yield_ts, dividend_ts\n",
    ")\n",
    "initial_condition = list(model2.params())"
   ]
  },
  {
   "cell_type": "code",
   "execution_count": 12,
   "metadata": {},
   "outputs": [
    {
     "name": "stdout",
     "output_type": "stream",
     "text": [
      "theta = 0.048184, kappa = -0.548903, sigma = 0.197958, rho = -0.999547, v0 = 0.090571\n",
      "Average Abs Error (%) : 7.019499509\n",
      "CPU times: user 20.8 s, sys: 20 ms, total: 20.8 s\n",
      "Wall time: 21.4 s\n"
     ]
    }
   ],
   "source": [
    "%%time\n",
    "cost_function = cost_function_generator(model2, heston_helpers2)\n",
    "sol = root(cost_function, initial_condition, method='lm')\n",
    "theta, kappa, sigma, rho, v0 = model2.params()\n",
    "print(\"theta = %f, kappa = %f, sigma = %f, rho = %f, v0 = %f\" % \\\n",
    "    (theta, kappa, sigma, rho, v0))\n",
    "error = calibration_report(heston_helpers2, grid_data2)\n",
    "summary.append([\"SciPy LM2\", error] + list(model2.params()))"
   ]
  },
  {
   "cell_type": "markdown",
   "metadata": {},
   "source": [
    "For this particular case, SciPy solver has performed significantly better. It would be inappropriate to make loud claims about SciPy's superiority based on one observation. Perhaps this calls for a more detailed study for later."
   ]
  },
  {
   "cell_type": "markdown",
   "metadata": {},
   "source": [
    "##### Using Least Squares Method\n",
    "If you want to use a simpler approach like least squares, you can do that with SciPy. Here is how you would use it."
   ]
  },
  {
   "cell_type": "code",
   "execution_count": 13,
   "metadata": {},
   "outputs": [],
   "source": [
    "from scipy.optimize import least_squares"
   ]
  },
  {
   "cell_type": "code",
   "execution_count": 14,
   "metadata": {},
   "outputs": [],
   "source": [
    "model3, engine3 = setup_model(\n",
    "    yield_ts, dividend_ts, spot, \n",
    "    init_condition=(0.02,0.2,0.5,0.1,0.01))\n",
    "heston_helpers3, grid_data3 = setup_helpers(\n",
    "    engine3, expiration_dates, strikes, data,\n",
    "    calculation_date, spot, yield_ts, dividend_ts\n",
    ")\n",
    "initial_condition = list(model3.params())"
   ]
  },
  {
   "cell_type": "code",
   "execution_count": 15,
   "metadata": {},
   "outputs": [
    {
     "name": "stdout",
     "output_type": "stream",
     "text": [
      "theta = 0.125747, kappa = 7.915814, sigma = 1.887949, rho = -0.364944, v0 = 0.055394\n",
      "Average Abs Error (%) : 3.015251175\n",
      "CPU times: user 4.59 s, sys: 0 ns, total: 4.59 s\n",
      "Wall time: 4.63 s\n"
     ]
    }
   ],
   "source": [
    "%%time\n",
    "cost_function = cost_function_generator(model3, heston_helpers3)\n",
    "sol = least_squares(cost_function, initial_condition)\n",
    "theta, kappa, sigma, rho, v0 = model3.params()\n",
    "print(\"theta = %f, kappa = %f, sigma = %f, rho = %f, v0 = %f\" % \\\n",
    "    (theta, kappa, sigma, rho, v0))\n",
    "error = calibration_report(heston_helpers3, grid_data3)\n",
    "summary.append([\"SciPy LS1\", error] + list(model3.params()))"
   ]
  },
  {
   "cell_type": "markdown",
   "metadata": {},
   "source": [
    "With the second initial condition:"
   ]
  },
  {
   "cell_type": "code",
   "execution_count": 16,
   "metadata": {},
   "outputs": [],
   "source": [
    "model3, engine3 = setup_model(\n",
    "    yield_ts, dividend_ts, spot, \n",
    "    init_condition=(0.07,0.5,0.1,0.1,0.1))\n",
    "heston_helpers3, grid_data3 = setup_helpers(\n",
    "    engine3, expiration_dates, strikes, data,\n",
    "    calculation_date, spot, yield_ts, dividend_ts\n",
    ")\n",
    "initial_condition = list(model3.params())"
   ]
  },
  {
   "cell_type": "code",
   "execution_count": 17,
   "metadata": {},
   "outputs": [
    {
     "name": "stdout",
     "output_type": "stream",
     "text": [
      "theta = 3.136774, kappa = 0.000005, sigma = -0.000245, rho = -0.000010, v0 = 1.597904\n",
      "Average Abs Error (%) : 5.096414042\n",
      "CPU times: user 27.9 s, sys: 80 ms, total: 28 s\n",
      "Wall time: 29.7 s\n"
     ]
    }
   ],
   "source": [
    "%%time\n",
    "cost_function = cost_function_generator(model3, heston_helpers3)\n",
    "sol = least_squares(cost_function, initial_condition)\n",
    "theta, kappa, sigma, rho, v0 = model3.params()\n",
    "print(\"theta = %f, kappa = %f, sigma = %f, rho = %f, v0 = %f\" % \\\n",
    "    (theta, kappa, sigma, rho, v0))\n",
    "error = calibration_report(heston_helpers3, grid_data3)\n",
    "summary.append([\"SciPy LS2\", error] + list(model3.params()))"
   ]
  },
  {
   "cell_type": "markdown",
   "metadata": {},
   "source": [
    "#### Global Solvers"
   ]
  },
  {
   "cell_type": "markdown",
   "metadata": {},
   "source": [
    "##### Using Differential Evolution"
   ]
  },
  {
   "cell_type": "markdown",
   "metadata": {},
   "source": [
    "The above methods are more suited to finding local minima. One method that makes an attempt at searching for global minima is the differential evolution. Both QuantLib and SciPy have implementations of this method. SciPy however has a lot more bells and whistles to tune and calibrate the methodology. Let's take a look at SciPy's `differential_evolution` methodology."
   ]
  },
  {
   "cell_type": "code",
   "execution_count": 18,
   "metadata": {},
   "outputs": [],
   "source": [
    "from scipy.optimize import differential_evolution"
   ]
  },
  {
   "cell_type": "code",
   "execution_count": 19,
   "metadata": {},
   "outputs": [],
   "source": [
    "model4, engine4 = setup_model(yield_ts, dividend_ts, spot)\n",
    "heston_helpers4, grid_data4 = setup_helpers(\n",
    "    engine4, expiration_dates, strikes, data,\n",
    "    calculation_date, spot, yield_ts, dividend_ts\n",
    ")\n",
    "initial_condition = list(model4.params())\n",
    "bounds = [(0,1),(0.01,15), (0.01,1.), (-1,1), (0,1.0) ]"
   ]
  },
  {
   "cell_type": "code",
   "execution_count": 20,
   "metadata": {},
   "outputs": [
    {
     "name": "stdout",
     "output_type": "stream",
     "text": [
      "theta = 0.123607, kappa = 4.718829, sigma = 0.897901, rho = -0.595593, v0 = 0.079324\n",
      "Average Abs Error (%) : 2.864749340\n",
      "CPU times: user 1min 28s, sys: 370 ms, total: 1min 28s\n",
      "Wall time: 1min 30s\n"
     ]
    }
   ],
   "source": [
    "%%time\n",
    "cost_function = cost_function_generator(\n",
    "    model4, heston_helpers4, norm=True)\n",
    "sol = differential_evolution(cost_function, bounds, maxiter=100)\n",
    "theta, kappa, sigma, rho, v0 = model4.params()\n",
    "print(\"theta = %f, kappa = %f, sigma = %f, rho = %f, v0 = %f\" % \\\n",
    "    (theta, kappa, sigma, rho, v0))\n",
    "error = calibration_report(heston_helpers4, grid_data4)\n",
    "summary.append([\"SciPy DE1\", error] + list(model4.params()))"
   ]
  },
  {
   "cell_type": "markdown",
   "metadata": {},
   "source": [
    "In the above example, I am setting the variable `maxiter` in order to limit the time taken. In production scenarios, you may want to try a larger number or not provide any value and default to 1000. This can help search a larger area of the parameter space."
   ]
  },
  {
   "cell_type": "code",
   "execution_count": 21,
   "metadata": {},
   "outputs": [],
   "source": [
    "model4, engine4 = setup_model(yield_ts, dividend_ts, spot)\n",
    "heston_helpers4, grid_data4 = setup_helpers(\n",
    "    engine4, expiration_dates, strikes, data,\n",
    "    calculation_date, spot, yield_ts, dividend_ts\n",
    ")\n",
    "initial_condition = list(model4.params())\n",
    "bounds = [(0,1),(0.01,15), (0.01,1.), (-1,1), (0,1.0) ]"
   ]
  },
  {
   "cell_type": "code",
   "execution_count": 22,
   "metadata": {},
   "outputs": [
    {
     "name": "stdout",
     "output_type": "stream",
     "text": [
      "theta = 0.121953, kappa = 4.963114, sigma = 0.813166, rho = -0.650423, v0 = 0.079030\n",
      "Average Abs Error (%) : 2.882908440\n",
      "CPU times: user 1min 37s, sys: 380 ms, total: 1min 38s\n",
      "Wall time: 1min 42s\n"
     ]
    }
   ],
   "source": [
    "%%time\n",
    "cost_function = cost_function_generator(\n",
    "    model4, heston_helpers4, norm=True)\n",
    "sol = differential_evolution(cost_function, bounds, maxiter=100)\n",
    "theta, kappa, sigma, rho, v0 = model4.params()\n",
    "print(\"theta = %f, kappa = %f, sigma = %f, rho = %f, v0 = %f\" % \\\n",
    "    (theta, kappa, sigma, rho, v0))\n",
    "error = calibration_report(heston_helpers4, grid_data4)\n",
    "summary.append([\"SciPy DE2\", error] + list(model4.params()))"
   ]
  },
  {
   "cell_type": "markdown",
   "metadata": {},
   "source": [
    "##### Basin Hopping Algorithm\n",
    "Here we will use the Basin Hopping (annealing-like) method to solve for the parameters. A couple things to make note here. The Basin Hopping method works best when used with a minimizer. Here I played with various minimizers and finally decided to use something that supports bounds checking. Without bounds checking, I often ended with `nan` and did not have a meaningful solution in the end. \n",
    "\n",
    "I have chosen bounds based on a very basic reasoning. One needs careful reasoning to use appropriate bounds for the problem at hand."
   ]
  },
  {
   "cell_type": "code",
   "execution_count": 23,
   "metadata": {},
   "outputs": [],
   "source": [
    "from scipy.optimize import basinhopping"
   ]
  },
  {
   "cell_type": "code",
   "execution_count": 24,
   "metadata": {},
   "outputs": [],
   "source": [
    "class MyBounds(object):\n",
    "     def __init__(self, xmin=[0.,0.01,0.01,-1,0], xmax=[1,15,1,1,1.0] ):\n",
    "         self.xmax = np.array(xmax)\n",
    "         self.xmin = np.array(xmin)\n",
    "     def __call__(self, **kwargs):\n",
    "         x = kwargs[\"x_new\"]\n",
    "         tmax = bool(np.all(x <= self.xmax))\n",
    "         tmin = bool(np.all(x >= self.xmin))\n",
    "         return tmax and tmin\n",
    "bounds = [(0,1),(0.01,15), (0.01,1.), (-1,1), (0,1.0) ]"
   ]
  },
  {
   "cell_type": "code",
   "execution_count": 25,
   "metadata": {},
   "outputs": [],
   "source": [
    "model5, engine5 = setup_model(\n",
    "    yield_ts, dividend_ts, spot,\n",
    "    init_condition=(0.02,0.2,0.5,0.1,0.01))\n",
    "heston_helpers5, grid_data5 = setup_helpers(\n",
    "    engine5, expiration_dates, strikes, data,\n",
    "    calculation_date, spot, yield_ts, dividend_ts\n",
    ")\n",
    "initial_condition = list(model5.params())"
   ]
  },
  {
   "cell_type": "code",
   "execution_count": 26,
   "metadata": {},
   "outputs": [
    {
     "name": "stdout",
     "output_type": "stream",
     "text": [
      "theta = 0.123462, kappa = 5.069027, sigma = 0.998750, rho = -0.564407, v0 = 0.079309\n",
      "Average Abs Error (%) : 2.850721046\n",
      "CPU times: user 1min 54s, sys: 170 ms, total: 1min 54s\n",
      "Wall time: 1min 54s\n"
     ]
    }
   ],
   "source": [
    "%%time\n",
    "mybound = MyBounds()\n",
    "minimizer_kwargs = {\"method\": \"L-BFGS-B\", \"bounds\": bounds }\n",
    "cost_function = cost_function_generator(\n",
    "    model5, heston_helpers5, norm=True)\n",
    "sol = basinhopping(cost_function, initial_condition, niter=5,\n",
    "                   minimizer_kwargs=minimizer_kwargs,\n",
    "                   stepsize=0.005,\n",
    "                   accept_test=mybound,\n",
    "                   interval=10)\n",
    "theta, kappa, sigma, rho, v0 = model5.params()\n",
    "print(\"theta = %f, kappa = %f, sigma = %f, rho = %f, v0 = %f\" % \\\n",
    "    (theta, kappa, sigma, rho, v0))\n",
    "error = calibration_report(heston_helpers5, grid_data5)\n",
    "summary.append([\"SciPy BH1\", error] + list(model5.params()))"
   ]
  },
  {
   "cell_type": "code",
   "execution_count": 27,
   "metadata": {},
   "outputs": [],
   "source": [
    "model5, engine5 = setup_model(\n",
    "    yield_ts, dividend_ts, spot,\n",
    "    init_condition=(0.07,0.5,0.1,0.1,0.1))\n",
    "heston_helpers5, grid_data5 = setup_helpers(\n",
    "    engine5, expiration_dates, strikes, data,\n",
    "    calculation_date, spot, yield_ts, dividend_ts\n",
    ")\n",
    "initial_condition = list(model5.params())"
   ]
  },
  {
   "cell_type": "code",
   "execution_count": 28,
   "metadata": {},
   "outputs": [
    {
     "name": "stdout",
     "output_type": "stream",
     "text": [
      "theta = 0.123144, kappa = 5.171826, sigma = 0.999454, rho = -0.565149, v0 = 0.079094\n",
      "Average Abs Error (%) : 2.850452127\n",
      "CPU times: user 1min 43s, sys: 70 ms, total: 1min 44s\n",
      "Wall time: 1min 44s\n"
     ]
    }
   ],
   "source": [
    "%%time\n",
    "mybound = MyBounds()\n",
    "minimizer_kwargs = {\"method\": \"L-BFGS-B\", \"bounds\": bounds}\n",
    "cost_function = cost_function_generator(\n",
    "    model5, heston_helpers5, norm=True)\n",
    "sol = basinhopping(cost_function, initial_condition, niter=5,\n",
    "                   minimizer_kwargs=minimizer_kwargs,\n",
    "                   stepsize=0.005,\n",
    "                   accept_test=mybound,\n",
    "                   interval=10)\n",
    "theta, kappa, sigma, rho, v0 = model5.params()\n",
    "print(\"theta = %f, kappa = %f, sigma = %f, rho = %f, v0 = %f\" % \\\n",
    "    (theta, kappa, sigma, rho, v0))\n",
    "error = calibration_report(heston_helpers5, grid_data5)\n",
    "summary.append([\"SciPy BH2\", error] + list(model5.params()))"
   ]
  },
  {
   "cell_type": "markdown",
   "metadata": {},
   "source": [
    "#### Summary\n",
    "Here is a summary of all the results with the calibration error overall, and the respective parameters. All the local minima methods give parameters that are very different based on the initial condition that we start with. This is different in contrary with the global minimization methods that all end up in more or less the same proximity of each other.\n",
    "\n",
    "The global solvers such as Differential Evolution and Basin Hopping are capable of finding the global minima and it is sometimes a question of computation resources. Here, I have lower \"iterations\" set for these routines for faster solving. Even with such a short threshold, we get fairly good solution set. I think it is premature to compare the effectiveness of different global solvers just based on the results here. The [scipy optimize](http://docs.scipy.org/doc/scipy/reference/optimize.html) package has detailed documentation with various tuning parameters. I haven't exploited the nuances much, and is left as an exercise for the reader."
   ]
  },
  {
   "cell_type": "code",
   "execution_count": 29,
   "metadata": {},
   "outputs": [
    {
     "data": {
      "text/html": [
       "<div>\n",
       "<style scoped>\n",
       "    .dataframe tbody tr th:only-of-type {\n",
       "        vertical-align: middle;\n",
       "    }\n",
       "\n",
       "    .dataframe tbody tr th {\n",
       "        vertical-align: top;\n",
       "    }\n",
       "\n",
       "    .dataframe thead th {\n",
       "        text-align: right;\n",
       "    }\n",
       "</style>\n",
       "<table border=\"1\" class=\"dataframe\">\n",
       "  <thead>\n",
       "    <tr style=\"text-align: right;\">\n",
       "      <th></th>\n",
       "      <th>Name</th>\n",
       "      <th>Avg Abs Error</th>\n",
       "      <th>Theta</th>\n",
       "      <th>Kappa</th>\n",
       "      <th>Sigma</th>\n",
       "      <th>Rho</th>\n",
       "      <th>V0</th>\n",
       "    </tr>\n",
       "  </thead>\n",
       "  <tbody>\n",
       "    <tr>\n",
       "      <th></th>\n",
       "      <td>QL LM1</td>\n",
       "      <td>3.015268</td>\n",
       "      <td>0.125748</td>\n",
       "      <td>7.915000e+00</td>\n",
       "      <td>1.887854</td>\n",
       "      <td>-0.364942</td>\n",
       "      <td>0.055397</td>\n",
       "    </tr>\n",
       "    <tr>\n",
       "      <th></th>\n",
       "      <td>QL LM2</td>\n",
       "      <td>11.007433</td>\n",
       "      <td>0.084523</td>\n",
       "      <td>1.625740e-08</td>\n",
       "      <td>0.132289</td>\n",
       "      <td>-0.514278</td>\n",
       "      <td>0.099928</td>\n",
       "    </tr>\n",
       "    <tr>\n",
       "      <th></th>\n",
       "      <td>SciPy LM1</td>\n",
       "      <td>3.015253</td>\n",
       "      <td>0.125747</td>\n",
       "      <td>7.915687e+00</td>\n",
       "      <td>1.887934</td>\n",
       "      <td>-0.364944</td>\n",
       "      <td>0.055394</td>\n",
       "    </tr>\n",
       "    <tr>\n",
       "      <th></th>\n",
       "      <td>SciPy LM2</td>\n",
       "      <td>7.019500</td>\n",
       "      <td>0.048184</td>\n",
       "      <td>-5.489029e-01</td>\n",
       "      <td>0.197958</td>\n",
       "      <td>-0.999547</td>\n",
       "      <td>0.090571</td>\n",
       "    </tr>\n",
       "    <tr>\n",
       "      <th></th>\n",
       "      <td>SciPy LS1</td>\n",
       "      <td>3.015251</td>\n",
       "      <td>0.125747</td>\n",
       "      <td>7.915814e+00</td>\n",
       "      <td>1.887949</td>\n",
       "      <td>-0.364944</td>\n",
       "      <td>0.055394</td>\n",
       "    </tr>\n",
       "    <tr>\n",
       "      <th></th>\n",
       "      <td>SciPy LS2</td>\n",
       "      <td>5.096414</td>\n",
       "      <td>3.136774</td>\n",
       "      <td>4.896844e-06</td>\n",
       "      <td>-0.000245</td>\n",
       "      <td>-0.000010</td>\n",
       "      <td>1.597904</td>\n",
       "    </tr>\n",
       "    <tr>\n",
       "      <th></th>\n",
       "      <td>SciPy DE1</td>\n",
       "      <td>2.864749</td>\n",
       "      <td>0.123607</td>\n",
       "      <td>4.718829e+00</td>\n",
       "      <td>0.897901</td>\n",
       "      <td>-0.595593</td>\n",
       "      <td>0.079324</td>\n",
       "    </tr>\n",
       "    <tr>\n",
       "      <th></th>\n",
       "      <td>SciPy DE2</td>\n",
       "      <td>2.882908</td>\n",
       "      <td>0.121953</td>\n",
       "      <td>4.963114e+00</td>\n",
       "      <td>0.813166</td>\n",
       "      <td>-0.650423</td>\n",
       "      <td>0.079030</td>\n",
       "    </tr>\n",
       "    <tr>\n",
       "      <th></th>\n",
       "      <td>SciPy BH1</td>\n",
       "      <td>2.850721</td>\n",
       "      <td>0.123462</td>\n",
       "      <td>5.069027e+00</td>\n",
       "      <td>0.998750</td>\n",
       "      <td>-0.564407</td>\n",
       "      <td>0.079309</td>\n",
       "    </tr>\n",
       "    <tr>\n",
       "      <th></th>\n",
       "      <td>SciPy BH2</td>\n",
       "      <td>2.850452</td>\n",
       "      <td>0.123144</td>\n",
       "      <td>5.171826e+00</td>\n",
       "      <td>0.999454</td>\n",
       "      <td>-0.565149</td>\n",
       "      <td>0.079094</td>\n",
       "    </tr>\n",
       "  </tbody>\n",
       "</table>\n",
       "</div>"
      ],
      "text/plain": [
       "       Name  Avg Abs Error     Theta         Kappa     Sigma       Rho  \\\n",
       "     QL LM1       3.015268  0.125748  7.915000e+00  1.887854 -0.364942   \n",
       "     QL LM2      11.007433  0.084523  1.625740e-08  0.132289 -0.514278   \n",
       "  SciPy LM1       3.015253  0.125747  7.915687e+00  1.887934 -0.364944   \n",
       "  SciPy LM2       7.019500  0.048184 -5.489029e-01  0.197958 -0.999547   \n",
       "  SciPy LS1       3.015251  0.125747  7.915814e+00  1.887949 -0.364944   \n",
       "  SciPy LS2       5.096414  3.136774  4.896844e-06 -0.000245 -0.000010   \n",
       "  SciPy DE1       2.864749  0.123607  4.718829e+00  0.897901 -0.595593   \n",
       "  SciPy DE2       2.882908  0.121953  4.963114e+00  0.813166 -0.650423   \n",
       "  SciPy BH1       2.850721  0.123462  5.069027e+00  0.998750 -0.564407   \n",
       "  SciPy BH2       2.850452  0.123144  5.171826e+00  0.999454 -0.565149   \n",
       "\n",
       "        V0  \n",
       "  0.055397  \n",
       "  0.099928  \n",
       "  0.055394  \n",
       "  0.090571  \n",
       "  0.055394  \n",
       "  1.597904  \n",
       "  0.079324  \n",
       "  0.079030  \n",
       "  0.079309  \n",
       "  0.079094  "
      ]
     },
     "execution_count": 29,
     "metadata": {},
     "output_type": "execute_result"
    }
   ],
   "source": [
    "from pandas import DataFrame\n",
    "DataFrame(\n",
    "    summary,\n",
    "    columns=[\"Name\", \"Avg Abs Error\",\"Theta\", \"Kappa\", \"Sigma\", \"Rho\", \"V0\"],\n",
    "    index=['']*len(summary))"
   ]
  }
 ],
 "metadata": {
  "kernelspec": {
   "display_name": "Python 3",
   "language": "python",
   "name": "python3"
  },
  "language_info": {
   "codemirror_mode": {
    "name": "ipython",
    "version": 3
   },
   "file_extension": ".py",
   "mimetype": "text/x-python",
   "name": "python",
   "nbconvert_exporter": "python",
   "pygments_lexer": "ipython3",
   "version": "3.6.5"
  }
 },
 "nbformat": 4,
 "nbformat_minor": 1
}
