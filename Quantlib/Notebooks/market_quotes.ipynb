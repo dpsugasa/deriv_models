{
 "cells": [
  {
   "cell_type": "markdown",
   "metadata": {},
   "source": [
    "# Market quotes"
   ]
  },
  {
   "cell_type": "markdown",
   "metadata": {},
   "source": [
    "In this notebook, I'll show a pitfall to avoid when multiple quotes need to be updated."
   ]
  },
  {
   "cell_type": "code",
   "execution_count": 1,
   "metadata": {},
   "outputs": [],
   "source": [
    "%matplotlib inline\n",
    "import numpy as np\n",
    "import utils"
   ]
  },
  {
   "cell_type": "code",
   "execution_count": 2,
   "metadata": {},
   "outputs": [],
   "source": [
    "from QuantLib import *"
   ]
  },
  {
   "cell_type": "code",
   "execution_count": 3,
   "metadata": {},
   "outputs": [],
   "source": [
    "today = Date(17, October, 2016)\n",
    "Settings.instance().evaluationDate = today"
   ]
  },
  {
   "cell_type": "markdown",
   "metadata": {},
   "source": [
    "#### Setting the stage"
   ]
  },
  {
   "cell_type": "markdown",
   "metadata": {},
   "source": [
    "For illustration purposes, I'll create a bond curve using the same data and algorithm shown in one of the QuantLib C++ examples; namely, I'll give to the curve the functional form defined by the Nelson-Siegel model and I'll fit it to a number of bond.  Here are the maturities in years and the coupons of the bonds I'll use:"
   ]
  },
  {
   "cell_type": "code",
   "execution_count": 4,
   "metadata": {},
   "outputs": [],
   "source": [
    "data = [ (2, 0.02),  (4, 0.0225),  (6, 0.025),  (8, 0.0275),\n",
    "        (10, 0.03), (12, 0.0325), (14, 0.035), (16, 0.0375),\n",
    "        (18, 0.04), (20, 0.0425), (22, 0.045), (24, 0.0475),\n",
    "        (26, 0.05), (28, 0.0525), (30, 0.055)]"
   ]
  },
  {
   "cell_type": "markdown",
   "metadata": {},
   "source": [
    "For simplicity, I'll use the same start date, frequency and conventions for all the bonds; this doesn't affect the point I'm going to make in the rest of the notebook. I'll also assume that all bonds currently price at 100.  I'll skip over the details of building the curve now; the one thing you'll need to remember is that it depends on the quotes modeling the bond prices."
   ]
  },
  {
   "cell_type": "code",
   "execution_count": 5,
   "metadata": {},
   "outputs": [],
   "source": [
    "calendar = TARGET()\n",
    "settlement = calendar.advance(today, 3, Days)\n",
    "quotes = []\n",
    "helpers = []\n",
    "for length, coupon in data:\n",
    "    maturity = calendar.advance(settlement, length, Years)\n",
    "    schedule = Schedule(settlement, maturity, Period(Annual),\n",
    "                        calendar, ModifiedFollowing, ModifiedFollowing,\n",
    "                        DateGeneration.Backward, False)\n",
    "    quote = SimpleQuote(100.0)\n",
    "    quotes.append(quote)\n",
    "    helpers.append(FixedRateBondHelper(QuoteHandle(quote), 3, 100.0,\n",
    "                                       schedule, [coupon], SimpleDayCounter(),\n",
    "                                       ModifiedFollowing))\n",
    "\n",
    "curve = FittedBondDiscountCurve(0, calendar, helpers,\n",
    "                                SimpleDayCounter(), NelsonSiegelFitting())"
   ]
  },
  {
   "cell_type": "markdown",
   "metadata": {},
   "source": [
    "Here is a visualization of the curve as discount factors versus time in years:"
   ]
  },
  {
   "cell_type": "code",
   "execution_count": 6,
   "metadata": {},
   "outputs": [
    {
     "data": {
      "image/png": "[encoded data removed]",
      "text/plain": [
       "<Figure size 864x576 with 1 Axes>"
      ]
     },
     "metadata": {},
     "output_type": "display_data"
    }
   ],
   "source": [
    "sample_times = np.linspace(0.0, 30.0, 301)\n",
    "sample_discounts = [ curve.discount(t) for t in sample_times ]\n",
    "\n",
    "f, ax = utils.plot()\n",
    "ax.set_ylim(0.0, 1.0)\n",
    "ax.plot(sample_times, sample_discounts);"
   ]
  },
  {
   "cell_type": "markdown",
   "metadata": {},
   "source": [
    "Also, here's a bond priced by discounting its coupons on the curve:"
   ]
  },
  {
   "cell_type": "code",
   "execution_count": 7,
   "metadata": {},
   "outputs": [
    {
     "name": "stdout",
     "output_type": "stream",
     "text": [
      "105.77449628297312\n"
     ]
    }
   ],
   "source": [
    "schedule = Schedule(today, calendar.advance(today, 15, Years),\n",
    "                    Period(Semiannual), calendar,\n",
    "                    ModifiedFollowing, ModifiedFollowing,\n",
    "                    DateGeneration.Backward, False)\n",
    "bond = FixedRateBond(3, 100.0, schedule, [0.04], Actual360())\n",
    "bond.setPricingEngine(DiscountingBondEngine(YieldTermStructureHandle(curve)))\n",
    "print(bond.cleanPrice())"
   ]
  },
  {
   "cell_type": "markdown",
   "metadata": {},
   "source": [
    "#### \"It looked like a good idea at the time\""
   ]
  },
  {
   "cell_type": "markdown",
   "metadata": {},
   "source": [
    "Now, let's add an observer that checks whether the bond is out of date, and if so recalculates the bond and outputs its new price.  In Python, I can do this by defining a function to be triggered by the notifications, by passing it to the observer I'm creating, and (this last step is as in C++) by registering the observer with the bond.\n",
    "\n",
    "As a reminder of how the whole thing works: the changes will come from the market quotes, but the observer doesn't need to be concerned with that and only registers with the object it's ultimately interested in; in this case, the bond whose price it wants to monitor.  A change in any of the market quotes will cause the quote to notify the helper, which in turn will notify the curve, and so on to the pricing engine, the bond and finally our observer."
   ]
  },
  {
   "cell_type": "code",
   "execution_count": 8,
   "metadata": {},
   "outputs": [],
   "source": [
    "prices = []\n",
    "def print_price():\n",
    "    p = bond.cleanPrice()\n",
    "    prices.append(p)\n",
    "    print(p)\n",
    "o = Observer(print_price)\n",
    "o.registerWith(bond)"
   ]
  },
  {
   "cell_type": "markdown",
   "metadata": {},
   "source": [
    "The function also appends the new price to a list that can be used later as a history of the prices. Let's see if it works:"
   ]
  },
  {
   "cell_type": "code",
   "execution_count": 9,
   "metadata": {},
   "outputs": [
    {
     "name": "stdout",
     "output_type": "stream",
     "text": [
      "105.77449628297312\n",
      "105.8656042875337\n"
     ]
    }
   ],
   "source": [
    "quotes[2].setValue(101.0)"
   ]
  },
  {
   "cell_type": "markdown",
   "metadata": {},
   "source": [
    "Whoa, what was that? The function was called twice, which surprised me too when I wrote this notebook.  It turns out that, due to a glitch of multiple inheritance, the curve sends two notifications to the instrument. After the first, the instrument recalculates but the curve doesn't (which explains why the price doesn't change); after the second, the curve updates and the price changes.  This should be fixed in a future release, but again it doesn't change the point of the notebook.\n",
    "\n",
    "Let's set the quote back to its original value."
   ]
  },
  {
   "cell_type": "code",
   "execution_count": 10,
   "metadata": {},
   "outputs": [
    {
     "name": "stdout",
     "output_type": "stream",
     "text": [
      "105.8656042875337\n",
      "105.77449634664224\n"
     ]
    }
   ],
   "source": [
    "quotes[2].setValue(100.0)"
   ]
  },
  {
   "cell_type": "markdown",
   "metadata": {},
   "source": [
    "Now, let's say the market moves up and, accordingly, all the bonds prices increase to 101.  Therefore, we need to update all the quotes."
   ]
  },
  {
   "cell_type": "code",
   "execution_count": 11,
   "metadata": {},
   "outputs": [
    {
     "name": "stdout",
     "output_type": "stream",
     "text": [
      "105.77449634664224\n",
      "105.28388426272507\n",
      "105.28388426272507\n",
      "105.2186288679219\n",
      "105.2186288679219\n",
      "105.3195906444377\n",
      "105.3195906444377\n",
      "105.4878663448759\n",
      "105.4878663448759\n",
      "105.68032070200927\n",
      "105.68032070200927\n",
      "105.87580370787278\n",
      "105.87580370787278\n",
      "106.06201680440225\n",
      "106.06201680440225\n",
      "106.23044624497663\n",
      "106.23044624497663\n",
      "106.37409230798896\n",
      "106.37409230798896\n",
      "106.48708840758337\n",
      "106.48708840758337\n",
      "106.56505206364592\n",
      "106.56505206364592\n",
      "106.60570726105742\n",
      "106.60570726105742\n",
      "106.60980187075381\n",
      "106.60980187075381\n",
      "106.58011186582736\n",
      "106.58011186582736\n",
      "106.52070699740128\n"
     ]
    }
   ],
   "source": [
    "prices = []\n",
    "for q in quotes:\n",
    "    q.setValue(101.0)"
   ]
  },
  {
   "cell_type": "markdown",
   "metadata": {},
   "source": [
    "As you see, each of the updates sent a notification and thus triggered a recalculation.  We can use the list of prices we collected (slicing it to skip duplicate values) to visualize how the price changed."
   ]
  },
  {
   "cell_type": "code",
   "execution_count": 12,
   "metadata": {},
   "outputs": [
    {
     "data": {
      "image/png": "[encoded data removed]",
      "text/plain": [
       "<Figure size 864x576 with 1 Axes>"
      ]
     },
     "metadata": {},
     "output_type": "display_data"
    }
   ],
   "source": [
    "unique_prices = prices[::2]+prices[-1::]\n",
    "_, ax = utils.plot()\n",
    "ax.plot(unique_prices, '-');"
   ]
  },
  {
   "cell_type": "markdown",
   "metadata": {},
   "source": [
    "The first price is the original one, and the last price is the final one; but all those in between are calculated based on an incomplete set of changes in which some quotes were updated and some others weren't.  Those are all incorrect, and (since they went both above and below the range of the real prices) outright dangerous in case there were any triggers on price levels that could have fired. Clearly, this is not the kind of behavior we want our code to have."
   ]
  },
  {
   "cell_type": "markdown",
   "metadata": {},
   "source": [
    "#### Alternatives?"
   ]
  },
  {
   "cell_type": "markdown",
   "metadata": {},
   "source": [
    "There are workarounds we can apply. For instance, it's possible to freeze the bond temporarily, preventing it from forwarding notifications."
   ]
  },
  {
   "cell_type": "code",
   "execution_count": 13,
   "metadata": {},
   "outputs": [],
   "source": [
    "bond.freeze()"
   ]
  },
  {
   "cell_type": "markdown",
   "metadata": {},
   "source": [
    "Now, notifications won't be forwarded by the bond and thus won't reach our observer. In fact, the following loop won't print anything."
   ]
  },
  {
   "cell_type": "code",
   "execution_count": 14,
   "metadata": {},
   "outputs": [],
   "source": [
    "for q in quotes:\n",
    "    q.setValue(101.5)"
   ]
  },
  {
   "cell_type": "markdown",
   "metadata": {},
   "source": [
    "When we restore the bond, it sends a single notification, which triggers only one recalculation and gives the correct final price."
   ]
  },
  {
   "cell_type": "code",
   "execution_count": 15,
   "metadata": {},
   "outputs": [
    {
     "name": "stdout",
     "output_type": "stream",
     "text": [
      "106.85839373944943\n"
     ]
    }
   ],
   "source": [
    "bond.unfreeze()"
   ]
  },
  {
   "cell_type": "markdown",
   "metadata": {},
   "source": [
    "When using C++, it's also possible to disable and re-enable notifications globally, which makes it more convenient.\n",
    "\n",
    "But it all feels a bit convoluted anyway. The whole thing will be simpler if we discard the initial idea and don't force a recalculation for each notification."
   ]
  },
  {
   "cell_type": "markdown",
   "metadata": {},
   "source": [
    "#### Pull, don't push"
   ]
  },
  {
   "cell_type": "markdown",
   "metadata": {},
   "source": [
    "It's preferable for updates to _not_ trigger recalculation and just set some kind of dirty flag, just like the instruments in the library do.  This way, you can control when the calculation occur.\n",
    "\n",
    "To do so, let's remove the observer we have in place..."
   ]
  },
  {
   "cell_type": "code",
   "execution_count": 16,
   "metadata": {},
   "outputs": [],
   "source": [
    "del o"
   ]
  },
  {
   "cell_type": "markdown",
   "metadata": {},
   "source": [
    "...and instead create one that raises a flag when it's notified."
   ]
  },
  {
   "cell_type": "code",
   "execution_count": 17,
   "metadata": {},
   "outputs": [],
   "source": [
    "flag = {}\n",
    "flag['status'] = 'down'\n",
    "def set_flag():\n",
    "    flag['status'] = 'up'\n",
    "o = Observer(set_flag)\n",
    "o.registerWith(bond)"
   ]
  },
  {
   "cell_type": "markdown",
   "metadata": {},
   "source": [
    "The flag is initially down..."
   ]
  },
  {
   "cell_type": "code",
   "execution_count": 18,
   "metadata": {},
   "outputs": [
    {
     "name": "stdout",
     "output_type": "stream",
     "text": [
      "{'status': 'down'}\n"
     ]
    }
   ],
   "source": [
    "print(flag)"
   ]
  },
  {
   "cell_type": "markdown",
   "metadata": {},
   "source": [
    "...and quote changes cause it to be raised."
   ]
  },
  {
   "cell_type": "code",
   "execution_count": 19,
   "metadata": {},
   "outputs": [],
   "source": [
    "for q in quotes:\n",
    "    q.setValue(100.0)"
   ]
  },
  {
   "cell_type": "code",
   "execution_count": 20,
   "metadata": {},
   "outputs": [
    {
     "name": "stdout",
     "output_type": "stream",
     "text": [
      "{'status': 'up'}\n"
     ]
    }
   ],
   "source": [
    "print(flag)"
   ]
  },
  {
   "cell_type": "markdown",
   "metadata": {},
   "source": [
    "At this point, we can ask the bond for its final price."
   ]
  },
  {
   "cell_type": "code",
   "execution_count": 21,
   "metadata": {},
   "outputs": [
    {
     "data": {
      "text/plain": [
       "105.77449635334463"
      ]
     },
     "execution_count": 21,
     "metadata": {},
     "output_type": "execute_result"
    }
   ],
   "source": [
    "bond.cleanPrice()"
   ]
  },
  {
   "cell_type": "markdown",
   "metadata": {},
   "source": [
    "Better yet, we can let the instrument do that: let's remove the second observer, too, and just ask the instrument for its price after the changes.  The instrument keeps track of whether it needs recalculation, so it doesn't need us to keep track of it."
   ]
  },
  {
   "cell_type": "code",
   "execution_count": 22,
   "metadata": {},
   "outputs": [],
   "source": [
    "del o"
   ]
  },
  {
   "cell_type": "code",
   "execution_count": 23,
   "metadata": {},
   "outputs": [],
   "source": [
    "for q in quotes:\n",
    "    q.setValue(101.0)"
   ]
  },
  {
   "cell_type": "code",
   "execution_count": 24,
   "metadata": {},
   "outputs": [
    {
     "data": {
      "text/plain": [
       "106.52070687248381"
      ]
     },
     "execution_count": 24,
     "metadata": {},
     "output_type": "execute_result"
    }
   ],
   "source": [
    "bond.cleanPrice()"
   ]
  },
  {
   "cell_type": "markdown",
   "metadata": {},
   "source": [
    "So, less is more? In this case, it seems so."
   ]
  }
 ],
 "metadata": {
  "kernelspec": {
   "display_name": "Python 3",
   "language": "python",
   "name": "python3"
  },
  "language_info": {
   "codemirror_mode": {
    "name": "ipython",
    "version": 3
   },
   "file_extension": ".py",
   "mimetype": "text/x-python",
   "name": "python",
   "nbconvert_exporter": "python",
   "pygments_lexer": "ipython3",
   "version": "3.6.5"
  }
 },
 "nbformat": 4,
 "nbformat_minor": 1
}
