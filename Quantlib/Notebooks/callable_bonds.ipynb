{
 "cells": [
  {
   "cell_type": "markdown",
   "metadata": {},
   "source": [
    "# Modeling callable bonds"
   ]
  },
  {
   "cell_type": "markdown",
   "metadata": {},
   "source": [
    "In this chapter, lets take a look at  valuing callable bonds in QuantLib Python. The approach to construct a callable bond is lot similar to [modeling a fixed rate bond in QuantLib](#fixedratebonds). The one additional input that we need to provide here is the details on the call or put schedule. If you follow the fixed rate bond example already, this should be fairly straight forward.\n",
    "\n",
    "As always, we will start with some initializations and imports."
   ]
  },
  {
   "cell_type": "code",
   "execution_count": 1,
   "metadata": {},
   "outputs": [],
   "source": [
    "from QuantLib import *\n",
    "import numpy as np\n",
    "import utils\n",
    "%matplotlib inline\n",
    "calc_date = Date(16,8,2016)\n",
    "Settings.instance().evaluationDate = calc_date"
   ]
  },
  {
   "cell_type": "markdown",
   "metadata": {},
   "source": [
    "For simplicity, let us assume that the interest rate term structure is a flat yield curve at 3.5%. You can refer to [constructing yield curves](#yc-construction) for more details on constructing yield curves."
   ]
  },
  {
   "cell_type": "code",
   "execution_count": 2,
   "metadata": {},
   "outputs": [],
   "source": [
    "day_count = ActualActual(ActualActual.Bond)\n",
    "rate = 0.035\n",
    "ts = FlatForward(calc_date, rate, \n",
    "                 day_count, Compounded, \n",
    "                 Semiannual)\n",
    "ts_handle = YieldTermStructureHandle(ts)"
   ]
  },
  {
   "cell_type": "markdown",
   "metadata": {},
   "source": [
    "The call and put schedules for the callable bond is created as shown below. We create a container for holding all the call and put dates using the `CallabilitySchedule` class. You can add each call using `Callability` class and noting as `Callability.Call` or `Callability.Put` for either a call or put."
   ]
  },
  {
   "cell_type": "code",
   "execution_count": 3,
   "metadata": {},
   "outputs": [],
   "source": [
    "callability_schedule = CallabilitySchedule()\n",
    "call_price = 100.0\n",
    "call_date = Date(15,September,2016);\n",
    "null_calendar = NullCalendar();\n",
    "for i in range(0,24):\n",
    "    callability_price  = CallabilityPrice(\n",
    "        call_price, CallabilityPrice.Clean)\n",
    "    callability_schedule.append(\n",
    "            Callability(callability_price, \n",
    "                        Callability.Call,\n",
    "                        call_date))\n",
    "\n",
    "    call_date = null_calendar.advance(call_date, 3, \n",
    "                                      Months)"
   ]
  },
  {
   "cell_type": "markdown",
   "metadata": {},
   "source": [
    "What follows next is similar to the `Schedule` that we created in the vanilla fixed rate bond valuation."
   ]
  },
  {
   "cell_type": "code",
   "execution_count": 4,
   "metadata": {},
   "outputs": [],
   "source": [
    "issue_date = Date(16,September,2014)        \n",
    "maturity_date = Date(15,September,2022)\n",
    "calendar = UnitedStates(UnitedStates.GovernmentBond)\n",
    "tenor = Period(Quarterly)\n",
    "accrual_convention = Unadjusted\n",
    "\n",
    "schedule = Schedule(issue_date, maturity_date, tenor,\n",
    "                    calendar, accrual_convention, \n",
    "                    accrual_convention,\n",
    "                    DateGeneration.Backward, False)"
   ]
  },
  {
   "cell_type": "markdown",
   "metadata": {},
   "source": [
    "The callable bond is instantiated using the `CallableFixedRateBond` class, which accepts the bond inputs and the call or put schedule."
   ]
  },
  {
   "cell_type": "code",
   "execution_count": 5,
   "metadata": {},
   "outputs": [],
   "source": [
    "settlement_days = 3\n",
    "face_amount = 100\n",
    "accrual_daycount = ActualActual(ActualActual.Bond)\n",
    "coupon = 0.025\n",
    "\n",
    "\n",
    "bond = CallableFixedRateBond(\n",
    "    settlement_days, face_amount,\n",
    "    schedule, [coupon], accrual_daycount,\n",
    "    Following, face_amount, issue_date,\n",
    "    callability_schedule)"
   ]
  },
  {
   "cell_type": "markdown",
   "metadata": {},
   "source": [
    "In order to value the bond, we need an interest rate model to model the fact that the bond will get called or not in the future depending on where the future interest rates are at. The `TreeCallableFixedRateBondEngine` can be used to value the callable bond. Below, the `value_bond` function prices the callable bond based on the Hull-White model parameter for mean reversion and volatility."
   ]
  },
  {
   "cell_type": "code",
   "execution_count": 6,
   "metadata": {},
   "outputs": [],
   "source": [
    "def value_bond(a, s, grid_points, bond):\n",
    "    model = HullWhite(ts_handle, a, s)\n",
    "    engine = TreeCallableFixedRateBondEngine(model, grid_points)\n",
    "    bond.setPricingEngine(engine)\n",
    "    return bond"
   ]
  },
  {
   "cell_type": "markdown",
   "metadata": {},
   "source": [
    "The callable bond value for a 3% mean reversion and 12% volatility is shown below."
   ]
  },
  {
   "cell_type": "code",
   "execution_count": 7,
   "metadata": {},
   "outputs": [
    {
     "name": "stdout",
     "output_type": "stream",
     "text": [
      "Bond price: 68.376965\n"
     ]
    }
   ],
   "source": [
    "value_bond(0.03, 0.12, 40, bond)\n",
    "print(\"Bond price: %lf\" % bond.cleanPrice())"
   ]
  },
  {
   "cell_type": "markdown",
   "metadata": {},
   "source": [
    "The price sensitivity of callable bonds to that of volatility parameter is shown below. As volatility increases, there is a higher chance of it being callable. Hence the value of the bond decreases."
   ]
  },
  {
   "cell_type": "code",
   "execution_count": 8,
   "metadata": {},
   "outputs": [],
   "source": [
    "sigmas = np.arange(0.001, 0.15, 0.001)\n",
    "prices = [value_bond(0.03, s, 40, bond).cleanPrice() \n",
    "          for s in sigmas]"
   ]
  },
  {
   "cell_type": "code",
   "execution_count": 9,
   "metadata": {},
   "outputs": [
    {
     "data": {
      "image/png": "[encoded data removed]",
      "text/plain": [
       "<Figure size 864x576 with 1 Axes>"
      ]
     },
     "metadata": {},
     "output_type": "display_data"
    }
   ],
   "source": [
    "_, ax = utils.plot()\n",
    "ax.plot(sigmas, prices)\n",
    "ax.set_xlabel(\"Sigma\", size=12)\n",
    "ax.set_ylabel(\"Price\", size=12);"
   ]
  },
  {
   "cell_type": "markdown",
   "metadata": {},
   "source": [
    "The static cash flows can be accessed using the `cashflows` accessor."
   ]
  },
  {
   "cell_type": "code",
   "execution_count": 10,
   "metadata": {},
   "outputs": [
    {
     "data": {
      "text/html": [
       "<div>\n",
       "<style scoped>\n",
       "    .dataframe tbody tr th:only-of-type {\n",
       "        vertical-align: middle;\n",
       "    }\n",
       "\n",
       "    .dataframe tbody tr th {\n",
       "        vertical-align: top;\n",
       "    }\n",
       "\n",
       "    .dataframe thead th {\n",
       "        text-align: right;\n",
       "    }\n",
       "</style>\n",
       "<table border=\"1\" class=\"dataframe\">\n",
       "  <thead>\n",
       "    <tr style=\"text-align: right;\">\n",
       "      <th></th>\n",
       "      <th>Date</th>\n",
       "      <th>Amount</th>\n",
       "    </tr>\n",
       "  </thead>\n",
       "  <tbody>\n",
       "    <tr>\n",
       "      <th>1</th>\n",
       "      <td>December 15th, 2014</td>\n",
       "      <td>0.618132</td>\n",
       "    </tr>\n",
       "    <tr>\n",
       "      <th>2</th>\n",
       "      <td>March 16th, 2015</td>\n",
       "      <td>0.625000</td>\n",
       "    </tr>\n",
       "    <tr>\n",
       "      <th>3</th>\n",
       "      <td>June 15th, 2015</td>\n",
       "      <td>0.625000</td>\n",
       "    </tr>\n",
       "    <tr>\n",
       "      <th>4</th>\n",
       "      <td>September 15th, 2015</td>\n",
       "      <td>0.625000</td>\n",
       "    </tr>\n",
       "    <tr>\n",
       "      <th>5</th>\n",
       "      <td>December 15th, 2015</td>\n",
       "      <td>0.625000</td>\n",
       "    </tr>\n",
       "    <tr>\n",
       "      <th>6</th>\n",
       "      <td>March 15th, 2016</td>\n",
       "      <td>0.625000</td>\n",
       "    </tr>\n",
       "    <tr>\n",
       "      <th>7</th>\n",
       "      <td>June 15th, 2016</td>\n",
       "      <td>0.625000</td>\n",
       "    </tr>\n",
       "    <tr>\n",
       "      <th>8</th>\n",
       "      <td>September 15th, 2016</td>\n",
       "      <td>0.625000</td>\n",
       "    </tr>\n",
       "    <tr>\n",
       "      <th>9</th>\n",
       "      <td>December 15th, 2016</td>\n",
       "      <td>0.625000</td>\n",
       "    </tr>\n",
       "    <tr>\n",
       "      <th>10</th>\n",
       "      <td>March 15th, 2017</td>\n",
       "      <td>0.625000</td>\n",
       "    </tr>\n",
       "    <tr>\n",
       "      <th>11</th>\n",
       "      <td>June 15th, 2017</td>\n",
       "      <td>0.625000</td>\n",
       "    </tr>\n",
       "    <tr>\n",
       "      <th>12</th>\n",
       "      <td>September 15th, 2017</td>\n",
       "      <td>0.625000</td>\n",
       "    </tr>\n",
       "    <tr>\n",
       "      <th>13</th>\n",
       "      <td>December 15th, 2017</td>\n",
       "      <td>0.625000</td>\n",
       "    </tr>\n",
       "    <tr>\n",
       "      <th>14</th>\n",
       "      <td>March 15th, 2018</td>\n",
       "      <td>0.625000</td>\n",
       "    </tr>\n",
       "    <tr>\n",
       "      <th>15</th>\n",
       "      <td>June 15th, 2018</td>\n",
       "      <td>0.625000</td>\n",
       "    </tr>\n",
       "    <tr>\n",
       "      <th>16</th>\n",
       "      <td>September 17th, 2018</td>\n",
       "      <td>0.625000</td>\n",
       "    </tr>\n",
       "    <tr>\n",
       "      <th>17</th>\n",
       "      <td>December 17th, 2018</td>\n",
       "      <td>0.625000</td>\n",
       "    </tr>\n",
       "    <tr>\n",
       "      <th>18</th>\n",
       "      <td>March 15th, 2019</td>\n",
       "      <td>0.625000</td>\n",
       "    </tr>\n",
       "    <tr>\n",
       "      <th>19</th>\n",
       "      <td>June 17th, 2019</td>\n",
       "      <td>0.625000</td>\n",
       "    </tr>\n",
       "    <tr>\n",
       "      <th>20</th>\n",
       "      <td>September 16th, 2019</td>\n",
       "      <td>0.625000</td>\n",
       "    </tr>\n",
       "    <tr>\n",
       "      <th>21</th>\n",
       "      <td>December 16th, 2019</td>\n",
       "      <td>0.625000</td>\n",
       "    </tr>\n",
       "    <tr>\n",
       "      <th>22</th>\n",
       "      <td>March 16th, 2020</td>\n",
       "      <td>0.625000</td>\n",
       "    </tr>\n",
       "    <tr>\n",
       "      <th>23</th>\n",
       "      <td>June 15th, 2020</td>\n",
       "      <td>0.625000</td>\n",
       "    </tr>\n",
       "    <tr>\n",
       "      <th>24</th>\n",
       "      <td>September 15th, 2020</td>\n",
       "      <td>0.625000</td>\n",
       "    </tr>\n",
       "    <tr>\n",
       "      <th>25</th>\n",
       "      <td>December 15th, 2020</td>\n",
       "      <td>0.625000</td>\n",
       "    </tr>\n",
       "    <tr>\n",
       "      <th>26</th>\n",
       "      <td>March 15th, 2021</td>\n",
       "      <td>0.625000</td>\n",
       "    </tr>\n",
       "    <tr>\n",
       "      <th>27</th>\n",
       "      <td>June 15th, 2021</td>\n",
       "      <td>0.625000</td>\n",
       "    </tr>\n",
       "    <tr>\n",
       "      <th>28</th>\n",
       "      <td>September 15th, 2021</td>\n",
       "      <td>0.625000</td>\n",
       "    </tr>\n",
       "    <tr>\n",
       "      <th>29</th>\n",
       "      <td>December 15th, 2021</td>\n",
       "      <td>0.625000</td>\n",
       "    </tr>\n",
       "    <tr>\n",
       "      <th>30</th>\n",
       "      <td>March 15th, 2022</td>\n",
       "      <td>0.625000</td>\n",
       "    </tr>\n",
       "    <tr>\n",
       "      <th>31</th>\n",
       "      <td>June 15th, 2022</td>\n",
       "      <td>0.625000</td>\n",
       "    </tr>\n",
       "    <tr>\n",
       "      <th>32</th>\n",
       "      <td>September 15th, 2022</td>\n",
       "      <td>0.625000</td>\n",
       "    </tr>\n",
       "    <tr>\n",
       "      <th>33</th>\n",
       "      <td>September 15th, 2022</td>\n",
       "      <td>100.000000</td>\n",
       "    </tr>\n",
       "  </tbody>\n",
       "</table>\n",
       "</div>"
      ],
      "text/plain": [
       "                    Date      Amount\n",
       "1    December 15th, 2014    0.618132\n",
       "2       March 16th, 2015    0.625000\n",
       "3        June 15th, 2015    0.625000\n",
       "4   September 15th, 2015    0.625000\n",
       "5    December 15th, 2015    0.625000\n",
       "6       March 15th, 2016    0.625000\n",
       "7        June 15th, 2016    0.625000\n",
       "8   September 15th, 2016    0.625000\n",
       "9    December 15th, 2016    0.625000\n",
       "10      March 15th, 2017    0.625000\n",
       "11       June 15th, 2017    0.625000\n",
       "12  September 15th, 2017    0.625000\n",
       "13   December 15th, 2017    0.625000\n",
       "14      March 15th, 2018    0.625000\n",
       "15       June 15th, 2018    0.625000\n",
       "16  September 17th, 2018    0.625000\n",
       "17   December 17th, 2018    0.625000\n",
       "18      March 15th, 2019    0.625000\n",
       "19       June 17th, 2019    0.625000\n",
       "20  September 16th, 2019    0.625000\n",
       "21   December 16th, 2019    0.625000\n",
       "22      March 16th, 2020    0.625000\n",
       "23       June 15th, 2020    0.625000\n",
       "24  September 15th, 2020    0.625000\n",
       "25   December 15th, 2020    0.625000\n",
       "26      March 15th, 2021    0.625000\n",
       "27       June 15th, 2021    0.625000\n",
       "28  September 15th, 2021    0.625000\n",
       "29   December 15th, 2021    0.625000\n",
       "30      March 15th, 2022    0.625000\n",
       "31       June 15th, 2022    0.625000\n",
       "32  September 15th, 2022    0.625000\n",
       "33  September 15th, 2022  100.000000"
      ]
     },
     "execution_count": 10,
     "metadata": {},
     "output_type": "execute_result"
    }
   ],
   "source": [
    "from pandas import DataFrame\n",
    "DataFrame(\n",
    "    [(cf.date(), cf.amount()) for cf in bond.cashflows()],\n",
    "    columns=[\"Date\", \"Amount\"],\n",
    "    index=range(1, len(bond.cashflows())+1))"
   ]
  },
  {
   "cell_type": "markdown",
   "metadata": {},
   "source": [
    "#### Conclusion\n",
    "\n",
    "Here we explored a minimal example on pricing a callable bond."
   ]
  }
 ],
 "metadata": {
  "kernelspec": {
   "display_name": "Python 3",
   "language": "python",
   "name": "python3"
  },
  "language_info": {
   "codemirror_mode": {
    "name": "ipython",
    "version": 3
   },
   "file_extension": ".py",
   "mimetype": "text/x-python",
   "name": "python",
   "nbconvert_exporter": "python",
   "pygments_lexer": "ipython3",
   "version": "3.6.5"
  }
 },
 "nbformat": 4,
 "nbformat_minor": 1
}
