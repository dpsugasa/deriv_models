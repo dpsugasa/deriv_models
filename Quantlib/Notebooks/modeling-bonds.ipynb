{
 "cells": [
  {
   "cell_type": "markdown",
   "metadata": {},
   "source": [
    "# Modeling fixed rate bonds {#fixedratebonds}\n"
   ]
  },
  {
   "cell_type": "markdown",
   "metadata": {},
   "source": [
    "In this chapter we will consider a simple example to model fixed rate bonds. Let's consider a hypothetical bond with a par value of 100, that pays 6% coupon semi-annually issued on January 15th, 2015 and set to mature on January 15th, 2016. The bond will pay a coupon on July 15th, 2015 and January 15th, 2016. The par amount of 100 will also be paid on the January 15th, 2016.\n",
    "\n",
    "To make things simpler, lets assume that we know the spot rates of the treasury as of January 15th, 2015. The annualized spot rates are 0.5% for 6 months and 0.7% for 1 year point. Lets calculate the net present value of the cash flows directly as shown below.\n"
   ]
  },
  {
   "cell_type": "code",
   "execution_count": 1,
   "metadata": {},
   "outputs": [
    {
     "data": {
      "text/plain": [
       "105.27653992490681"
      ]
     },
     "execution_count": 1,
     "metadata": {},
     "output_type": "execute_result"
    }
   ],
   "source": [
    "3/pow(1+0.005, 0.5) + (100 + 3)/(1+0.007)"
   ]
  },
  {
   "cell_type": "markdown",
   "metadata": {},
   "source": [
    "Here, we discounted the coupon and par payments with the appropriate spot rates. Now we will replicate this calculation using the QuantLib framework. Let's start by importing the `QuantLib` module."
   ]
  },
  {
   "cell_type": "code",
   "execution_count": 2,
   "metadata": {},
   "outputs": [],
   "source": [
    "from QuantLib import *"
   ]
  },
  {
   "cell_type": "markdown",
   "metadata": {},
   "source": [
    "As a first step, we need to construct a yield curve with the given spot rates. This is done using the `ZeroCurve` class as discussed in an [earlier chapter](#yc-construction). "
   ]
  },
  {
   "cell_type": "code",
   "execution_count": 3,
   "metadata": {},
   "outputs": [],
   "source": [
    "calc_date = Date(15, 1, 2015)\n",
    "Settings.instance().evaluationDate = calc_date\n",
    "spot_dates = [Date(15, 1, 2015), Date(15, 7, 2015), Date(15, 1, 2016)]\n",
    "spot_rates = [0.0, 0.005, 0.007]\n",
    "day_count = Thirty360()\n",
    "calendar = UnitedStates()\n",
    "interpolation = Linear()\n",
    "compounding = Compounded\n",
    "compounding_frequency = Annual\n",
    "spot_curve = ZeroCurve(spot_dates, spot_rates, day_count, calendar, \n",
    "                       interpolation, compounding, compounding_frequency)\n",
    "spot_curve_handle = YieldTermStructureHandle(spot_curve)"
   ]
  },
  {
   "cell_type": "markdown",
   "metadata": {},
   "source": [
    "As a next step, we are going to build a fixed rate bond object. In order to construct the `FixedRateBond` object, we will create a schedule for the coupon payments. Creation of `Schedule` object was discussed in an [earlier chapter](#quantlib-basics). "
   ]
  },
  {
   "cell_type": "code",
   "execution_count": 4,
   "metadata": {},
   "outputs": [],
   "source": [
    "issue_date = Date(15, 1, 2015)\n",
    "maturity_date = Date(15, 1, 2016)\n",
    "tenor = Period(Semiannual)\n",
    "calendar = UnitedStates()\n",
    "business_convention = Unadjusted\n",
    "date_generation = DateGeneration.Backward\n",
    "month_end = False\n",
    "schedule = Schedule (issue_date, maturity_date, tenor, \n",
    "                     calendar, business_convention, \n",
    "                     business_convention , date_generation, \n",
    "                     month_end)"
   ]
  },
  {
   "cell_type": "markdown",
   "metadata": {},
   "source": [
    "Let us print the schedule to check if it is in agreement with what we expect it to be. "
   ]
  },
  {
   "cell_type": "code",
   "execution_count": 5,
   "metadata": {},
   "outputs": [
    {
     "data": {
      "text/plain": [
       "[Date(15,1,2015), Date(15,7,2015), Date(15,1,2016)]"
      ]
     },
     "execution_count": 5,
     "metadata": {},
     "output_type": "execute_result"
    }
   ],
   "source": [
    "list(schedule)"
   ]
  },
  {
   "cell_type": "markdown",
   "metadata": {},
   "source": [
    "Now that we have the schedule, we can create the `FixedRateBond` object. The `FixedRateBond` constructor has the following signature.\n",
    "\n",
    "    FixedRateBond(Natural settlementDays,\n",
    "                  Real faceAmount,\n",
    "                  const Schedule& schedule,\n",
    "                  const std::vector<Rate>& coupons,\n",
    "                  const DayCounter& accrualDayCounter,\n",
    "                  BusinessDayConvention paymentConvention = Following,\n",
    "                  Real redemption = 100.0,\n",
    "                  const Date& issueDate = Date(),\n",
    "                  const Calendar& paymentCalendar = Calendar(),\n",
    "                  const Period& exCouponPeriod = Period(),\n",
    "                  const Calendar& exCouponCalendar = Calendar(),\n",
    "                  const BusinessDayConvention exCouponConvention = Unadjusted,\n",
    "                  bool exCouponEndOfMonth = false)\n",
    "\n",
    "Let us create the `FixedRateBond` object below."
   ]
  },
  {
   "cell_type": "code",
   "execution_count": 6,
   "metadata": {},
   "outputs": [],
   "source": [
    "coupon_rate = .06\n",
    "coupons = [coupon_rate]\n",
    "settlement_days = 0\n",
    "face_value = 100\n",
    "\n",
    "fixed_rate_bond = FixedRateBond(settlement_days, \n",
    "                                face_value, \n",
    "                                schedule,\n",
    "                                coupons, \n",
    "                                day_count)"
   ]
  },
  {
   "cell_type": "markdown",
   "metadata": {},
   "source": [
    "Now the we have the fixed rate bond instrument, we need a valuation engine in order to price this bond. The fixed rate bond can be priced using a `DiscountingBondEngine`. The `DiscountingBondEngine` takes the yield curve object as an argument in its constructor. The `setPricingEngine` method in the fixed rate bond instrument is used to set the pricing engine."
   ]
  },
  {
   "cell_type": "code",
   "execution_count": 7,
   "metadata": {},
   "outputs": [],
   "source": [
    "bond_engine = DiscountingBondEngine(spot_curve_handle)\n",
    "fixed_rate_bond.setPricingEngine(bond_engine)"
   ]
  },
  {
   "cell_type": "markdown",
   "metadata": {},
   "source": [
    "Now, the net present value of the bond can be extracted using the `NPV` method."
   ]
  },
  {
   "cell_type": "code",
   "execution_count": 8,
   "metadata": {},
   "outputs": [
    {
     "data": {
      "text/plain": [
       "105.27653992490683"
      ]
     },
     "execution_count": 8,
     "metadata": {},
     "output_type": "execute_result"
    }
   ],
   "source": [
    "fixed_rate_bond.NPV()"
   ]
  },
  {
   "cell_type": "code",
   "execution_count": 9,
   "metadata": {},
   "outputs": [
    {
     "data": {
      "text/plain": [
       "105.27653992490683"
      ]
     },
     "execution_count": 9,
     "metadata": {},
     "output_type": "execute_result"
    }
   ],
   "source": [
    "fixed_rate_bond.cleanPrice()"
   ]
  },
  {
   "cell_type": "markdown",
   "metadata": {},
   "source": [
    "We can also obtain various other analytics for the bond."
   ]
  },
  {
   "cell_type": "code",
   "execution_count": 10,
   "metadata": {},
   "outputs": [
    {
     "data": {
      "text/plain": [
       "0.0"
      ]
     },
     "execution_count": 10,
     "metadata": {},
     "output_type": "execute_result"
    }
   ],
   "source": [
    "fixed_rate_bond.accruedAmount()"
   ]
  },
  {
   "cell_type": "code",
   "execution_count": 11,
   "metadata": {},
   "outputs": [
    {
     "data": {
      "text/plain": [
       "105.27653992490683"
      ]
     },
     "execution_count": 11,
     "metadata": {},
     "output_type": "execute_result"
    }
   ],
   "source": [
    "fixed_rate_bond.dirtyPrice()"
   ]
  },
  {
   "cell_type": "code",
   "execution_count": 12,
   "metadata": {},
   "outputs": [
    {
     "data": {
      "text/plain": [
       "0.006971154634952549"
      ]
     },
     "execution_count": 12,
     "metadata": {},
     "output_type": "execute_result"
    }
   ],
   "source": [
    "fixed_rate_bond.bondYield(day_count,\n",
    "                          compounding,\n",
    "                          compounding_frequency)"
   ]
  }
 ],
 "metadata": {
  "kernelspec": {
   "display_name": "Python 3",
   "language": "python",
   "name": "python3"
  },
  "language_info": {
   "codemirror_mode": {
    "name": "ipython",
    "version": 3
   },
   "file_extension": ".py",
   "mimetype": "text/x-python",
   "name": "python",
   "nbconvert_exporter": "python",
   "pygments_lexer": "ipython3",
   "version": "3.6.5"
  }
 },
 "nbformat": 4,
 "nbformat_minor": 1
}
