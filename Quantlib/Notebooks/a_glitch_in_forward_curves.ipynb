{
 "cells": [
  {
   "cell_type": "markdown",
   "metadata": {},
   "source": [
    "# A glitch in forward-rate curves"
   ]
  },
  {
   "cell_type": "markdown",
   "metadata": {},
   "source": [
    "(Based on [a question asked by Boris Chow](https://sourceforge.net/p/quantlib/mailman/message/34286980/) on the QuantLib mailing list. Thanks!)"
   ]
  },
  {
   "cell_type": "code",
   "execution_count": 1,
   "metadata": {},
   "outputs": [],
   "source": [
    "%matplotlib inline\n",
    "from pandas import DataFrame\n",
    "import numpy as np\n",
    "import utils"
   ]
  },
  {
   "cell_type": "code",
   "execution_count": 2,
   "metadata": {},
   "outputs": [],
   "source": [
    "from QuantLib import *"
   ]
  },
  {
   "cell_type": "code",
   "execution_count": 3,
   "metadata": {},
   "outputs": [],
   "source": [
    "today = Date(24, August, 2015)\n",
    "Settings.instance().evaluationDate = today"
   ]
  },
  {
   "cell_type": "markdown",
   "metadata": {},
   "source": [
    "#### The statement of the case"
   ]
  },
  {
   "cell_type": "markdown",
   "metadata": {},
   "source": [
    "Let's say we have built an interpolated forward-rate curve, by which I mean that it interpolates instantaneous forward rates (for more details, read my other book). We're using a backward-flat interpolation, which corresponds to log-linear discount factors. The dates and forwards are entirely made up; they are just for show."
   ]
  },
  {
   "cell_type": "code",
   "execution_count": 4,
   "metadata": {},
   "outputs": [],
   "source": [
    "dates = [ today ] + [ today + Period(i, Years)\n",
    "                      for i in [1, 2, 3, 5, 10, 20] ]\n",
    "forwards = [ 0.01, 0.03, 0.02, 0.025, 0.035, 0.05, 0.04 ]\n",
    "curve = ForwardCurve(dates, forwards, Actual360())"
   ]
  },
  {
   "cell_type": "markdown",
   "metadata": {},
   "source": [
    "We can ask the curve for its nodes, and it will return those we expect&mdash;that is, those we passed ourselves..."
   ]
  },
  {
   "cell_type": "code",
   "execution_count": 5,
   "metadata": {},
   "outputs": [
    {
     "data": {
      "text/html": [
       "<div>\n",
       "<style scoped>\n",
       "    .dataframe tbody tr th:only-of-type {\n",
       "        vertical-align: middle;\n",
       "    }\n",
       "\n",
       "    .dataframe tbody tr th {\n",
       "        vertical-align: top;\n",
       "    }\n",
       "\n",
       "    .dataframe thead th {\n",
       "        text-align: right;\n",
       "    }\n",
       "</style>\n",
       "<table border=\"1\" class=\"dataframe\">\n",
       "  <thead>\n",
       "    <tr style=\"text-align: right;\">\n",
       "      <th></th>\n",
       "      <th>date</th>\n",
       "      <th>rate</th>\n",
       "    </tr>\n",
       "  </thead>\n",
       "  <tbody>\n",
       "    <tr>\n",
       "      <th></th>\n",
       "      <td>August 24th, 2015</td>\n",
       "      <td>0.010</td>\n",
       "    </tr>\n",
       "    <tr>\n",
       "      <th></th>\n",
       "      <td>August 24th, 2016</td>\n",
       "      <td>0.030</td>\n",
       "    </tr>\n",
       "    <tr>\n",
       "      <th></th>\n",
       "      <td>August 24th, 2017</td>\n",
       "      <td>0.020</td>\n",
       "    </tr>\n",
       "    <tr>\n",
       "      <th></th>\n",
       "      <td>August 24th, 2018</td>\n",
       "      <td>0.025</td>\n",
       "    </tr>\n",
       "    <tr>\n",
       "      <th></th>\n",
       "      <td>August 24th, 2020</td>\n",
       "      <td>0.035</td>\n",
       "    </tr>\n",
       "    <tr>\n",
       "      <th></th>\n",
       "      <td>August 24th, 2025</td>\n",
       "      <td>0.050</td>\n",
       "    </tr>\n",
       "    <tr>\n",
       "      <th></th>\n",
       "      <td>August 24th, 2035</td>\n",
       "      <td>0.040</td>\n",
       "    </tr>\n",
       "  </tbody>\n",
       "</table>\n",
       "</div>"
      ],
      "text/plain": [
       "               date   rate\n",
       "  August 24th, 2015  0.010\n",
       "  August 24th, 2016  0.030\n",
       "  August 24th, 2017  0.020\n",
       "  August 24th, 2018  0.025\n",
       "  August 24th, 2020  0.035\n",
       "  August 24th, 2025  0.050\n",
       "  August 24th, 2035  0.040"
      ]
     },
     "execution_count": 5,
     "metadata": {},
     "output_type": "execute_result"
    }
   ],
   "source": [
    "DataFrame(list(curve.nodes()),\n",
    "          columns = ('date','rate'),\n",
    "          index = ['']*len(dates))"
   ]
  },
  {
   "cell_type": "markdown",
   "metadata": {},
   "source": [
    "...and if we retrieve the instantaneous forward from a date between the nodes, it's the same as that of the following node, as expected for a backward-flat interpolation."
   ]
  },
  {
   "cell_type": "code",
   "execution_count": 6,
   "metadata": {},
   "outputs": [
    {
     "name": "stdout",
     "output_type": "stream",
     "text": [
      "August 24th, 2019\n",
      "3.500000 % Actual/360 continuous compounding\n"
     ]
    }
   ],
   "source": [
    "d = today + Period(4,Years)\n",
    "print(d)\n",
    "print(curve.forwardRate(d, d, curve.dayCounter(), Continuous))"
   ]
  },
  {
   "cell_type": "markdown",
   "metadata": {},
   "source": [
    "We can even plot the whole thing and get the expected shape."
   ]
  },
  {
   "cell_type": "code",
   "execution_count": 7,
   "metadata": {},
   "outputs": [
    {
     "data": {
      "image/png": "[encoded data removed]",
      "text/plain": [
       "<Figure size 864x576 with 1 Axes>"
      ]
     },
     "metadata": {},
     "output_type": "display_data"
    }
   ],
   "source": [
    "sample_times = np.linspace(0.0, 20.0, 401)\n",
    "sample_rates = [ curve.forwardRate(t, t, Continuous).rate()\n",
    "                 for t in sample_times ]\n",
    "\n",
    "f, ax = utils.plot()\n",
    "ax.set_ylim(0.0,0.06)\n",
    "ax.yaxis.set_major_formatter(utils.rate_formatter())\n",
    "ax.plot(sample_times, sample_rates);"
   ]
  },
  {
   "cell_type": "markdown",
   "metadata": {},
   "source": [
    "So it seems all is well with the world. What if we retrieve the instantaneous forward rates at the curve nodes, though?"
   ]
  },
  {
   "cell_type": "code",
   "execution_count": 8,
   "metadata": {},
   "outputs": [
    {
     "data": {
      "text/html": [
       "<div>\n",
       "<style scoped>\n",
       "    .dataframe tbody tr th:only-of-type {\n",
       "        vertical-align: middle;\n",
       "    }\n",
       "\n",
       "    .dataframe tbody tr th {\n",
       "        vertical-align: top;\n",
       "    }\n",
       "\n",
       "    .dataframe thead th {\n",
       "        text-align: right;\n",
       "    }\n",
       "</style>\n",
       "<table border=\"1\" class=\"dataframe\">\n",
       "  <thead>\n",
       "    <tr style=\"text-align: right;\">\n",
       "      <th></th>\n",
       "      <th>date</th>\n",
       "      <th>expected</th>\n",
       "      <th>retrieved</th>\n",
       "    </tr>\n",
       "  </thead>\n",
       "  <tbody>\n",
       "    <tr>\n",
       "      <th></th>\n",
       "      <td>August 24th, 2015</td>\n",
       "      <td>0.010</td>\n",
       "      <td>0.0300</td>\n",
       "    </tr>\n",
       "    <tr>\n",
       "      <th></th>\n",
       "      <td>August 24th, 2016</td>\n",
       "      <td>0.030</td>\n",
       "      <td>0.0250</td>\n",
       "    </tr>\n",
       "    <tr>\n",
       "      <th></th>\n",
       "      <td>August 24th, 2017</td>\n",
       "      <td>0.020</td>\n",
       "      <td>0.0225</td>\n",
       "    </tr>\n",
       "    <tr>\n",
       "      <th></th>\n",
       "      <td>August 24th, 2018</td>\n",
       "      <td>0.025</td>\n",
       "      <td>0.0300</td>\n",
       "    </tr>\n",
       "    <tr>\n",
       "      <th></th>\n",
       "      <td>August 24th, 2020</td>\n",
       "      <td>0.035</td>\n",
       "      <td>0.0425</td>\n",
       "    </tr>\n",
       "    <tr>\n",
       "      <th></th>\n",
       "      <td>August 24th, 2025</td>\n",
       "      <td>0.050</td>\n",
       "      <td>0.0450</td>\n",
       "    </tr>\n",
       "    <tr>\n",
       "      <th></th>\n",
       "      <td>August 24th, 2035</td>\n",
       "      <td>0.040</td>\n",
       "      <td>0.0400</td>\n",
       "    </tr>\n",
       "  </tbody>\n",
       "</table>\n",
       "</div>"
      ],
      "text/plain": [
       "               date  expected  retrieved\n",
       "  August 24th, 2015     0.010     0.0300\n",
       "  August 24th, 2016     0.030     0.0250\n",
       "  August 24th, 2017     0.020     0.0225\n",
       "  August 24th, 2018     0.025     0.0300\n",
       "  August 24th, 2020     0.035     0.0425\n",
       "  August 24th, 2025     0.050     0.0450\n",
       "  August 24th, 2035     0.040     0.0400"
      ]
     },
     "execution_count": 8,
     "metadata": {},
     "output_type": "execute_result"
    }
   ],
   "source": [
    "dates, expected = zip(*curve.nodes())\n",
    "rates = [ curve.forwardRate(d, d, curve.dayCounter(), Continuous).rate()\n",
    "          for d in dates]\n",
    "DataFrame(list(zip(dates, expected, rates)),\n",
    "          columns = ('date','expected','retrieved'),\n",
    "          index = ['']*len(dates))"
   ]
  },
  {
   "cell_type": "markdown",
   "metadata": {},
   "source": [
    "Here are the above points, together with the rest of the curve."
   ]
  },
  {
   "cell_type": "code",
   "execution_count": 9,
   "metadata": {},
   "outputs": [
    {
     "data": {
      "image/png": "[encoded data removed]",
      "text/plain": [
       "<Figure size 864x576 with 1 Axes>"
      ]
     },
     "metadata": {},
     "output_type": "display_data"
    }
   ],
   "source": [
    "node_times = [ curve.dayCounter().yearFraction(today, d) for d in dates ]\n",
    "ax.plot(node_times, rates, 'o', markersize=8)\n",
    "display(f)"
   ]
  },
  {
   "cell_type": "markdown",
   "metadata": {},
   "source": [
    "#### What's wrong?"
   ]
  },
  {
   "cell_type": "markdown",
   "metadata": {},
   "source": [
    "It's a combination of two things. First, the particular interpolation we've chosen causes the instantaneous forwards to be discontinuous at the nodes. Second, there's a limitation in the implementation of the base `TermStructure` class: the instantaneous forwards are not taken directly from the interpolation, but retrieved generically from the discount factors as the forward over a small interval around the given time; that is,\n",
    "\n",
    "$$\n",
    "\\tilde{f}(t) = \\frac{1}{2 \\delta t} \\log\\left(\\frac{B(t-\\delta t)}{B(t+\\delta t)}\\right)\n",
    "$$\n",
    "\n",
    "Again, the details are in my other book."
   ]
  },
  {
   "cell_type": "markdown",
   "metadata": {},
   "source": [
    "By writing the discount factors $B(t)$ in terms of the zero rates as $\\exp\\left(Z(t) \\cdot t \\right)$, and in turn the zero rates in terms of the instantaneous forwards as $Z(t) = \\displaystyle{\\int_0^t f(\\tau) d\\tau}$, the above simplifies (well, for some value of \"simplifies\") to\n",
    "\n",
    "$$\n",
    "\\tilde{f}(t) = \\frac{1}{2 \\delta t} \\left[ \\int_0^{t+\\delta t} f(\\tau) d\\tau - \\int_0^{t-\\delta t} f(\\tau) d\\tau \\right]\n",
    "$$"
   ]
  },
  {
   "cell_type": "markdown",
   "metadata": {},
   "source": [
    "We can interpret the above expression in two ways; both explain why the values at the nodes are off and why we get the correct values elsewhere."
   ]
  },
  {
   "cell_type": "markdown",
   "metadata": {},
   "source": [
    "As the difference of two integrals, it equals\n",
    "\n",
    "$$\n",
    "\\frac{1}{2 \\delta t} \\left[ \\int_{t-\\delta t}^{t+\\delta t} f(\\tau) d\\tau \\right]\n",
    "$$\n",
    "\n",
    "that is, the average of $f(\\tau)$ between $t-\\delta t$ and $t+\\delta t$. What this means is clear from the following figure: off the nodes, the result equals the flat value of the forwards; at the nodes, though, it equals the average between the two adjacent levels."
   ]
  },
  {
   "cell_type": "raw",
   "metadata": {},
   "source": [
    "![](images/a_glitch_in_forward_curves-integral.png)"
   ]
  },
  {
   "cell_type": "markdown",
   "metadata": {},
   "source": [
    "If we consider the integral $\\displaystyle{\\int_0^t f(\\tau) d\\tau}$ as a function $F(t)$ instead, $\\tilde{f}(t)$ equals $\\displaystyle{\\frac{F(t+\\delta t)-F(t-\\delta t)}{2 \\delta t}}$; that is, the numerical derivative of $F$ at $t$. Again, a figure shows clearly what happens at and off the nodes: the forwards are piecewise flat, their integral is piecewise linear with slopes equal to the forwards, and the derivative at a given node is in between the two joining slopes."
   ]
  },
  {
   "cell_type": "raw",
   "metadata": {},
   "source": [
    "![](images/a_glitch_in_forward_curves-derivative.png)"
   ]
  },
  {
   "cell_type": "markdown",
   "metadata": {},
   "source": [
    "#### Is the curve wrong, then?"
   ]
  },
  {
   "cell_type": "markdown",
   "metadata": {},
   "source": [
    "Yes and no. The glitch above is real, but discount factors and discrete rates are retrieved correctly so there's no problem using the curve (unless the value of an instrument depends on instantaneous forwards, but that's unlikely). If the above troubles you, though, what you can do is simply to choose another interpolation that doesn't cause discontinuities."
   ]
  }
 ],
 "metadata": {
  "kernelspec": {
   "display_name": "Python 3",
   "language": "python",
   "name": "python3"
  },
  "language_info": {
   "codemirror_mode": {
    "name": "ipython",
    "version": 3
   },
   "file_extension": ".py",
   "mimetype": "text/x-python",
   "name": "python",
   "nbconvert_exporter": "python",
   "pygments_lexer": "ipython3",
   "version": "3.6.5"
  }
 },
 "nbformat": 4,
 "nbformat_minor": 1
}
