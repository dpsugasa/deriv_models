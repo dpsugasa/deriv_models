{
 "cells": [
  {
   "cell_type": "markdown",
   "metadata": {},
   "source": [
    "# Caps and floors "
   ]
  },
  {
   "cell_type": "markdown",
   "metadata": {},
   "source": [
    "In this post, I will walk you through a simple example of valuing caps. I want to talk about two specific cases: \n",
    "\n",
    "1. Value caps given a constant volatility\n",
    "2. Value caps given a cap volatility surface\n",
    "\n",
    "Caps, as you might know, can be valued as a sum of caplets. The value of each caplet is determined by the Black formula. In practice, each caplet would have a different volatility. Meaning, a caplet that is in the near term can have a different volatility profile compared to the caplet that is far away in tenor. Similarly caplet volatilities differ with the strike as well."
   ]
  },
  {
   "cell_type": "code",
   "execution_count": 1,
   "metadata": {},
   "outputs": [],
   "source": [
    "from QuantLib import *"
   ]
  },
  {
   "cell_type": "code",
   "execution_count": 2,
   "metadata": {},
   "outputs": [],
   "source": [
    "calc_date = Date(14, 6, 2016)\n",
    "Settings.instance().evaluationDate = calc_date"
   ]
  },
  {
   "cell_type": "markdown",
   "metadata": {},
   "source": [
    "#### Constant Volatility"
   ]
  },
  {
   "cell_type": "markdown",
   "metadata": {},
   "source": [
    "Let us start by constructing different components required in valuing the caps. The components that we would need are:\n",
    "\n",
    "1. interest rate term structure for discounting \n",
    "2. interest rate term structure for the floating leg\n",
    "3. construction of the cap\n",
    "4. the pricing engine to value caps using the Black formula\n",
    "\n",
    "For simplicity, we will construct only one interest rate term structure here, and assume that the discounting and the floating leg is referenced by the same. Below the term structure of interest rates is constructed from a set of zero rates."
   ]
  },
  {
   "cell_type": "code",
   "execution_count": 3,
   "metadata": {},
   "outputs": [],
   "source": [
    "dates = [Date(14,6,2016), Date(14,9,2016), \n",
    "         Date(14,12,2016), Date(14,6,2017),\n",
    "         Date(14,6,2019), Date(14,6,2021),\n",
    "         Date(15,6,2026), Date(16,6,2031),\n",
    "         Date(16,6,2036), Date(14,6,2046)\n",
    "         ]\n",
    "yields = [0.000000, 0.006616, 0.007049, 0.007795,\n",
    "          0.009599, 0.011203, 0.015068, 0.017583,\n",
    "          0.018998, 0.020080]\n",
    "\n",
    "day_count = ActualActual()\n",
    "calendar = UnitedStates()\n",
    "interpolation = Linear()\n",
    "compounding = Compounded\n",
    "compounding_frequency = Annual\n",
    "\n",
    "term_structure = ZeroCurve(dates, yields, day_count, \n",
    "                           calendar, interpolation, \n",
    "                           compounding, compounding_frequency)\n",
    "ts_handle = YieldTermStructureHandle(term_structure)"
   ]
  },
  {
   "cell_type": "markdown",
   "metadata": {},
   "source": [
    "As a next step, lets construct the cap itself. In order to do that, we start by constructing the `Schedule` object to project the cash-flow dates. "
   ]
  },
  {
   "cell_type": "code",
   "execution_count": 4,
   "metadata": {},
   "outputs": [],
   "source": [
    "start_date = Date(14, 6, 2016)\n",
    "end_date = Date(14, 6 , 2026)\n",
    "period = Period(3, Months)\n",
    "calendar = UnitedStates()\n",
    "buss_convention = ModifiedFollowing\n",
    "rule = DateGeneration.Forward\n",
    "end_of_month = False\n",
    "\n",
    "schedule = Schedule(start_date, end_date, period,\n",
    "                    calendar, buss_convention, \n",
    "                    buss_convention, rule, end_of_month)"
   ]
  },
  {
   "cell_type": "markdown",
   "metadata": {},
   "source": [
    "Now that we have the schedule, we construct the `USDLibor` index. Below, you can see that I use `addFixing` method to provide a fixing date for June 10, 2016. According the schedule constructed, the start date of the cap is June 14, 2016, and there is a 2 business day settlement lag (meaning June 10 reference date) embedded in the `USDLibor` definition. So in order to set the rate for the accrual period, the rate is obtained from the fixing data provided. For all future dates, the libor rates are automatically inferred using the forward rates provided by the given interest rate term structure."
   ]
  },
  {
   "cell_type": "code",
   "execution_count": 5,
   "metadata": {},
   "outputs": [],
   "source": [
    "ibor_index = USDLibor(Period(3, Months), ts_handle)\n",
    "ibor_index.addFixing(Date(10,6,2016), 0.0065560)\n",
    "\n",
    "ibor_leg = IborLeg([1000000], schedule, ibor_index)"
   ]
  },
  {
   "cell_type": "markdown",
   "metadata": {},
   "source": [
    "Now that we have all the required pieces, the `Cap` can be constructed by passing the `ibor_leg` and the `strike` information. Constructing a floor is done through the `Floor` class. The `BlackCapFloorEngine` can be used to price the cap with constant volatility as shown below. "
   ]
  },
  {
   "cell_type": "code",
   "execution_count": 6,
   "metadata": {},
   "outputs": [
    {
     "name": "stdout",
     "output_type": "stream",
     "text": [
      "54369.85806286924\n"
     ]
    }
   ],
   "source": [
    "strike = 0.02\n",
    "cap = Cap(ibor_leg, [strike])\n",
    "\n",
    "vols = QuoteHandle(SimpleQuote(0.547295))\n",
    "engine = BlackCapFloorEngine(ts_handle, vols)\n",
    "\n",
    "cap.setPricingEngine(engine)\n",
    "print(cap.NPV())"
   ]
  },
  {
   "cell_type": "markdown",
   "metadata": {},
   "source": [
    "#### Using Volatility Surfaces"
   ]
  },
  {
   "cell_type": "markdown",
   "metadata": {},
   "source": [
    "In the above exercise, we used a constant volatility value. In practice, one needs to strip the market quoted cap/floor volatilities to infer the volatility of each caplet. QuantLib provides excellent tools in order to do that. Let us assume the following dummy data represents the volatility surface quoted by the market. I have the various `strikes`, `expiries`, and the volatility quotes in percentage format. I take the raw data and create a `Matrix` in order to construct the volatility surface."
   ]
  },
  {
   "cell_type": "code",
   "execution_count": 7,
   "metadata": {},
   "outputs": [],
   "source": [
    "strikes = [0.01,0.015, 0.02]\n",
    "temp = list(range(1, 11)) + [12]\n",
    "expiries = [Period(i, Years) for i in temp] \n",
    "vols = Matrix(len(expiries), len(strikes))\n",
    "data = [[47.27, 55.47, 64.07, 70.14, 72.13, 69.41, 72.15, 67.28, 66.08, 68.64, 65.83],\n",
    "   [46.65,54.15,61.47,65.53,66.28,62.83,64.42,60.05,58.71,60.35,55.91],\n",
    "   [46.6,52.65,59.32,62.05,62.0,58.09,59.03,55.0,53.59,54.74,49.54]\n",
    "   ]\n",
    "\n",
    "for i in range(vols.rows()):\n",
    "    for j in range(vols.columns()):\n",
    "        vols[i][j] = data[j][i]/100.0"
   ]
  },
  {
   "cell_type": "markdown",
   "metadata": {},
   "source": [
    "The `CapFloorTermVolSurface` offers a way to store the cap/floor volatilities. These are however `CapFloor` volatilities, and not the volatilities of the individual options."
   ]
  },
  {
   "cell_type": "code",
   "execution_count": 8,
   "metadata": {},
   "outputs": [],
   "source": [
    "calendar = UnitedStates()\n",
    "bdc = ModifiedFollowing\n",
    "daycount = Actual365Fixed()\n",
    "settlement_days = 2\n",
    "capfloor_vol = CapFloorTermVolSurface(\n",
    "    settlement_days, calendar, bdc, \n",
    "    expiries, strikes, vols, daycount\n",
    ")"
   ]
  },
  {
   "cell_type": "markdown",
   "metadata": {},
   "source": [
    "The `OptionletStripper1` class lets you to strip the individual caplet/floorlet volatilities from the cap/floor volatilities. We have to 'jump' some hoops here to make it useful for pricing. The `OptionletStripper1` class cannot be consumed directly by a pricing engine. The `StrippedOptionletAdapter` takes the stripped optionlet volatilities, and creates a term structure of optionlet volatilities. We then wrap that into a handle using `OptionletVolatilityStructureHandle`."
   ]
  },
  {
   "cell_type": "code",
   "execution_count": 9,
   "metadata": {},
   "outputs": [],
   "source": [
    "optionlet_surf = OptionletStripper1(capfloor_vol, ibor_index, nullDouble(),\n",
    "                                    1e-6, 100, ts_handle)\n",
    "ovs_handle = OptionletVolatilityStructureHandle(\n",
    "    StrippedOptionletAdapter(optionlet_surf)\n",
    ")"
   ]
  },
  {
   "cell_type": "markdown",
   "metadata": {},
   "source": [
    "Below, we visualize the cap/floor volatility surface, and the optionlet volatility surface for a fixed strike."
   ]
  },
  {
   "cell_type": "code",
   "execution_count": 10,
   "metadata": {},
   "outputs": [],
   "source": [
    "import utils\n",
    "import numpy as np\n",
    "%matplotlib inline"
   ]
  },
  {
   "cell_type": "code",
   "execution_count": 11,
   "metadata": {},
   "outputs": [
    {
     "data": {
      "image/png": "[encoded data removed]",
      "text/plain": [
       "<Figure size 864x576 with 1 Axes>"
      ]
     },
     "metadata": {},
     "output_type": "display_data"
    }
   ],
   "source": [
    "tenors = np.arange(0,10,0.25)\n",
    "strike = 0.01\n",
    "capfloor_vols = [capfloor_vol.volatility(t, strike) for t in tenors]\n",
    "opionlet_vols = [ovs_handle.volatility(t, strike) for t in tenors]\n",
    "\n",
    "fig, ax = utils.plot()\n",
    "ax.plot(tenors, capfloor_vols, \"--\", label=\"CapFloor Vols\")\n",
    "ax.plot(tenors, opionlet_vols,\"-\", label=\"Optionlet Vols\")\n",
    "ax.legend(loc='best')\n",
    "ax.set_xlabel(\"Tenors\", size=14)\n",
    "ax.set_ylabel(\"Volatility\", size=14);"
   ]
  },
  {
   "cell_type": "markdown",
   "metadata": {},
   "source": [
    "The `BlackCapFloorEngine` can accept the optionlet volatility surface in order to price the caps or floors."
   ]
  },
  {
   "cell_type": "code",
   "execution_count": 12,
   "metadata": {},
   "outputs": [
    {
     "name": "stdout",
     "output_type": "stream",
     "text": [
      "54384.928314950135\n"
     ]
    }
   ],
   "source": [
    "engine2 = BlackCapFloorEngine(ts_handle, ovs_handle)\n",
    "cap.setPricingEngine(engine2)\n",
    "print(cap.NPV())"
   ]
  },
  {
   "cell_type": "markdown",
   "metadata": {},
   "source": [
    "One can infer the implied volatility for the cap at its NPV, and it should be in agreement with what is quote by the surface."
   ]
  },
  {
   "cell_type": "code",
   "execution_count": 13,
   "metadata": {},
   "outputs": [
    {
     "data": {
      "text/plain": [
       "0.5474438930928851"
      ]
     },
     "execution_count": 13,
     "metadata": {},
     "output_type": "execute_result"
    }
   ],
   "source": [
    "cap.impliedVolatility(cap.NPV(), ts_handle, 0.4)"
   ]
  },
  {
   "cell_type": "markdown",
   "metadata": {},
   "source": [
    "The QuantLib C++ class allow for one to view the projected cash flows in terms of individual caplets."
   ]
  }
 ],
 "metadata": {
  "kernelspec": {
   "display_name": "Python 3",
   "language": "python",
   "name": "python3"
  },
  "language_info": {
   "codemirror_mode": {
    "name": "ipython",
    "version": 3
   },
   "file_extension": ".py",
   "mimetype": "text/x-python",
   "name": "python",
   "nbconvert_exporter": "python",
   "pygments_lexer": "ipython3",
   "version": "3.6.5"
  }
 },
 "nbformat": 4,
 "nbformat_minor": 1
}
