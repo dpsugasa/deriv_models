{
 "cells": [
  {
   "cell_type": "markdown",
   "metadata": {},
   "source": [
    "# Valuing options on commodity futures using the Black formula"
   ]
  },
  {
   "cell_type": "markdown",
   "metadata": {},
   "source": [
    "The Black-Scholes equation is the well known model to price equity European options. In the case of equities, the spot price fluctuates and hence the intuition to model as a stochastic process makes sense. In the case of commodities, however, the spot price does not fluctuate as much, and hence cannot be modeled as a stochastic process to value options on commodities. In the 1976 paper [1], Fischer Black addressed this problem by modeling the futures price, which demonstrates fluctuations, as the lognormal stochastic process.\n",
    "\n",
    "The futures price at time $t$, $F_t$ with a is modeled as:\n",
    "\n",
    "$$ dF_t = \\sigma_t F_t dW $$\n",
    "\n",
    "where $\\sigma_t$ is the volatility of the underlying, and $dW$ is the Weiner process.\n",
    "\n",
    "The value of an option at strike $K$, maturing at $T$, risk free rate $r$ with volatility $\\sigma$ of the underlying is given by the closed form expression:\n",
    "\n",
    "$$ \n",
    "\\begin{eqnarray}\n",
    "c &=&  e^{-r T} [FN(d_1) - KN(d_2)] \\\\\n",
    "p &=& e^{-r T} [KN(-d_2) - FN(-d_1)] \n",
    "\\end{eqnarray}\n",
    "$$\n",
    "\n",
    "where\n",
    "\n",
    "$$ \n",
    "\\begin{eqnarray}\n",
    "d_1 &=& \\frac{\\ln(F/K) + (\\sigma^2/2)T}{\\sigma\\sqrt{T}} \\nonumber \\\\\n",
    "d_2 &=& \\frac{\\ln(F/K) - (\\sigma^2/2)T}{\\sigma\\sqrt{T}} = d_1 - \\sigma\\sqrt{T} \n",
    "\\end{eqnarray}\n",
    "$$\n",
    "\n",
    "This formula can be easily used to price caps, swaptions, futures options contract. Here we will use QuantLib to price the options on commodity futures."
   ]
  },
  {
   "cell_type": "code",
   "execution_count": 1,
   "metadata": {},
   "outputs": [],
   "source": [
    "from QuantLib import *\n",
    "import math"
   ]
  },
  {
   "cell_type": "code",
   "execution_count": 2,
   "metadata": {},
   "outputs": [],
   "source": [
    "calendar = UnitedStates()\n",
    "business_convention = ModifiedFollowing\n",
    "settlement_days = 0\n",
    "day_count = ActualActual()"
   ]
  },
  {
   "cell_type": "markdown",
   "metadata": {},
   "source": [
    "#### Option on Treasury Futures Contract\n",
    "\n",
    "Options on treasury futures (10 Yr Note TYF6C 119) can be valued using the Black formula. Let us value a Call option maturing on December 24, 2015, with a strike of 119. The current futures price is  126.95, and the volatility is 11.567%. The risk free rate as of December 1, 2015 is 0.105%. Let us value this Call option as of December 1, 2015.\n"
   ]
  },
  {
   "cell_type": "code",
   "execution_count": 3,
   "metadata": {},
   "outputs": [],
   "source": [
    "interest_rate = 0.00105\n",
    "calc_date = Date(1,12,2015)\n",
    "yield_curve = FlatForward(calc_date, \n",
    "                          interest_rate,\n",
    "                          day_count,\n",
    "                          Compounded,\n",
    "                          Continuous)"
   ]
  },
  {
   "cell_type": "code",
   "execution_count": 4,
   "metadata": {},
   "outputs": [],
   "source": [
    "\n",
    "Settings.instance().evaluationDate = calc_date\n",
    "option_maturity_date = Date(24,12,2015)\n",
    "strike = 119\n",
    "spot = 126.953# futures price\n",
    "volatility = 11.567/100.\n",
    "flavor = Option.Call\n",
    "\n",
    "discount = yield_curve.discount(option_maturity_date)\n",
    "strikepayoff = PlainVanillaPayoff(flavor, strike)\n",
    "T = yield_curve.dayCounter().yearFraction(calc_date, \n",
    "                                          option_maturity_date)\n",
    "stddev = volatility*math.sqrt(T)\n",
    "\n",
    "black = BlackCalculator(strikepayoff, \n",
    "                        spot, \n",
    "                        stddev, \n",
    "                        discount)"
   ]
  },
  {
   "cell_type": "code",
   "execution_count": 5,
   "metadata": {},
   "outputs": [
    {
     "name": "stdout",
     "output_type": "stream",
     "text": [
      "Option Price        : 7.9686\n",
      "Delta               : 0.9875\n",
      "Gamma               : 0.0088\n",
      "Theta               : -0.9356\n",
      "Vega                : 1.0285\n",
      "Rho                 : 7.3974\n"
     ]
    }
   ],
   "source": [
    "print(\"%-20s: %4.4f\" %(\"Option Price\", black.value()))\n",
    "print(\"%-20s: %4.4f\" %(\"Delta\", black.delta(spot)))\n",
    "print(\"%-20s: %4.4f\" %(\"Gamma\", black.gamma(spot)))\n",
    "print(\"%-20s: %4.4f\" %(\"Theta\", black.theta(spot, T)))\n",
    "print(\"%-20s: %4.4f\" %(\"Vega\", black.vega(T)))\n",
    "print(\"%-20s: %4.4f\" %(\"Rho\", black.rho(T)))"
   ]
  },
  {
   "cell_type": "markdown",
   "metadata": {},
   "source": [
    "#### Natural Gas Futures Option\n",
    "\n",
    "I saw [this](http://quantlib.10058.n7.nabble.com/Quantlib-methods-for-option-pricing-td17018.html) question on the QuantLib users group. Thought I will add this example as well. \n",
    "\n",
    "Call option with a 3.5 strike, spot 2.919, volatility 0.4251. The interest rate is 0.15%."
   ]
  },
  {
   "cell_type": "code",
   "execution_count": 6,
   "metadata": {},
   "outputs": [],
   "source": [
    "interest_rate = 0.0015\n",
    "calc_date = Date(23,9,2015)\n",
    "yield_curve = FlatForward(calc_date, \n",
    "                          interest_rate,\n",
    "                          day_count,\n",
    "                          Compounded,\n",
    "                          Continuous)"
   ]
  },
  {
   "cell_type": "code",
   "execution_count": 7,
   "metadata": {},
   "outputs": [],
   "source": [
    "Settings.instance().evaluationDate = calc_date\n",
    "T = 96.12/365.\n",
    "\n",
    "strike = 3.5\n",
    "spot = 2.919\n",
    "volatility = 0.4251\n",
    "flavor = Option.Call\n",
    "\n",
    "discount = yield_curve.discount(T)\n",
    "strikepayoff = PlainVanillaPayoff(flavor, strike)\n",
    "stddev = volatility*math.sqrt(T)\n",
    "\n",
    "strikepayoff = PlainVanillaPayoff(flavor, strike)\n",
    "black = BlackCalculator(strikepayoff, spot, stddev, discount)"
   ]
  },
  {
   "cell_type": "code",
   "execution_count": 8,
   "metadata": {},
   "outputs": [
    {
     "name": "stdout",
     "output_type": "stream",
     "text": [
      "Option Price        : 0.0789\n",
      "Delta               : 0.2347\n",
      "Gamma               : 0.4822\n",
      "Theta               : -0.3711\n",
      "Vega                : 0.4600\n",
      "Rho                 : 0.1597\n"
     ]
    }
   ],
   "source": [
    "print(\"%-20s: %4.4f\" %(\"Option Price\", black.value()))\n",
    "print(\"%-20s: %4.4f\" %(\"Delta\", black.delta(spot)))\n",
    "print(\"%-20s: %4.4f\" %(\"Gamma\", black.gamma(spot)))\n",
    "print(\"%-20s: %4.4f\" %(\"Theta\", black.theta(spot, T)))\n",
    "print(\"%-20s: %4.4f\" %(\"Vega\", black.vega(T)))\n",
    "print(\"%-20s: %4.4f\" %(\"Rho\", black.rho(T)))"
   ]
  },
  {
   "cell_type": "markdown",
   "metadata": {},
   "source": [
    "#### Conclusion\n",
    "\n",
    "In this notebook, I demonstrated how Black formula can be used to value options on commodity futures. It is worth pointing out that different vendors usually have different scaling conventions when it comes to reporting Greeks. One would needs to take that into account when comparing the values shown by QuantLib with that of other vendors.\n",
    "\n",
    "#### References\n",
    "[1] Fischer Black, *The pricing of commodity contracts*, Journal of Financial Economics, (3) 167-179 (1976) "
   ]
  }
 ],
 "metadata": {
  "kernelspec": {
   "display_name": "Python 3",
   "language": "python",
   "name": "python3"
  },
  "language_info": {
   "codemirror_mode": {
    "name": "ipython",
    "version": 3
   },
   "file_extension": ".py",
   "mimetype": "text/x-python",
   "name": "python",
   "nbconvert_exporter": "python",
   "pygments_lexer": "ipython3",
   "version": "3.6.5"
  }
 },
 "nbformat": 4,
 "nbformat_minor": 1
}
