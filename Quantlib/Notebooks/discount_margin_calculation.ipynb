{
 "cells": [
  {
   "cell_type": "markdown",
   "metadata": {},
   "source": [
    "# Discount margin calculation"
   ]
  },
  {
   "cell_type": "markdown",
   "metadata": {},
   "source": [
    "(Based on [two](http://quant.stackexchange.com/questions/8965/) [questions](https://quant.stackexchange.com/questions/37705/) by _Stack Exchange_ users HookahBoy and Kyle. Thanks!)"
   ]
  },
  {
   "cell_type": "code",
   "execution_count": 1,
   "metadata": {},
   "outputs": [],
   "source": [
    "from QuantLib import *"
   ]
  },
  {
   "cell_type": "code",
   "execution_count": 2,
   "metadata": {},
   "outputs": [],
   "source": [
    "today = Date(8, October, 2014)\n",
    "Settings.instance().evaluationDate = today"
   ]
  },
  {
   "cell_type": "markdown",
   "metadata": {},
   "source": [
    "#### The question"
   ]
  },
  {
   "cell_type": "markdown",
   "metadata": {},
   "source": [
    "Given a floating-rate bond price, we want to find the corresponding discount margin.  This is one in a class of similar problems: we have a calculation which is not immediate to do directly, but is straightforward to do in the opposite direction; in this case, find the price of a bond when discounting its coupons at a spread over LIBOR."
   ]
  },
  {
   "cell_type": "markdown",
   "metadata": {},
   "source": [
    "The general idea is to implement the inverse calculation (DM to price) and then to use a solver to determine the correct input given the result. First, we build the bond."
   ]
  },
  {
   "cell_type": "code",
   "execution_count": 3,
   "metadata": {},
   "outputs": [],
   "source": [
    "forecast_curve = RelinkableYieldTermStructureHandle()\n",
    "discount_curve = RelinkableYieldTermStructureHandle()"
   ]
  },
  {
   "cell_type": "code",
   "execution_count": 4,
   "metadata": {},
   "outputs": [],
   "source": [
    "index = Euribor6M(forecast_curve)"
   ]
  },
  {
   "cell_type": "code",
   "execution_count": 5,
   "metadata": {},
   "outputs": [],
   "source": [
    "issueDate = Date(13,October,2014)\n",
    "maturityDate = Date(13,October,2024)\n",
    "\n",
    "schedule = Schedule(issueDate, maturityDate,\n",
    "                    Period(Semiannual), TARGET(), Following, Following,\n",
    "                    DateGeneration.Backward, False)"
   ]
  },
  {
   "cell_type": "code",
   "execution_count": 6,
   "metadata": {},
   "outputs": [],
   "source": [
    "bond = FloatingRateBond(settlementDays = 3,\n",
    "                        faceAmount = 100,\n",
    "                        schedule = schedule,\n",
    "                        index = index,\n",
    "                        paymentDayCounter = Actual360(),\n",
    "                        paymentConvention = Following,\n",
    "                        fixingDays = index.fixingDays(),\n",
    "                        gearings = [],\n",
    "                        spreads = [],\n",
    "                        caps= [],\n",
    "                        floors = [],\n",
    "                        inArrears = False,\n",
    "                        redemption = 100.0,\n",
    "                        issueDate = issueDate)\n",
    "bond.setPricingEngine(DiscountingBondEngine(discount_curve))"
   ]
  },
  {
   "cell_type": "markdown",
   "metadata": {},
   "source": [
    "Now we link the forecast curve to the current Euribor curve (whatever that is; I'm using a flat one as an example, but it could as well be a real one)..."
   ]
  },
  {
   "cell_type": "code",
   "execution_count": 7,
   "metadata": {},
   "outputs": [],
   "source": [
    "forecast_curve.linkTo(FlatForward(0, TARGET(), 0.002, Actual360()))"
   ]
  },
  {
   "cell_type": "markdown",
   "metadata": {},
   "source": [
    "...and the discount curve to the Euribor curve plus the discount margin."
   ]
  },
  {
   "cell_type": "code",
   "execution_count": 8,
   "metadata": {},
   "outputs": [],
   "source": [
    "DM = SimpleQuote(0.0)\n",
    "discount_curve.linkTo(ZeroSpreadedTermStructure(forecast_curve,\n",
    "                                                QuoteHandle(DM)))"
   ]
  },
  {
   "cell_type": "markdown",
   "metadata": {},
   "source": [
    "Setting a value to the DM quote will affect the bond price: this gives us the knob to manipulate in order to find the solution of our problem."
   ]
  },
  {
   "cell_type": "code",
   "execution_count": 9,
   "metadata": {},
   "outputs": [
    {
     "name": "stdout",
     "output_type": "stream",
     "text": [
      "100.00000000000001\n"
     ]
    }
   ],
   "source": [
    "print(bond.cleanPrice())"
   ]
  },
  {
   "cell_type": "code",
   "execution_count": 10,
   "metadata": {},
   "outputs": [
    {
     "name": "stdout",
     "output_type": "stream",
     "text": [
      "98.99979030764418\n"
     ]
    }
   ],
   "source": [
    "DM.setValue(0.001)\n",
    "print(bond.cleanPrice())"
   ]
  },
  {
   "cell_type": "markdown",
   "metadata": {},
   "source": [
    "To invert the calculation, we encapsulate the above into a function.  The Python language makes it easier to write it in a general way; the function below takes the target price, and returns another function that takes a value for the discount margin and returns the difference between the corresponding price and the target.  In C++, we would create a function object taking the target price in its constructor and returning the difference from its `operator()`."
   ]
  },
  {
   "cell_type": "code",
   "execution_count": 11,
   "metadata": {},
   "outputs": [],
   "source": [
    "def F(price):\n",
    "    def _f(s):\n",
    "        DM.setValue(s)\n",
    "        return bond.cleanPrice() - price\n",
    "    return _f"
   ]
  },
  {
   "cell_type": "code",
   "execution_count": 12,
   "metadata": {},
   "outputs": [
    {
     "name": "stdout",
     "output_type": "stream",
     "text": [
      "1.00020969240002\n",
      "-0.9901429992548856\n"
     ]
    }
   ],
   "source": [
    "f = F(98.9997903076)\n",
    "print(f(0.0))\n",
    "print(f(0.002))"
   ]
  },
  {
   "cell_type": "markdown",
   "metadata": {},
   "source": [
    "We want to find the value of the discount margin that causes the calculated price to equal the target price, that is, that causes the error to be 0; and for that, we can use a solver."
   ]
  },
  {
   "cell_type": "code",
   "execution_count": 13,
   "metadata": {},
   "outputs": [
    {
     "name": "stdout",
     "output_type": "stream",
     "text": [
      "0.00039870328652332745\n"
     ]
    }
   ],
   "source": [
    "margin = Brent().solve(F(99.6), 1e-8, 0.0, 1e-4)\n",
    "print(margin)"
   ]
  },
  {
   "cell_type": "markdown",
   "metadata": {},
   "source": [
    "We can verify that this works by setting the margin to the returned value and checking that the bond price equals the input:"
   ]
  },
  {
   "cell_type": "code",
   "execution_count": 14,
   "metadata": {},
   "outputs": [
    {
     "name": "stdout",
     "output_type": "stream",
     "text": [
      "99.59999988275108\n"
     ]
    }
   ],
   "source": [
    "DM.setValue(margin)\n",
    "print(bond.cleanPrice())"
   ]
  },
  {
   "cell_type": "markdown",
   "metadata": {},
   "source": [
    "However, note that the spread above is continuously compounded. You might want to see the discount margin in the same units as the index fixings:"
   ]
  },
  {
   "cell_type": "code",
   "execution_count": 15,
   "metadata": {},
   "outputs": [
    {
     "name": "stdout",
     "output_type": "stream",
     "text": [
      "0.039874 % Actual/360 simple compounding\n"
     ]
    }
   ],
   "source": [
    "value_date = index.valueDate(today)\n",
    "maturity_date = index.maturityDate(value_date)\n",
    "print(InterestRate(margin, discount_curve.dayCounter(),\n",
    "                   Continuous, NoFrequency)\n",
    "      .equivalentRate(index.dayCounter(),\n",
    "                      Simple, index.tenor().frequency(),\n",
    "                      value_date, maturity_date))"
   ]
  },
  {
   "cell_type": "markdown",
   "metadata": {},
   "source": [
    "#### Not just for bonds"
   ]
  },
  {
   "cell_type": "markdown",
   "metadata": {},
   "source": [
    "The approach I described can be generalized to any problem in this class. Here I'll use it to get the implied volatility of an Asian option: first I'll create the instrument..."
   ]
  },
  {
   "cell_type": "code",
   "execution_count": 16,
   "metadata": {},
   "outputs": [],
   "source": [
    "exerciseDate = today + Period(1,Years)\n",
    "fixingDates = [ today + Period(n,Months) for n in range(1,12) ]\n",
    "option = DiscreteAveragingAsianOption(Average.Arithmetic,\n",
    "                                      0.0, 0,\n",
    "                                      fixingDates,\n",
    "                                      PlainVanillaPayoff(Option.Call, 100.0),\n",
    "                                      EuropeanExercise(exerciseDate))"
   ]
  },
  {
   "cell_type": "markdown",
   "metadata": {},
   "source": [
    "...and an engine, taking care of writing the input volatility as a quote."
   ]
  },
  {
   "cell_type": "code",
   "execution_count": 17,
   "metadata": {},
   "outputs": [],
   "source": [
    "sigma = SimpleQuote(0.20)\n",
    "\n",
    "riskFreeCurve = FlatForward(0, TARGET(), 0.01, Actual360())\n",
    "volatility = BlackConstantVol(0, TARGET(), QuoteHandle(sigma), Actual360())\n",
    "\n",
    "process = BlackScholesProcess(QuoteHandle(SimpleQuote(100.0)),\n",
    "                              YieldTermStructureHandle(riskFreeCurve),\n",
    "                              BlackVolTermStructureHandle(volatility))"
   ]
  },
  {
   "cell_type": "code",
   "execution_count": 18,
   "metadata": {},
   "outputs": [],
   "source": [
    "option.setPricingEngine(MCDiscreteArithmeticAPEngine(process, \"pseudorandom\",\n",
    "                                                     requiredSamples=1000,\n",
    "                                                     seed=42))"
   ]
  },
  {
   "cell_type": "markdown",
   "metadata": {},
   "source": [
    "Now we can use the same technique as above: the function below takes a target price and returns a function from the volatility to the pricing error:"
   ]
  },
  {
   "cell_type": "code",
   "execution_count": 19,
   "metadata": {},
   "outputs": [],
   "source": [
    "def F(price):\n",
    "    def _f(v):\n",
    "        sigma.setValue(v)\n",
    "        return option.NPV() - price\n",
    "    return _f"
   ]
  },
  {
   "cell_type": "markdown",
   "metadata": {},
   "source": [
    "Using a solver, we can invert it to solve for any price:"
   ]
  },
  {
   "cell_type": "code",
   "execution_count": 20,
   "metadata": {},
   "outputs": [
    {
     "name": "stdout",
     "output_type": "stream",
     "text": [
      "0.20081193864526342\n"
     ]
    }
   ],
   "source": [
    "print(Brent().solve(F(5.0), 1e-8, 0.20, 1e-4))"
   ]
  },
  {
   "cell_type": "code",
   "execution_count": 21,
   "metadata": {},
   "outputs": [
    {
     "name": "stdout",
     "output_type": "stream",
     "text": [
      "0.24362397543255393\n"
     ]
    }
   ],
   "source": [
    "print(Brent().solve(F(6.0), 1e-8, 0.20, 1e-4))"
   ]
  }
 ],
 "metadata": {
  "kernelspec": {
   "display_name": "Python 3",
   "language": "python",
   "name": "python3"
  },
  "language_info": {
   "codemirror_mode": {
    "name": "ipython",
    "version": 3
   },
   "file_extension": ".py",
   "mimetype": "text/x-python",
   "name": "python",
   "nbconvert_exporter": "python",
   "pygments_lexer": "ipython3",
   "version": "3.6.5"
  }
 },
 "nbformat": 4,
 "nbformat_minor": 1
}
