{
 "cells": [
  {
   "cell_type": "markdown",
   "metadata": {},
   "source": [
    "# Short interest rate model calibration"
   ]
  },
  {
   "cell_type": "markdown",
   "metadata": {},
   "source": [
    "In the earlier chapters, we have discussed simulating Hull-White model. That exercise gave a primer on how to use the model classes. There the model parameters were assumed to be given. However in practice, the model parameters need to calibrated from market data. Typically instruments such as swaptions, caps or floors and their market prices / volatilities are taken as inputs. Then the model parameters are fit in such a way that the model prices for these options are close enough. The goodness of fit depends, apart from the choice of the numerical methods, on the type of model itself. This is because models such as Hull-White 1 factor cannot fit some of the humped volatility term structures observed in the market. Never the less, Hull-White is usually a good starting point to understand calibration process.\n",
    "\n",
    "Here we will discuss Hull-White model in detail. Then we will also show how the same procedure can be applied to calibrate other short rate models. We will assume the quotes to be at-the-money (ATM) log-normal volatilities. In the later section, we will extend to normal volatilities."
   ]
  },
  {
   "cell_type": "code",
   "execution_count": 1,
   "metadata": {},
   "outputs": [],
   "source": [
    "from QuantLib import *\n",
    "from collections import namedtuple\n",
    "import math\n",
    "from pandas import DataFrame"
   ]
  },
  {
   "cell_type": "markdown",
   "metadata": {},
   "source": [
    "#### Hull-White 1-Factor Model \n",
    "\n",
    "Hull-White model was one of the first practical exogenous models that attempted to fit to the market interest rate term structures. The model is described as:\n",
    "\n",
    "$$ dr_t = (\\theta(t) - a r_t) dt + \\sigma dW_t $$\n",
    "\n",
    "where $a$ is the mean reversion constant, $\\sigma$ is the volatility parameter. The parameter $\\theta(t)$ is chosen in order to fit the input term structure of interest rates. \n",
    "\n",
    "What is the \"right\" value for parameters $a$ and $\\sigma$? This is the question that we address by calibrating to market instruments."
   ]
  },
  {
   "cell_type": "code",
   "execution_count": 2,
   "metadata": {},
   "outputs": [],
   "source": [
    "today = Date(15, February, 2002);\n",
    "settlement= Date(19, February, 2002);\n",
    "Settings.instance().evaluationDate = today;\n",
    "term_structure = YieldTermStructureHandle(\n",
    "    FlatForward(settlement,0.04875825,Actual365Fixed())\n",
    "    )\n",
    "index = Euribor1Y(term_structure)"
   ]
  },
  {
   "cell_type": "markdown",
   "metadata": {},
   "source": [
    "In this example we are going to calibrate given the starting tenor, months to maturity, and the swaption volatilities as shown below. "
   ]
  },
  {
   "cell_type": "code",
   "execution_count": 3,
   "metadata": {},
   "outputs": [],
   "source": [
    "CalibrationData = namedtuple(\"CalibrationData\", \n",
    "                             \"start, length, volatility\")\n",
    "data = [CalibrationData(1, 5, 0.1148),\n",
    "        CalibrationData(2, 4, 0.1108),\n",
    "        CalibrationData(3, 3, 0.1070),\n",
    "        CalibrationData(4, 2, 0.1021),\n",
    "        CalibrationData(5, 1, 0.1000 )]"
   ]
  },
  {
   "cell_type": "markdown",
   "metadata": {},
   "source": [
    "In order to make the code succinct in the various examples, we will create two functions. Function `create_swaption_helpers` takes all the swaption data, the index such as `Euribor1Y`, the term structure and the pricing engine, and returns a list of `SwaptionHelper` objects. The `calibration_report` evaluates the calibration by comparing the model price and implied volatilities with the Black price and market volatilities."
   ]
  },
  {
   "cell_type": "code",
   "execution_count": 4,
   "metadata": {},
   "outputs": [],
   "source": [
    "def create_swaption_helpers(data, index, term_structure, engine):\n",
    "    swaptions = []\n",
    "    fixed_leg_tenor = Period(1, Years)\n",
    "    fixed_leg_daycounter = Actual360()\n",
    "    floating_leg_daycounter = Actual360()\n",
    "    for d in data:\n",
    "        vol_handle = QuoteHandle(SimpleQuote(d.volatility))\n",
    "        helper = SwaptionHelper(Period(d.start, Years),\n",
    "                                   Period(d.length, Years),\n",
    "                                   vol_handle,\n",
    "                                   index,\n",
    "                                   fixed_leg_tenor,\n",
    "                                   fixed_leg_daycounter,\n",
    "                                   floating_leg_daycounter,\n",
    "                                   term_structure\n",
    "                                   )\n",
    "        helper.setPricingEngine(engine)\n",
    "        swaptions.append(helper)\n",
    "    return swaptions    \n",
    "\n",
    "\n",
    "def calibration_report(swaptions, data):\n",
    "    columns = [\"Model Price\", \"Market Price\", \"Implied Vol\", \"Market Vol\",\n",
    "               \"Rel Error Price\", \"Rel Error Vols\"]\n",
    "    report_data = []\n",
    "    cum_err = 0.0\n",
    "    cum_err2 = 0.0\n",
    "    for i, s in enumerate(swaptions):\n",
    "        model_price = s.modelValue()\n",
    "        market_vol = data[i].volatility\n",
    "        black_price = s.blackPrice(market_vol)\n",
    "        rel_error = model_price/black_price - 1.0\n",
    "        implied_vol = s.impliedVolatility(model_price,\n",
    "                                          1e-5, 50, 0.0, 0.50)\n",
    "        rel_error2 = implied_vol/market_vol-1.0\n",
    "        cum_err += rel_error*rel_error\n",
    "        cum_err2 += rel_error2*rel_error2\n",
    "        \n",
    "        report_data.append((model_price, black_price, implied_vol,\n",
    "                            market_vol, rel_error, rel_error2))\n",
    "    print(\"Cumulative Error Price: %7.5f\" % math.sqrt(cum_err))\n",
    "    print(\"Cumulative Error Vols : %7.5f\" % math.sqrt(cum_err2))\n",
    "    return DataFrame(report_data,columns= columns, index=['']*len(report_data))"
   ]
  },
  {
   "cell_type": "markdown",
   "metadata": {},
   "source": [
    "##### Calibrating Reversion and Volaitility\n",
    "\n",
    "Here we use the `JamshidianSwaptionEngine` to value the swaptions as part of calibration. The `JamshidianSwaptionEngine` requires one-factor affine models as input. For other interest rate models, we need a pricing engine that is more suited to those models."
   ]
  },
  {
   "cell_type": "code",
   "execution_count": 5,
   "metadata": {},
   "outputs": [
    {
     "name": "stdout",
     "output_type": "stream",
     "text": [
      "a = 0.04642, sigma = 0.00580\n"
     ]
    }
   ],
   "source": [
    "model = HullWhite(term_structure);\n",
    "engine = JamshidianSwaptionEngine(model)\n",
    "swaptions = create_swaption_helpers(data, index, term_structure, engine)\n",
    "\n",
    "optimization_method = LevenbergMarquardt(1.0e-8,1.0e-8,1.0e-8)\n",
    "end_criteria = EndCriteria(10000, 100, 1e-6, 1e-8, 1e-8)\n",
    "model.calibrate(swaptions, optimization_method, end_criteria)\n",
    "\n",
    "a, sigma = model.params()\n",
    "print(\"a = %6.5f, sigma = %6.5f\" % (a, sigma))"
   ]
  },
  {
   "cell_type": "code",
   "execution_count": 6,
   "metadata": {},
   "outputs": [
    {
     "name": "stdout",
     "output_type": "stream",
     "text": [
      "Cumulative Error Price: 0.11583\n",
      "Cumulative Error Vols : 0.11614\n"
     ]
    },
    {
     "data": {
      "text/html": [
       "<div>\n",
       "<style scoped>\n",
       "    .dataframe tbody tr th:only-of-type {\n",
       "        vertical-align: middle;\n",
       "    }\n",
       "\n",
       "    .dataframe tbody tr th {\n",
       "        vertical-align: top;\n",
       "    }\n",
       "\n",
       "    .dataframe thead th {\n",
       "        text-align: right;\n",
       "    }\n",
       "</style>\n",
       "<table border=\"1\" class=\"dataframe\">\n",
       "  <thead>\n",
       "    <tr style=\"text-align: right;\">\n",
       "      <th></th>\n",
       "      <th>Model Price</th>\n",
       "      <th>Market Price</th>\n",
       "      <th>Implied Vol</th>\n",
       "      <th>Market Vol</th>\n",
       "      <th>Rel Error Price</th>\n",
       "      <th>Rel Error Vols</th>\n",
       "    </tr>\n",
       "  </thead>\n",
       "  <tbody>\n",
       "    <tr>\n",
       "      <th></th>\n",
       "      <td>0.008775</td>\n",
       "      <td>0.009485</td>\n",
       "      <td>0.106198</td>\n",
       "      <td>0.1148</td>\n",
       "      <td>-0.074854</td>\n",
       "      <td>-0.074928</td>\n",
       "    </tr>\n",
       "    <tr>\n",
       "      <th></th>\n",
       "      <td>0.009669</td>\n",
       "      <td>0.010078</td>\n",
       "      <td>0.106292</td>\n",
       "      <td>0.1108</td>\n",
       "      <td>-0.040610</td>\n",
       "      <td>-0.040688</td>\n",
       "    </tr>\n",
       "    <tr>\n",
       "      <th></th>\n",
       "      <td>0.008663</td>\n",
       "      <td>0.008716</td>\n",
       "      <td>0.106343</td>\n",
       "      <td>0.1070</td>\n",
       "      <td>-0.006138</td>\n",
       "      <td>-0.006138</td>\n",
       "    </tr>\n",
       "    <tr>\n",
       "      <th></th>\n",
       "      <td>0.006490</td>\n",
       "      <td>0.006226</td>\n",
       "      <td>0.106442</td>\n",
       "      <td>0.1021</td>\n",
       "      <td>0.042367</td>\n",
       "      <td>0.042525</td>\n",
       "    </tr>\n",
       "    <tr>\n",
       "      <th></th>\n",
       "      <td>0.003542</td>\n",
       "      <td>0.003323</td>\n",
       "      <td>0.106612</td>\n",
       "      <td>0.1000</td>\n",
       "      <td>0.065817</td>\n",
       "      <td>0.066122</td>\n",
       "    </tr>\n",
       "  </tbody>\n",
       "</table>\n",
       "</div>"
      ],
      "text/plain": [
       "  Model Price  Market Price  Implied Vol  Market Vol  Rel Error Price  \\\n",
       "     0.008775      0.009485     0.106198      0.1148        -0.074854   \n",
       "     0.009669      0.010078     0.106292      0.1108        -0.040610   \n",
       "     0.008663      0.008716     0.106343      0.1070        -0.006138   \n",
       "     0.006490      0.006226     0.106442      0.1021         0.042367   \n",
       "     0.003542      0.003323     0.106612      0.1000         0.065817   \n",
       "\n",
       "  Rel Error Vols  \n",
       "       -0.074928  \n",
       "       -0.040688  \n",
       "       -0.006138  \n",
       "        0.042525  \n",
       "        0.066122  "
      ]
     },
     "execution_count": 6,
     "metadata": {},
     "output_type": "execute_result"
    }
   ],
   "source": [
    "calibration_report(swaptions, data)"
   ]
  },
  {
   "cell_type": "markdown",
   "metadata": {},
   "source": [
    "#### Calibrating Volatility With Fixed Reversion\n",
    "\n",
    "There are times when we need to calibrate with one parameter held fixed. QuantLib allows you to perform calibration with constraints. However, this ability is not exposed in the SWIG wrappers as of version 1.6. I have created a [github issue](https://github.com/lballabio/quantlib-old/issues/336) and provided a patch to address this issue. This patch has been merged into QuantLib-SWIG version 1.7. If you are using version lower than 1.7, you will need this patch to execute the following cells. Below, the model is calibrated with a fixed reversion value of 5%.\n",
    "\n",
    "The following code is similar to the Hull-White calibration, except we initialize the constrained model with given values. In the calibrate method, we provide a list of boolean with constraints `[True, False]`, meaning that the first parameter `a` is constrained where as the second `sigma` is not constrained."
   ]
  },
  {
   "cell_type": "code",
   "execution_count": 7,
   "metadata": {},
   "outputs": [
    {
     "name": "stdout",
     "output_type": "stream",
     "text": [
      "a = 0.05000, sigma = 0.00586\n"
     ]
    }
   ],
   "source": [
    "constrained_model = HullWhite(term_structure, 0.05, 0.001);\n",
    "engine = JamshidianSwaptionEngine(constrained_model)\n",
    "swaptions = create_swaption_helpers(data, index, term_structure, engine)\n",
    "\n",
    "optimization_method = LevenbergMarquardt(1.0e-8,1.0e-8,1.0e-8)\n",
    "end_criteria = EndCriteria(10000, 100, 1e-6, 1e-8, 1e-8)\n",
    "constrained_model.calibrate(swaptions, optimization_method, \n",
    "                            end_criteria, NoConstraint(), \n",
    "                            [], [True, False])\n",
    "a, sigma = constrained_model.params()\n",
    "print(\"a = %6.5f, sigma = %6.5f\" % (a, sigma))"
   ]
  },
  {
   "cell_type": "code",
   "execution_count": 8,
   "metadata": {},
   "outputs": [
    {
     "name": "stdout",
     "output_type": "stream",
     "text": [
      "Cumulative Error Price: 0.11584\n",
      "Cumulative Error Vols : 0.11615\n"
     ]
    },
    {
     "data": {
      "text/html": [
       "<div>\n",
       "<style scoped>\n",
       "    .dataframe tbody tr th:only-of-type {\n",
       "        vertical-align: middle;\n",
       "    }\n",
       "\n",
       "    .dataframe tbody tr th {\n",
       "        vertical-align: top;\n",
       "    }\n",
       "\n",
       "    .dataframe thead th {\n",
       "        text-align: right;\n",
       "    }\n",
       "</style>\n",
       "<table border=\"1\" class=\"dataframe\">\n",
       "  <thead>\n",
       "    <tr style=\"text-align: right;\">\n",
       "      <th></th>\n",
       "      <th>Model Price</th>\n",
       "      <th>Market Price</th>\n",
       "      <th>Implied Vol</th>\n",
       "      <th>Market Vol</th>\n",
       "      <th>Rel Error Price</th>\n",
       "      <th>Rel Error Vols</th>\n",
       "    </tr>\n",
       "  </thead>\n",
       "  <tbody>\n",
       "    <tr>\n",
       "      <th></th>\n",
       "      <td>0.008776</td>\n",
       "      <td>0.009485</td>\n",
       "      <td>0.106212</td>\n",
       "      <td>0.1148</td>\n",
       "      <td>-0.074738</td>\n",
       "      <td>-0.074812</td>\n",
       "    </tr>\n",
       "    <tr>\n",
       "      <th></th>\n",
       "      <td>0.009668</td>\n",
       "      <td>0.010078</td>\n",
       "      <td>0.106284</td>\n",
       "      <td>0.1108</td>\n",
       "      <td>-0.040682</td>\n",
       "      <td>-0.040761</td>\n",
       "    </tr>\n",
       "    <tr>\n",
       "      <th></th>\n",
       "      <td>0.008662</td>\n",
       "      <td>0.008716</td>\n",
       "      <td>0.106330</td>\n",
       "      <td>0.1070</td>\n",
       "      <td>-0.006261</td>\n",
       "      <td>-0.006261</td>\n",
       "    </tr>\n",
       "    <tr>\n",
       "      <th></th>\n",
       "      <td>0.006490</td>\n",
       "      <td>0.006226</td>\n",
       "      <td>0.106436</td>\n",
       "      <td>0.1021</td>\n",
       "      <td>0.042311</td>\n",
       "      <td>0.042469</td>\n",
       "    </tr>\n",
       "    <tr>\n",
       "      <th></th>\n",
       "      <td>0.003542</td>\n",
       "      <td>0.003323</td>\n",
       "      <td>0.106625</td>\n",
       "      <td>0.1000</td>\n",
       "      <td>0.065946</td>\n",
       "      <td>0.066252</td>\n",
       "    </tr>\n",
       "  </tbody>\n",
       "</table>\n",
       "</div>"
      ],
      "text/plain": [
       "  Model Price  Market Price  Implied Vol  Market Vol  Rel Error Price  \\\n",
       "     0.008776      0.009485     0.106212      0.1148        -0.074738   \n",
       "     0.009668      0.010078     0.106284      0.1108        -0.040682   \n",
       "     0.008662      0.008716     0.106330      0.1070        -0.006261   \n",
       "     0.006490      0.006226     0.106436      0.1021         0.042311   \n",
       "     0.003542      0.003323     0.106625      0.1000         0.065946   \n",
       "\n",
       "  Rel Error Vols  \n",
       "       -0.074812  \n",
       "       -0.040761  \n",
       "       -0.006261  \n",
       "        0.042469  \n",
       "        0.066252  "
      ]
     },
     "execution_count": 8,
     "metadata": {},
     "output_type": "execute_result"
    }
   ],
   "source": [
    "calibration_report(swaptions, data)"
   ]
  },
  {
   "cell_type": "markdown",
   "metadata": {},
   "source": [
    "#### Black Karasinski Model\n",
    "\n",
    "The Black Karasinski model is described as:\n",
    "\n",
    "$$ d\\ln(r_t) = (\\theta_t - a \\ln(r_t)) dt + \\sigma dW_t $$\n",
    "\n",
    "Black-Karasinski is not an affine model, and hence we cannot use the `JamshidianSwaptionEngine`. In order to calibrate, we use the `TreeSwaptionEngine` which will work with all short rate models. The calibration procedure is shown below. "
   ]
  },
  {
   "cell_type": "code",
   "execution_count": 9,
   "metadata": {},
   "outputs": [
    {
     "name": "stdout",
     "output_type": "stream",
     "text": [
      "a = 0.03902, sigma = 0.11695\n"
     ]
    }
   ],
   "source": [
    "model = BlackKarasinski(term_structure);\n",
    "engine = TreeSwaptionEngine(model, 100)\n",
    "swaptions = create_swaption_helpers(data, index, term_structure, engine)\n",
    "\n",
    "optimization_method = LevenbergMarquardt(1.0e-8,1.0e-8,1.0e-8)\n",
    "end_criteria = EndCriteria(10000, 100, 1e-6, 1e-8, 1e-8)\n",
    "model.calibrate(swaptions, optimization_method, end_criteria)\n",
    "\n",
    "a, sigma =  model.params()\n",
    "print(\"a = %6.5f, sigma = %6.5f\" % (a, sigma))"
   ]
  },
  {
   "cell_type": "code",
   "execution_count": 10,
   "metadata": {},
   "outputs": [
    {
     "name": "stdout",
     "output_type": "stream",
     "text": [
      "Cumulative Error Price: 0.12132\n",
      "Cumulative Error Vols : 0.12163\n"
     ]
    },
    {
     "data": {
      "text/html": [
       "<div>\n",
       "<style scoped>\n",
       "    .dataframe tbody tr th:only-of-type {\n",
       "        vertical-align: middle;\n",
       "    }\n",
       "\n",
       "    .dataframe tbody tr th {\n",
       "        vertical-align: top;\n",
       "    }\n",
       "\n",
       "    .dataframe thead th {\n",
       "        text-align: right;\n",
       "    }\n",
       "</style>\n",
       "<table border=\"1\" class=\"dataframe\">\n",
       "  <thead>\n",
       "    <tr style=\"text-align: right;\">\n",
       "      <th></th>\n",
       "      <th>Model Price</th>\n",
       "      <th>Market Price</th>\n",
       "      <th>Implied Vol</th>\n",
       "      <th>Market Vol</th>\n",
       "      <th>Rel Error Price</th>\n",
       "      <th>Rel Error Vols</th>\n",
       "    </tr>\n",
       "  </thead>\n",
       "  <tbody>\n",
       "    <tr>\n",
       "      <th></th>\n",
       "      <td>0.008717</td>\n",
       "      <td>0.009485</td>\n",
       "      <td>0.105497</td>\n",
       "      <td>0.1148</td>\n",
       "      <td>-0.080954</td>\n",
       "      <td>-0.081033</td>\n",
       "    </tr>\n",
       "    <tr>\n",
       "      <th></th>\n",
       "      <td>0.009670</td>\n",
       "      <td>0.010078</td>\n",
       "      <td>0.106309</td>\n",
       "      <td>0.1108</td>\n",
       "      <td>-0.040453</td>\n",
       "      <td>-0.040531</td>\n",
       "    </tr>\n",
       "    <tr>\n",
       "      <th></th>\n",
       "      <td>0.008679</td>\n",
       "      <td>0.008716</td>\n",
       "      <td>0.106540</td>\n",
       "      <td>0.1070</td>\n",
       "      <td>-0.004297</td>\n",
       "      <td>-0.004297</td>\n",
       "    </tr>\n",
       "    <tr>\n",
       "      <th></th>\n",
       "      <td>0.006503</td>\n",
       "      <td>0.006226</td>\n",
       "      <td>0.106656</td>\n",
       "      <td>0.1021</td>\n",
       "      <td>0.044457</td>\n",
       "      <td>0.044623</td>\n",
       "    </tr>\n",
       "    <tr>\n",
       "      <th></th>\n",
       "      <td>0.003547</td>\n",
       "      <td>0.003323</td>\n",
       "      <td>0.106765</td>\n",
       "      <td>0.1000</td>\n",
       "      <td>0.067333</td>\n",
       "      <td>0.067646</td>\n",
       "    </tr>\n",
       "  </tbody>\n",
       "</table>\n",
       "</div>"
      ],
      "text/plain": [
       "  Model Price  Market Price  Implied Vol  Market Vol  Rel Error Price  \\\n",
       "     0.008717      0.009485     0.105497      0.1148        -0.080954   \n",
       "     0.009670      0.010078     0.106309      0.1108        -0.040453   \n",
       "     0.008679      0.008716     0.106540      0.1070        -0.004297   \n",
       "     0.006503      0.006226     0.106656      0.1021         0.044457   \n",
       "     0.003547      0.003323     0.106765      0.1000         0.067333   \n",
       "\n",
       "  Rel Error Vols  \n",
       "       -0.081033  \n",
       "       -0.040531  \n",
       "       -0.004297  \n",
       "        0.044623  \n",
       "        0.067646  "
      ]
     },
     "execution_count": 10,
     "metadata": {},
     "output_type": "execute_result"
    }
   ],
   "source": [
    "calibration_report(swaptions, data)"
   ]
  },
  {
   "cell_type": "markdown",
   "metadata": {},
   "source": [
    "#### G2++ Model\n",
    "\n",
    "As a final example, let us look at a calibration example of the 2-factor G2++ model.\n",
    "$$ dr_t = \\varphi(t) + x_t + y_t $$ \n",
    "    \n",
    "where $ x_t $ and $ y_t $ are defined by\n",
    "\n",
    "$$\n",
    "\\begin{eqnarray}\n",
    "dx_t &=& -a x_t dt + \\sigma dW^1_t  \\\\\n",
    "dy_t &=& -b y_t dt + \\eta dW^2_t \\\\\n",
    "\\left<dW^1_t dW^2_t\\right> &=& \\rho dt \n",
    "\\end{eqnarray}\n",
    "$$\n",
    "\n",
    "Once again, we use the `TreeSwaptionEngine` to value the swaptions in the calibration step. One can also use `G2SwaptionEngine` and `FdG2SwaptionEngine`. But the calibration times, and accuracy can vary depending on the choice of parameters."
   ]
  },
  {
   "cell_type": "code",
   "execution_count": 11,
   "metadata": {},
   "outputs": [
    {
     "name": "stdout",
     "output_type": "stream",
     "text": [
      "a = 0.03942, sigma = 0.00473, b = 0.04720, eta = 0.00301, rho = 0.03865 \n"
     ]
    }
   ],
   "source": [
    "model = G2(term_structure);\n",
    "engine = TreeSwaptionEngine(model, 25)\n",
    "# engine = ql.G2SwaptionEngine(model, 10, 400)\n",
    "# engine = ql.FdG2SwaptionEngine(model)\n",
    "swaptions = create_swaption_helpers(data, index, term_structure, engine)\n",
    "\n",
    "optimization_method = LevenbergMarquardt(1.0e-8,1.0e-8,1.0e-8)\n",
    "end_criteria = EndCriteria(1000, 100, 1e-6, 1e-8, 1e-8)\n",
    "model.calibrate(swaptions, optimization_method, end_criteria)\n",
    "\n",
    "a, sigma, b, eta, rho = model.params()\n",
    "print(\"a = %6.5f, sigma = %6.5f, b = %6.5f, eta = %6.5f, rho = %6.5f \" % \\\n",
    "      (a, sigma, b, eta, rho))"
   ]
  },
  {
   "cell_type": "code",
   "execution_count": 12,
   "metadata": {},
   "outputs": [
    {
     "name": "stdout",
     "output_type": "stream",
     "text": [
      "Cumulative Error Price: 0.12241\n",
      "Cumulative Error Vols : 0.12272\n"
     ]
    },
    {
     "data": {
      "text/html": [
       "<div>\n",
       "<style scoped>\n",
       "    .dataframe tbody tr th:only-of-type {\n",
       "        vertical-align: middle;\n",
       "    }\n",
       "\n",
       "    .dataframe tbody tr th {\n",
       "        vertical-align: top;\n",
       "    }\n",
       "\n",
       "    .dataframe thead th {\n",
       "        text-align: right;\n",
       "    }\n",
       "</style>\n",
       "<table border=\"1\" class=\"dataframe\">\n",
       "  <thead>\n",
       "    <tr style=\"text-align: right;\">\n",
       "      <th></th>\n",
       "      <th>Model Price</th>\n",
       "      <th>Market Price</th>\n",
       "      <th>Implied Vol</th>\n",
       "      <th>Market Vol</th>\n",
       "      <th>Rel Error Price</th>\n",
       "      <th>Rel Error Vols</th>\n",
       "    </tr>\n",
       "  </thead>\n",
       "  <tbody>\n",
       "    <tr>\n",
       "      <th></th>\n",
       "      <td>0.008704</td>\n",
       "      <td>0.009485</td>\n",
       "      <td>0.105333</td>\n",
       "      <td>0.1148</td>\n",
       "      <td>-0.082383</td>\n",
       "      <td>-0.082464</td>\n",
       "    </tr>\n",
       "    <tr>\n",
       "      <th></th>\n",
       "      <td>0.009672</td>\n",
       "      <td>0.010078</td>\n",
       "      <td>0.106322</td>\n",
       "      <td>0.1108</td>\n",
       "      <td>-0.040334</td>\n",
       "      <td>-0.040412</td>\n",
       "    </tr>\n",
       "    <tr>\n",
       "      <th></th>\n",
       "      <td>0.008676</td>\n",
       "      <td>0.008716</td>\n",
       "      <td>0.106510</td>\n",
       "      <td>0.1070</td>\n",
       "      <td>-0.004583</td>\n",
       "      <td>-0.004583</td>\n",
       "    </tr>\n",
       "    <tr>\n",
       "      <th></th>\n",
       "      <td>0.006503</td>\n",
       "      <td>0.006226</td>\n",
       "      <td>0.106647</td>\n",
       "      <td>0.1021</td>\n",
       "      <td>0.044365</td>\n",
       "      <td>0.044531</td>\n",
       "    </tr>\n",
       "    <tr>\n",
       "      <th></th>\n",
       "      <td>0.003548</td>\n",
       "      <td>0.003323</td>\n",
       "      <td>0.106800</td>\n",
       "      <td>0.1000</td>\n",
       "      <td>0.067681</td>\n",
       "      <td>0.067996</td>\n",
       "    </tr>\n",
       "  </tbody>\n",
       "</table>\n",
       "</div>"
      ],
      "text/plain": [
       "  Model Price  Market Price  Implied Vol  Market Vol  Rel Error Price  \\\n",
       "     0.008704      0.009485     0.105333      0.1148        -0.082383   \n",
       "     0.009672      0.010078     0.106322      0.1108        -0.040334   \n",
       "     0.008676      0.008716     0.106510      0.1070        -0.004583   \n",
       "     0.006503      0.006226     0.106647      0.1021         0.044365   \n",
       "     0.003548      0.003323     0.106800      0.1000         0.067681   \n",
       "\n",
       "  Rel Error Vols  \n",
       "       -0.082464  \n",
       "       -0.040412  \n",
       "       -0.004583  \n",
       "        0.044531  \n",
       "        0.067996  "
      ]
     },
     "execution_count": 12,
     "metadata": {},
     "output_type": "execute_result"
    }
   ],
   "source": [
    "calibration_report(swaptions, data)"
   ]
  },
  {
   "cell_type": "markdown",
   "metadata": {},
   "source": [
    "#### Calibrating to Normal Volatilities \n",
    "\n",
    "In certain markets in Europe and Japan for instance have had negative interest rates in the recent past for some of the tenors of the yield curve. The lognormal volatility quotes used above are inconsistent with negative rates and it is generally a practice to quote normal volaitilities in this case. The ``SwaptionHelperPtr`` used above with lognormal volatilities can be modified for normal volatilities by setting the ``VolatilityType`` parameter.\n",
    "\n",
    "\n",
    "The full `C++` syntax for the `SwaptionHelper` object is as shown below:\n",
    "\n",
    "\n",
    "    SwaptionHelperPtr(const Date& exerciseDate, const Period& length,\n",
    "                  const Handle<Quote>& volatility,\n",
    "                  const IborIndexPtr& index,\n",
    "                  const Period& fixedLegTenor,\n",
    "                  const DayCounter& fixedLegDayCounter,\n",
    "                  const DayCounter& floatingLegDayCounter,\n",
    "                  const Handle<YieldTermStructure>& termStructure,\n",
    "                  CalibrationHelper::CalibrationErrorType errorType\n",
    "                            = CalibrationHelper::RelativePriceError,\n",
    "                  const Real strike = Null<Real>(),\n",
    "                  const Real nominal = 1.0,\n",
    "                  const VolatilityType type = ShiftedLognormal,\n",
    "                  const Real shift = 0.0) \n",
    "\n",
    "\n",
    "In the above examples, we did not pass any of the optional arguments for `errorType`, `strike`, `nominal` and `type` specifying the `VolatilityType`. One can set the optional `type` parameter to change from log-normal volatilities to normal volatilities. \n",
    "\n",
    "A function to create swaption helpers with `normal` volatilities is shown below:"
   ]
  },
  {
   "cell_type": "code",
   "execution_count": 13,
   "metadata": {},
   "outputs": [],
   "source": [
    "def create_swaption_helpers_normal(data, index, term_structure, engine):\n",
    "    swaptions = []\n",
    "    fixed_leg_tenor = Period(1, Years)\n",
    "    fixed_leg_daycounter = Actual360()\n",
    "    floating_leg_daycounter = Actual360()\n",
    "    for d in data:\n",
    "        vol_handle = QuoteHandle(SimpleQuote(d.volatility))\n",
    "        helper= SwaptionHelper(Period(d.start, Years),\n",
    "                               Period(d.length, Years),\n",
    "                               vol_handle,\n",
    "                               index,\n",
    "                               fixed_leg_tenor,\n",
    "                               fixed_leg_daycounter,\n",
    "                               floating_leg_daycounter,\n",
    "                               term_structure,\n",
    "                               CalibrationHelper.RelativePriceError,\n",
    "                               nullDouble(),\n",
    "                               1.0,\n",
    "                               Normal\n",
    "                               )\n",
    "        helper.setPricingEngine(engine)\n",
    "        swaptions.append(helper)\n",
    "    return swaptions    \n"
   ]
  },
  {
   "cell_type": "markdown",
   "metadata": {},
   "source": [
    "Now, we can call the ``create_swaption_helpers_normal`` instead to constructions swaptions with normal volatilities and pass it to the calibration routine to determine the model parameters."
   ]
  },
  {
   "cell_type": "code",
   "execution_count": 14,
   "metadata": {},
   "outputs": [
    {
     "name": "stdout",
     "output_type": "stream",
     "text": [
      "a = 0.04595, sigma = 0.11868\n"
     ]
    }
   ],
   "source": [
    "model = HullWhite(term_structure);\n",
    "engine = JamshidianSwaptionEngine(model)\n",
    "swaptions = create_swaption_helpers_normal(data, index, term_structure, engine)\n",
    "\n",
    "optimization_method = LevenbergMarquardt(1.0e-8,1.0e-8,1.0e-8)\n",
    "end_criteria = EndCriteria(10000, 100, 1e-6, 1e-8, 1e-8)\n",
    "model.calibrate(swaptions, optimization_method, end_criteria)\n",
    "\n",
    "a, sigma = model.params()\n",
    "print(\"a = %6.5f, sigma = %6.5f\" % (a, sigma))"
   ]
  },
  {
   "cell_type": "markdown",
   "metadata": {},
   "source": [
    "#### Conclusion\n",
    "\n",
    "In this chapter, we saw some simple examples of calibrating the interest rate models to the swaption volatilities. We looked at setting up different interest rate models and discussed both lognormal and normal volatilities. "
   ]
  }
 ],
 "metadata": {
  "kernelspec": {
   "display_name": "Python 3",
   "language": "python",
   "name": "python3"
  },
  "language_info": {
   "codemirror_mode": {
    "name": "ipython",
    "version": 3
   },
   "file_extension": ".py",
   "mimetype": "text/x-python",
   "name": "python",
   "nbconvert_exporter": "python",
   "pygments_lexer": "ipython3",
   "version": "3.6.5"
  }
 },
 "nbformat": 4,
 "nbformat_minor": 1
}
