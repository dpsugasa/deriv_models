{
 "cells": [
  {
   "cell_type": "markdown",
   "metadata": {},
   "source": [
    "# More mischievous conventions"
   ]
  },
  {
   "cell_type": "markdown",
   "metadata": {},
   "source": [
    "(Based on [a question](http://quant.stackexchange.com/questions/12707/) by _Stack Exchange_ user nickos556. Thanks!)"
   ]
  },
  {
   "cell_type": "code",
   "execution_count": 1,
   "metadata": {},
   "outputs": [],
   "source": [
    "from QuantLib import *\n",
    "from pandas import DataFrame"
   ]
  },
  {
   "cell_type": "markdown",
   "metadata": {},
   "source": [
    "#### The case of the two slightly different prices"
   ]
  },
  {
   "cell_type": "markdown",
   "metadata": {},
   "source": [
    "nickos556 instantiated a fixed-rate bond with semiannual payments and tried to deduce its price from a given yield:"
   ]
  },
  {
   "cell_type": "code",
   "execution_count": 2,
   "metadata": {},
   "outputs": [],
   "source": [
    "today = Date(27, January, 2011)\n",
    "Settings.instance().evaluationDate = today"
   ]
  },
  {
   "cell_type": "code",
   "execution_count": 3,
   "metadata": {},
   "outputs": [],
   "source": [
    "issueDate = Date(28, January, 2011)\n",
    "maturity = Date(31, August, 2020)\n",
    "schedule = Schedule(issueDate, maturity, Period(Semiannual),\n",
    "                    UnitedStates(UnitedStates.GovernmentBond),\n",
    "                    Unadjusted, Unadjusted,\n",
    "                    DateGeneration.Backward, False)\n",
    "\n",
    "bond = FixedRateBond(1, 100.0, schedule,\n",
    "                     [0.03625],\n",
    "                     ActualActual(ActualActual.Bond),\n",
    "                     Unadjusted,\n",
    "                     100.0)"
   ]
  },
  {
   "cell_type": "markdown",
   "metadata": {},
   "source": [
    "This can be done either by passing the yield directly..."
   ]
  },
  {
   "cell_type": "code",
   "execution_count": 4,
   "metadata": {},
   "outputs": [],
   "source": [
    "bond_yield = 0.034921\n",
    "\n",
    "P1 = bond.dirtyPrice(bond_yield, bond.dayCounter(), Compounded, Semiannual)"
   ]
  },
  {
   "cell_type": "markdown",
   "metadata": {},
   "source": [
    "...or by first setting an engine that uses a corresponding flat term structure."
   ]
  },
  {
   "cell_type": "code",
   "execution_count": 5,
   "metadata": {},
   "outputs": [],
   "source": [
    "flat_curve = FlatForward(bond.settlementDate(), bond_yield,\n",
    "                         ActualActual(ActualActual.Bond),\n",
    "                         Compounded, Semiannual)\n",
    "\n",
    "engine = DiscountingBondEngine(YieldTermStructureHandle(flat_curve))\n",
    "bond.setPricingEngine(engine)\n",
    "P2 = bond.dirtyPrice()"
   ]
  },
  {
   "cell_type": "markdown",
   "metadata": {},
   "source": [
    "Surprisingly, the results were different:"
   ]
  },
  {
   "cell_type": "code",
   "execution_count": 6,
   "metadata": {},
   "outputs": [
    {
     "data": {
      "text/html": [
       "<div>\n",
       "<style scoped>\n",
       "    .dataframe tbody tr th:only-of-type {\n",
       "        vertical-align: middle;\n",
       "    }\n",
       "\n",
       "    .dataframe tbody tr th {\n",
       "        vertical-align: top;\n",
       "    }\n",
       "\n",
       "    .dataframe thead th {\n",
       "        text-align: right;\n",
       "    }\n",
       "</style>\n",
       "<table border=\"1\" class=\"dataframe\">\n",
       "  <thead>\n",
       "    <tr style=\"text-align: right;\">\n",
       "      <th></th>\n",
       "      <th>with yield</th>\n",
       "      <th>with curve</th>\n",
       "    </tr>\n",
       "  </thead>\n",
       "  <tbody>\n",
       "    <tr>\n",
       "      <th></th>\n",
       "      <td>101.076816</td>\n",
       "      <td>101.079986</td>\n",
       "    </tr>\n",
       "  </tbody>\n",
       "</table>\n",
       "</div>"
      ],
      "text/plain": [
       "  with yield  with curve\n",
       "  101.076816  101.079986"
      ]
     },
     "execution_count": 6,
     "metadata": {},
     "output_type": "execute_result"
    }
   ],
   "source": [
    "DataFrame([(P1,P2)], columns=['with yield', 'with curve'], index=[''])"
   ]
  },
  {
   "cell_type": "markdown",
   "metadata": {},
   "source": [
    "#### What happened?"
   ]
  },
  {
   "cell_type": "markdown",
   "metadata": {},
   "source": [
    "Mischievous conventions again. The bond uses the Actual/Actual(Bond) convention, which has a requirement: in the case of short or long coupons, we also need to pass a reference start and end date that determine the regular underlying period. Case in point: this bond has a short first coupon."
   ]
  },
  {
   "cell_type": "code",
   "execution_count": 7,
   "metadata": {},
   "outputs": [
    {
     "data": {
      "text/html": [
       "<div>\n",
       "<style scoped>\n",
       "    .dataframe tbody tr th:only-of-type {\n",
       "        vertical-align: middle;\n",
       "    }\n",
       "\n",
       "    .dataframe tbody tr th {\n",
       "        vertical-align: top;\n",
       "    }\n",
       "\n",
       "    .dataframe thead th {\n",
       "        text-align: right;\n",
       "    }\n",
       "</style>\n",
       "<table border=\"1\" class=\"dataframe\">\n",
       "  <thead>\n",
       "    <tr style=\"text-align: right;\">\n",
       "      <th></th>\n",
       "      <th>start date</th>\n",
       "      <th>end date</th>\n",
       "    </tr>\n",
       "  </thead>\n",
       "  <tbody>\n",
       "    <tr>\n",
       "      <th>1</th>\n",
       "      <td>January 28th, 2011</td>\n",
       "      <td>February 28th, 2011</td>\n",
       "    </tr>\n",
       "    <tr>\n",
       "      <th>2</th>\n",
       "      <td>February 28th, 2011</td>\n",
       "      <td>August 31st, 2011</td>\n",
       "    </tr>\n",
       "    <tr>\n",
       "      <th>3</th>\n",
       "      <td>August 31st, 2011</td>\n",
       "      <td>February 29th, 2012</td>\n",
       "    </tr>\n",
       "    <tr>\n",
       "      <th>4</th>\n",
       "      <td>February 29th, 2012</td>\n",
       "      <td>August 31st, 2012</td>\n",
       "    </tr>\n",
       "    <tr>\n",
       "      <th>5</th>\n",
       "      <td>August 31st, 2012</td>\n",
       "      <td>February 28th, 2013</td>\n",
       "    </tr>\n",
       "    <tr>\n",
       "      <th>6</th>\n",
       "      <td>February 28th, 2013</td>\n",
       "      <td>August 31st, 2013</td>\n",
       "    </tr>\n",
       "    <tr>\n",
       "      <th>7</th>\n",
       "      <td>August 31st, 2013</td>\n",
       "      <td>February 28th, 2014</td>\n",
       "    </tr>\n",
       "    <tr>\n",
       "      <th>8</th>\n",
       "      <td>February 28th, 2014</td>\n",
       "      <td>August 31st, 2014</td>\n",
       "    </tr>\n",
       "    <tr>\n",
       "      <th>9</th>\n",
       "      <td>August 31st, 2014</td>\n",
       "      <td>February 28th, 2015</td>\n",
       "    </tr>\n",
       "    <tr>\n",
       "      <th>10</th>\n",
       "      <td>February 28th, 2015</td>\n",
       "      <td>August 31st, 2015</td>\n",
       "    </tr>\n",
       "    <tr>\n",
       "      <th>11</th>\n",
       "      <td>August 31st, 2015</td>\n",
       "      <td>February 29th, 2016</td>\n",
       "    </tr>\n",
       "    <tr>\n",
       "      <th>12</th>\n",
       "      <td>February 29th, 2016</td>\n",
       "      <td>August 31st, 2016</td>\n",
       "    </tr>\n",
       "    <tr>\n",
       "      <th>13</th>\n",
       "      <td>August 31st, 2016</td>\n",
       "      <td>February 28th, 2017</td>\n",
       "    </tr>\n",
       "    <tr>\n",
       "      <th>14</th>\n",
       "      <td>February 28th, 2017</td>\n",
       "      <td>August 31st, 2017</td>\n",
       "    </tr>\n",
       "    <tr>\n",
       "      <th>15</th>\n",
       "      <td>August 31st, 2017</td>\n",
       "      <td>February 28th, 2018</td>\n",
       "    </tr>\n",
       "    <tr>\n",
       "      <th>16</th>\n",
       "      <td>February 28th, 2018</td>\n",
       "      <td>August 31st, 2018</td>\n",
       "    </tr>\n",
       "    <tr>\n",
       "      <th>17</th>\n",
       "      <td>August 31st, 2018</td>\n",
       "      <td>February 28th, 2019</td>\n",
       "    </tr>\n",
       "    <tr>\n",
       "      <th>18</th>\n",
       "      <td>February 28th, 2019</td>\n",
       "      <td>August 31st, 2019</td>\n",
       "    </tr>\n",
       "    <tr>\n",
       "      <th>19</th>\n",
       "      <td>August 31st, 2019</td>\n",
       "      <td>February 29th, 2020</td>\n",
       "    </tr>\n",
       "    <tr>\n",
       "      <th>20</th>\n",
       "      <td>February 29th, 2020</td>\n",
       "      <td>August 31st, 2020</td>\n",
       "    </tr>\n",
       "  </tbody>\n",
       "</table>\n",
       "</div>"
      ],
      "text/plain": [
       "             start date             end date\n",
       "1    January 28th, 2011  February 28th, 2011\n",
       "2   February 28th, 2011    August 31st, 2011\n",
       "3     August 31st, 2011  February 29th, 2012\n",
       "4   February 29th, 2012    August 31st, 2012\n",
       "5     August 31st, 2012  February 28th, 2013\n",
       "6   February 28th, 2013    August 31st, 2013\n",
       "7     August 31st, 2013  February 28th, 2014\n",
       "8   February 28th, 2014    August 31st, 2014\n",
       "9     August 31st, 2014  February 28th, 2015\n",
       "10  February 28th, 2015    August 31st, 2015\n",
       "11    August 31st, 2015  February 29th, 2016\n",
       "12  February 29th, 2016    August 31st, 2016\n",
       "13    August 31st, 2016  February 28th, 2017\n",
       "14  February 28th, 2017    August 31st, 2017\n",
       "15    August 31st, 2017  February 28th, 2018\n",
       "16  February 28th, 2018    August 31st, 2018\n",
       "17    August 31st, 2018  February 28th, 2019\n",
       "18  February 28th, 2019    August 31st, 2019\n",
       "19    August 31st, 2019  February 29th, 2020\n",
       "20  February 29th, 2020    August 31st, 2020"
      ]
     },
     "execution_count": 7,
     "metadata": {},
     "output_type": "execute_result"
    }
   ],
   "source": [
    "DataFrame([(as_coupon(c).accrualStartDate(), as_coupon(c).accrualEndDate())\n",
    "           for c in bond.cashflows()[:-1]],\n",
    "          columns = ('start date','end date'),\n",
    "          index = range(1, len(bond.cashflows())))"
   ]
  },
  {
   "cell_type": "markdown",
   "metadata": {},
   "source": [
    "The accrual time for the coupon, starting January 27th 2011 and ending February 28th 2011, must be calculated as:"
   ]
  },
  {
   "cell_type": "code",
   "execution_count": 8,
   "metadata": {},
   "outputs": [
    {
     "name": "stdout",
     "output_type": "stream",
     "text": [
      "0.08423913043478261\n"
     ]
    }
   ],
   "source": [
    "dayCounter = ActualActual(ActualActual.Bond)\n",
    "\n",
    "T = dayCounter.yearFraction(Date(28, January, 2011), Date(28, February, 2011),\n",
    "                            Date(28,August,2010),  Date(28,February,2011))\n",
    "print(T)"
   ]
  },
  {
   "cell_type": "markdown",
   "metadata": {},
   "source": [
    "If the coupon were annual, it would be:"
   ]
  },
  {
   "cell_type": "code",
   "execution_count": 9,
   "metadata": {},
   "outputs": [
    {
     "name": "stdout",
     "output_type": "stream",
     "text": [
      "0.08493150684931507\n"
     ]
    }
   ],
   "source": [
    "print(dayCounter.yearFraction(Date(28, January, 2011), Date(28, February, 2011),\n",
    "                              Date(28,February,2010),  Date(28,February,2011)))"
   ]
  },
  {
   "cell_type": "markdown",
   "metadata": {},
   "source": [
    "The corresponding discount factor given the yield is as follows:"
   ]
  },
  {
   "cell_type": "code",
   "execution_count": 10,
   "metadata": {},
   "outputs": [
    {
     "name": "stdout",
     "output_type": "stream",
     "text": [
      "0.997087920498809\n"
     ]
    }
   ],
   "source": [
    "y = InterestRate(bond_yield, dayCounter, Compounded, Semiannual)\n",
    "print(y.discountFactor(T))"
   ]
  },
  {
   "cell_type": "markdown",
   "metadata": {},
   "source": [
    "#### Yield-based calculation"
   ]
  },
  {
   "cell_type": "markdown",
   "metadata": {},
   "source": [
    "The yield-based calculation uses the above to discount the first coupon, and combines it with discount factors corresponding to the regular coupon times to discount the others. We can write down the full computation:"
   ]
  },
  {
   "cell_type": "code",
   "execution_count": 11,
   "metadata": {},
   "outputs": [
    {
     "data": {
      "text/html": [
       "<div>\n",
       "<style scoped>\n",
       "    .dataframe tbody tr th:only-of-type {\n",
       "        vertical-align: middle;\n",
       "    }\n",
       "\n",
       "    .dataframe tbody tr th {\n",
       "        vertical-align: top;\n",
       "    }\n",
       "\n",
       "    .dataframe thead th {\n",
       "        text-align: right;\n",
       "    }\n",
       "</style>\n",
       "<table border=\"1\" class=\"dataframe\">\n",
       "  <thead>\n",
       "    <tr style=\"text-align: right;\">\n",
       "      <th></th>\n",
       "      <th>amount</th>\n",
       "      <th>T</th>\n",
       "      <th>discount</th>\n",
       "      <th>discount (cum.)</th>\n",
       "      <th>amount (disc.)</th>\n",
       "    </tr>\n",
       "  </thead>\n",
       "  <tbody>\n",
       "    <tr>\n",
       "      <th></th>\n",
       "      <td>0.305367</td>\n",
       "      <td>0.0842391</td>\n",
       "      <td>0.997088</td>\n",
       "      <td>0.997088</td>\n",
       "      <td>0.304478</td>\n",
       "    </tr>\n",
       "    <tr>\n",
       "      <th></th>\n",
       "      <td>1.812500</td>\n",
       "      <td>0.5</td>\n",
       "      <td>0.982839</td>\n",
       "      <td>0.979977</td>\n",
       "      <td>1.776208</td>\n",
       "    </tr>\n",
       "    <tr>\n",
       "      <th></th>\n",
       "      <td>1.812500</td>\n",
       "      <td>0.5</td>\n",
       "      <td>0.982839</td>\n",
       "      <td>0.963160</td>\n",
       "      <td>1.745727</td>\n",
       "    </tr>\n",
       "    <tr>\n",
       "      <th></th>\n",
       "      <td>1.812500</td>\n",
       "      <td>0.5</td>\n",
       "      <td>0.982839</td>\n",
       "      <td>0.946631</td>\n",
       "      <td>1.715769</td>\n",
       "    </tr>\n",
       "    <tr>\n",
       "      <th></th>\n",
       "      <td>1.812500</td>\n",
       "      <td>0.5</td>\n",
       "      <td>0.982839</td>\n",
       "      <td>0.930386</td>\n",
       "      <td>1.686325</td>\n",
       "    </tr>\n",
       "    <tr>\n",
       "      <th></th>\n",
       "      <td>1.812500</td>\n",
       "      <td>0.5</td>\n",
       "      <td>0.982839</td>\n",
       "      <td>0.914420</td>\n",
       "      <td>1.657386</td>\n",
       "    </tr>\n",
       "    <tr>\n",
       "      <th></th>\n",
       "      <td>1.812500</td>\n",
       "      <td>0.5</td>\n",
       "      <td>0.982839</td>\n",
       "      <td>0.898728</td>\n",
       "      <td>1.628944</td>\n",
       "    </tr>\n",
       "    <tr>\n",
       "      <th></th>\n",
       "      <td>1.812500</td>\n",
       "      <td>0.5</td>\n",
       "      <td>0.982839</td>\n",
       "      <td>0.883305</td>\n",
       "      <td>1.600990</td>\n",
       "    </tr>\n",
       "    <tr>\n",
       "      <th></th>\n",
       "      <td>1.812500</td>\n",
       "      <td>0.5</td>\n",
       "      <td>0.982839</td>\n",
       "      <td>0.868146</td>\n",
       "      <td>1.573515</td>\n",
       "    </tr>\n",
       "    <tr>\n",
       "      <th></th>\n",
       "      <td>1.812500</td>\n",
       "      <td>0.5</td>\n",
       "      <td>0.982839</td>\n",
       "      <td>0.853248</td>\n",
       "      <td>1.546513</td>\n",
       "    </tr>\n",
       "    <tr>\n",
       "      <th></th>\n",
       "      <td>1.812500</td>\n",
       "      <td>0.5</td>\n",
       "      <td>0.982839</td>\n",
       "      <td>0.838606</td>\n",
       "      <td>1.519973</td>\n",
       "    </tr>\n",
       "    <tr>\n",
       "      <th></th>\n",
       "      <td>1.812500</td>\n",
       "      <td>0.5</td>\n",
       "      <td>0.982839</td>\n",
       "      <td>0.824215</td>\n",
       "      <td>1.493889</td>\n",
       "    </tr>\n",
       "    <tr>\n",
       "      <th></th>\n",
       "      <td>1.812500</td>\n",
       "      <td>0.5</td>\n",
       "      <td>0.982839</td>\n",
       "      <td>0.810070</td>\n",
       "      <td>1.468253</td>\n",
       "    </tr>\n",
       "    <tr>\n",
       "      <th></th>\n",
       "      <td>1.812500</td>\n",
       "      <td>0.5</td>\n",
       "      <td>0.982839</td>\n",
       "      <td>0.796169</td>\n",
       "      <td>1.443056</td>\n",
       "    </tr>\n",
       "    <tr>\n",
       "      <th></th>\n",
       "      <td>1.812500</td>\n",
       "      <td>0.5</td>\n",
       "      <td>0.982839</td>\n",
       "      <td>0.782506</td>\n",
       "      <td>1.418292</td>\n",
       "    </tr>\n",
       "    <tr>\n",
       "      <th></th>\n",
       "      <td>1.812500</td>\n",
       "      <td>0.5</td>\n",
       "      <td>0.982839</td>\n",
       "      <td>0.769077</td>\n",
       "      <td>1.393953</td>\n",
       "    </tr>\n",
       "    <tr>\n",
       "      <th></th>\n",
       "      <td>1.812500</td>\n",
       "      <td>0.5</td>\n",
       "      <td>0.982839</td>\n",
       "      <td>0.755879</td>\n",
       "      <td>1.370031</td>\n",
       "    </tr>\n",
       "    <tr>\n",
       "      <th></th>\n",
       "      <td>1.812500</td>\n",
       "      <td>0.5</td>\n",
       "      <td>0.982839</td>\n",
       "      <td>0.742908</td>\n",
       "      <td>1.346521</td>\n",
       "    </tr>\n",
       "    <tr>\n",
       "      <th></th>\n",
       "      <td>1.812500</td>\n",
       "      <td>0.5</td>\n",
       "      <td>0.982839</td>\n",
       "      <td>0.730159</td>\n",
       "      <td>1.323413</td>\n",
       "    </tr>\n",
       "    <tr>\n",
       "      <th></th>\n",
       "      <td>1.812500</td>\n",
       "      <td>0.5</td>\n",
       "      <td>0.982839</td>\n",
       "      <td>0.717629</td>\n",
       "      <td>1.300702</td>\n",
       "    </tr>\n",
       "    <tr>\n",
       "      <th></th>\n",
       "      <td>100.000000</td>\n",
       "      <td></td>\n",
       "      <td></td>\n",
       "      <td>0.717629</td>\n",
       "      <td>71.762879</td>\n",
       "    </tr>\n",
       "  </tbody>\n",
       "</table>\n",
       "</div>"
      ],
      "text/plain": [
       "      amount          T  discount  discount (cum.)  amount (disc.)\n",
       "    0.305367  0.0842391  0.997088         0.997088        0.304478\n",
       "    1.812500        0.5  0.982839         0.979977        1.776208\n",
       "    1.812500        0.5  0.982839         0.963160        1.745727\n",
       "    1.812500        0.5  0.982839         0.946631        1.715769\n",
       "    1.812500        0.5  0.982839         0.930386        1.686325\n",
       "    1.812500        0.5  0.982839         0.914420        1.657386\n",
       "    1.812500        0.5  0.982839         0.898728        1.628944\n",
       "    1.812500        0.5  0.982839         0.883305        1.600990\n",
       "    1.812500        0.5  0.982839         0.868146        1.573515\n",
       "    1.812500        0.5  0.982839         0.853248        1.546513\n",
       "    1.812500        0.5  0.982839         0.838606        1.519973\n",
       "    1.812500        0.5  0.982839         0.824215        1.493889\n",
       "    1.812500        0.5  0.982839         0.810070        1.468253\n",
       "    1.812500        0.5  0.982839         0.796169        1.443056\n",
       "    1.812500        0.5  0.982839         0.782506        1.418292\n",
       "    1.812500        0.5  0.982839         0.769077        1.393953\n",
       "    1.812500        0.5  0.982839         0.755879        1.370031\n",
       "    1.812500        0.5  0.982839         0.742908        1.346521\n",
       "    1.812500        0.5  0.982839         0.730159        1.323413\n",
       "    1.812500        0.5  0.982839         0.717629        1.300702\n",
       "  100.000000                              0.717629       71.762879"
      ]
     },
     "execution_count": 11,
     "metadata": {},
     "output_type": "execute_result"
    }
   ],
   "source": [
    "data = []\n",
    "for i, c in enumerate(bond.cashflows()[:-1]):\n",
    "    c = as_coupon(c)\n",
    "    A = c.amount()\n",
    "    T = c.accrualPeriod()\n",
    "    D = y.discountFactor(T)\n",
    "    D_cumulative = D if i == 0 else D * data[-1][3]\n",
    "    A_discounted = A*D_cumulative\n",
    "    data.append((A,T,D,D_cumulative,A_discounted))\n",
    "data.append((100,'','',D_cumulative,100*D_cumulative))\n",
    "data = DataFrame(data,\n",
    "                 columns = ('amount', 'T', 'discount', 'discount (cum.)', 'amount (disc.)'),\n",
    "                 index = ['']*len(data))\n",
    "data"
   ]
  },
  {
   "cell_type": "markdown",
   "metadata": {},
   "source": [
    "The bond price is the sum of the discounted amounts..."
   ]
  },
  {
   "cell_type": "code",
   "execution_count": 12,
   "metadata": {},
   "outputs": [
    {
     "name": "stdout",
     "output_type": "stream",
     "text": [
      "101.07681646503603\n"
     ]
    }
   ],
   "source": [
    "print(sum(data['amount (disc.)']))"
   ]
  },
  {
   "cell_type": "markdown",
   "metadata": {},
   "source": [
    "...and, not surprisingly, equals the yield-based bond price."
   ]
  },
  {
   "cell_type": "code",
   "execution_count": 13,
   "metadata": {},
   "outputs": [
    {
     "name": "stdout",
     "output_type": "stream",
     "text": [
      "101.07681646503603\n"
     ]
    }
   ],
   "source": [
    "print(bond.dirtyPrice(bond_yield, bond.dayCounter(), Compounded, Semiannual))"
   ]
  },
  {
   "cell_type": "markdown",
   "metadata": {},
   "source": [
    "#### Curve-based calculation"
   ]
  },
  {
   "cell_type": "markdown",
   "metadata": {},
   "source": [
    "Long story short: the bond engine gets the first discount wrong. Given the curve interface, all it can do is ask for the discounts at the coupon dates, as follows:"
   ]
  },
  {
   "cell_type": "code",
   "execution_count": 14,
   "metadata": {},
   "outputs": [
    {
     "data": {
      "text/html": [
       "<div>\n",
       "<style scoped>\n",
       "    .dataframe tbody tr th:only-of-type {\n",
       "        vertical-align: middle;\n",
       "    }\n",
       "\n",
       "    .dataframe tbody tr th {\n",
       "        vertical-align: top;\n",
       "    }\n",
       "\n",
       "    .dataframe thead th {\n",
       "        text-align: right;\n",
       "    }\n",
       "</style>\n",
       "<table border=\"1\" class=\"dataframe\">\n",
       "  <thead>\n",
       "    <tr style=\"text-align: right;\">\n",
       "      <th></th>\n",
       "      <th>amount</th>\n",
       "      <th>discount</th>\n",
       "      <th>amount (disc.)</th>\n",
       "    </tr>\n",
       "  </thead>\n",
       "  <tbody>\n",
       "    <tr>\n",
       "      <th></th>\n",
       "      <td>0.305367</td>\n",
       "      <td>0.997119</td>\n",
       "      <td>0.304487</td>\n",
       "    </tr>\n",
       "    <tr>\n",
       "      <th></th>\n",
       "      <td>1.812500</td>\n",
       "      <td>0.980008</td>\n",
       "      <td>1.776264</td>\n",
       "    </tr>\n",
       "    <tr>\n",
       "      <th></th>\n",
       "      <td>1.812500</td>\n",
       "      <td>0.963190</td>\n",
       "      <td>1.745782</td>\n",
       "    </tr>\n",
       "    <tr>\n",
       "      <th></th>\n",
       "      <td>1.812500</td>\n",
       "      <td>0.946661</td>\n",
       "      <td>1.715823</td>\n",
       "    </tr>\n",
       "    <tr>\n",
       "      <th></th>\n",
       "      <td>1.812500</td>\n",
       "      <td>0.930415</td>\n",
       "      <td>1.686378</td>\n",
       "    </tr>\n",
       "    <tr>\n",
       "      <th></th>\n",
       "      <td>1.812500</td>\n",
       "      <td>0.914449</td>\n",
       "      <td>1.657438</td>\n",
       "    </tr>\n",
       "    <tr>\n",
       "      <th></th>\n",
       "      <td>1.812500</td>\n",
       "      <td>0.898756</td>\n",
       "      <td>1.628995</td>\n",
       "    </tr>\n",
       "    <tr>\n",
       "      <th></th>\n",
       "      <td>1.812500</td>\n",
       "      <td>0.883332</td>\n",
       "      <td>1.601040</td>\n",
       "    </tr>\n",
       "    <tr>\n",
       "      <th></th>\n",
       "      <td>1.812500</td>\n",
       "      <td>0.868174</td>\n",
       "      <td>1.573565</td>\n",
       "    </tr>\n",
       "    <tr>\n",
       "      <th></th>\n",
       "      <td>1.812500</td>\n",
       "      <td>0.853275</td>\n",
       "      <td>1.546561</td>\n",
       "    </tr>\n",
       "    <tr>\n",
       "      <th></th>\n",
       "      <td>1.812500</td>\n",
       "      <td>0.838632</td>\n",
       "      <td>1.520021</td>\n",
       "    </tr>\n",
       "    <tr>\n",
       "      <th></th>\n",
       "      <td>1.812500</td>\n",
       "      <td>0.824240</td>\n",
       "      <td>1.493936</td>\n",
       "    </tr>\n",
       "    <tr>\n",
       "      <th></th>\n",
       "      <td>1.812500</td>\n",
       "      <td>0.810096</td>\n",
       "      <td>1.468299</td>\n",
       "    </tr>\n",
       "    <tr>\n",
       "      <th></th>\n",
       "      <td>1.812500</td>\n",
       "      <td>0.796194</td>\n",
       "      <td>1.443101</td>\n",
       "    </tr>\n",
       "    <tr>\n",
       "      <th></th>\n",
       "      <td>1.812500</td>\n",
       "      <td>0.782530</td>\n",
       "      <td>1.418336</td>\n",
       "    </tr>\n",
       "    <tr>\n",
       "      <th></th>\n",
       "      <td>1.812500</td>\n",
       "      <td>0.769102</td>\n",
       "      <td>1.393997</td>\n",
       "    </tr>\n",
       "    <tr>\n",
       "      <th></th>\n",
       "      <td>1.812500</td>\n",
       "      <td>0.755903</td>\n",
       "      <td>1.370074</td>\n",
       "    </tr>\n",
       "    <tr>\n",
       "      <th></th>\n",
       "      <td>1.812500</td>\n",
       "      <td>0.742931</td>\n",
       "      <td>1.346563</td>\n",
       "    </tr>\n",
       "    <tr>\n",
       "      <th></th>\n",
       "      <td>1.812500</td>\n",
       "      <td>0.730182</td>\n",
       "      <td>1.323455</td>\n",
       "    </tr>\n",
       "    <tr>\n",
       "      <th></th>\n",
       "      <td>1.812500</td>\n",
       "      <td>0.717651</td>\n",
       "      <td>1.300743</td>\n",
       "    </tr>\n",
       "    <tr>\n",
       "      <th></th>\n",
       "      <td>100.000000</td>\n",
       "      <td>0.717651</td>\n",
       "      <td>71.765129</td>\n",
       "    </tr>\n",
       "  </tbody>\n",
       "</table>\n",
       "</div>"
      ],
      "text/plain": [
       "      amount  discount  amount (disc.)\n",
       "    0.305367  0.997119        0.304487\n",
       "    1.812500  0.980008        1.776264\n",
       "    1.812500  0.963190        1.745782\n",
       "    1.812500  0.946661        1.715823\n",
       "    1.812500  0.930415        1.686378\n",
       "    1.812500  0.914449        1.657438\n",
       "    1.812500  0.898756        1.628995\n",
       "    1.812500  0.883332        1.601040\n",
       "    1.812500  0.868174        1.573565\n",
       "    1.812500  0.853275        1.546561\n",
       "    1.812500  0.838632        1.520021\n",
       "    1.812500  0.824240        1.493936\n",
       "    1.812500  0.810096        1.468299\n",
       "    1.812500  0.796194        1.443101\n",
       "    1.812500  0.782530        1.418336\n",
       "    1.812500  0.769102        1.393997\n",
       "    1.812500  0.755903        1.370074\n",
       "    1.812500  0.742931        1.346563\n",
       "    1.812500  0.730182        1.323455\n",
       "    1.812500  0.717651        1.300743\n",
       "  100.000000  0.717651       71.765129"
      ]
     },
     "execution_count": 14,
     "metadata": {},
     "output_type": "execute_result"
    }
   ],
   "source": [
    "data = []\n",
    "for c in bond.cashflows()[:-1]:\n",
    "    A = c.amount()\n",
    "    D = flat_curve.discount(c.date())\n",
    "    A_discounted = A*D\n",
    "    data.append((A,D,A_discounted))\n",
    "data.append((100.0,D,100.0*D))\n",
    "data = DataFrame(data,\n",
    "                 columns = ('amount', 'discount', 'amount (disc.)'),\n",
    "                 index = ['']*len(data))\n",
    "data"
   ]
  },
  {
   "cell_type": "markdown",
   "metadata": {},
   "source": [
    "The result equals the curve-based price."
   ]
  },
  {
   "cell_type": "code",
   "execution_count": 15,
   "metadata": {},
   "outputs": [
    {
     "name": "stdout",
     "output_type": "stream",
     "text": [
      "101.0799861183387\n"
     ]
    }
   ],
   "source": [
    "print(sum(data['amount (disc.)']))"
   ]
  },
  {
   "cell_type": "code",
   "execution_count": 16,
   "metadata": {},
   "outputs": [
    {
     "name": "stdout",
     "output_type": "stream",
     "text": [
      "101.0799861183387\n"
     ]
    }
   ],
   "source": [
    "print(bond.dirtyPrice())"
   ]
  },
  {
   "cell_type": "markdown",
   "metadata": {},
   "source": [
    "The problem is that the first call to the `discount` method, that is,"
   ]
  },
  {
   "cell_type": "code",
   "execution_count": 17,
   "metadata": {},
   "outputs": [
    {
     "data": {
      "text/plain": [
       "0.9971191880350325"
      ]
     },
     "execution_count": 17,
     "metadata": {},
     "output_type": "execute_result"
    }
   ],
   "source": [
    "flat_curve.discount(Date(28, February, 2011))"
   ]
  },
  {
   "cell_type": "markdown",
   "metadata": {},
   "source": [
    "results in a call to:"
   ]
  },
  {
   "cell_type": "code",
   "execution_count": 18,
   "metadata": {},
   "outputs": [
    {
     "name": "stdout",
     "output_type": "stream",
     "text": [
      "0.08333333333333333\n"
     ]
    }
   ],
   "source": [
    "print(dayCounter.yearFraction(Date(28, January, 2011), Date(28, February, 2011)))"
   ]
  },
  {
   "cell_type": "markdown",
   "metadata": {},
   "source": [
    "Compare this to the correct one:"
   ]
  },
  {
   "cell_type": "code",
   "execution_count": 19,
   "metadata": {},
   "outputs": [
    {
     "name": "stdout",
     "output_type": "stream",
     "text": [
      "0.08423913043478261\n"
     ]
    }
   ],
   "source": [
    "T = dayCounter.yearFraction(Date(28, January, 2011), Date(28, February, 2011),\n",
    "                            Date(28,August,2010),  Date(28,February,2011))\n",
    "print(T)"
   ]
  },
  {
   "cell_type": "markdown",
   "metadata": {},
   "source": [
    "Does this account for the difference in price? Yes, it does. The two prices can be reconciled as follows:"
   ]
  },
  {
   "cell_type": "code",
   "execution_count": 20,
   "metadata": {},
   "outputs": [
    {
     "name": "stdout",
     "output_type": "stream",
     "text": [
      "101.07681646503603\n",
      "101.0768164650361\n"
     ]
    }
   ],
   "source": [
    "P_y = bond.dirtyPrice(bond_yield, bond.dayCounter(), Compounded, Semiannual)\n",
    "D_y = y.discountFactor(T)\n",
    "\n",
    "P_c = bond.dirtyPrice()\n",
    "D_c = flat_curve.discount(Date(28, February, 2011))\n",
    "\n",
    "print(P_y)\n",
    "print(P_c*(D_y/D_c))"
   ]
  }
 ],
 "metadata": {
  "kernelspec": {
   "display_name": "Python 3",
   "language": "python",
   "name": "python3"
  },
  "language_info": {
   "codemirror_mode": {
    "name": "ipython",
    "version": 3
   },
   "file_extension": ".py",
   "mimetype": "text/x-python",
   "name": "python",
   "nbconvert_exporter": "python",
   "pygments_lexer": "ipython3",
   "version": "3.6.5"
  }
 },
 "nbformat": 4,
 "nbformat_minor": 1
}
