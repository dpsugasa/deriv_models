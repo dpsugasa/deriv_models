{
 "cells": [
  {
   "cell_type": "markdown",
   "metadata": {},
   "source": [
    "# Mischievous pricing conventions"
   ]
  },
  {
   "cell_type": "markdown",
   "metadata": {},
   "source": [
    "(Based on [a question](http://stackoverflow.com/questions/15273797/) by _Stack Exchange_ user ducky. Thanks!)"
   ]
  },
  {
   "cell_type": "code",
   "execution_count": 1,
   "metadata": {},
   "outputs": [],
   "source": [
    "from QuantLib import *\n",
    "import pandas as pd"
   ]
  },
  {
   "cell_type": "markdown",
   "metadata": {},
   "source": [
    "#### The case of the bond off par"
   ]
  },
  {
   "cell_type": "markdown",
   "metadata": {},
   "source": [
    "Like our user, I'll instantiate a four-years floating-rate bond with three-months coupons. It's being issued on the evaluation date, January 5th 2010, and for simplicity I won't use any settlement days or holidays:"
   ]
  },
  {
   "cell_type": "code",
   "execution_count": 2,
   "metadata": {},
   "outputs": [],
   "source": [
    "today = Date(5, January, 2010)\n",
    "Settings.instance().evaluationDate = today\n",
    "\n",
    "discounting_curve = RelinkableYieldTermStructureHandle()\n",
    "forecasting_curve = RelinkableYieldTermStructureHandle()\n",
    "\n",
    "index = USDLibor(Period(3, Months), forecasting_curve)\n",
    "\n",
    "settlement_days = 0\n",
    "calendar = NullCalendar()\n",
    "\n",
    "face_amount = 100.0\n",
    "schedule = Schedule(today, today + Period(4, Years),\n",
    "                    Period(3, Months), calendar,\n",
    "                    Unadjusted, Unadjusted,\n",
    "                    DateGeneration.Forward, False)\n",
    "\n",
    "bond = FloatingRateBond(settlement_days,\n",
    "                        face_amount,\n",
    "                        schedule,\n",
    "                        index,\n",
    "                        Thirty360(),\n",
    "                        Unadjusted,\n",
    "                        fixingDays = 0)\n",
    "\n",
    "bond.setPricingEngine(DiscountingBondEngine(discounting_curve))"
   ]
  },
  {
   "cell_type": "markdown",
   "metadata": {},
   "source": [
    "To price it, we use a flat 10% quarterly rate for both forecasting and discounting..."
   ]
  },
  {
   "cell_type": "code",
   "execution_count": 3,
   "metadata": {},
   "outputs": [],
   "source": [
    "flat_rate = FlatForward(today, 0.10, Thirty360(), Compounded, Quarterly)\n",
    "forecasting_curve.linkTo(flat_rate)\n",
    "discounting_curve.linkTo(flat_rate)"
   ]
  },
  {
   "cell_type": "markdown",
   "metadata": {},
   "source": [
    "...so we expect the bond to be at par. Is it?"
   ]
  },
  {
   "cell_type": "code",
   "execution_count": 4,
   "metadata": {},
   "outputs": [
    {
     "name": "stdout",
     "output_type": "stream",
     "text": [
      "99.5433545426823\n"
     ]
    }
   ],
   "source": [
    "print(bond.cleanPrice())"
   ]
  },
  {
   "cell_type": "markdown",
   "metadata": {},
   "source": [
    "Hmm."
   ]
  },
  {
   "cell_type": "markdown",
   "metadata": {},
   "source": [
    "#### What is happening here?"
   ]
  },
  {
   "cell_type": "markdown",
   "metadata": {},
   "source": [
    "We have mismatched a few conventions. The ones with the largest effect are the day-count conventions used for the curve and the index. Here they are:"
   ]
  },
  {
   "cell_type": "code",
   "execution_count": 5,
   "metadata": {},
   "outputs": [
    {
     "name": "stdout",
     "output_type": "stream",
     "text": [
      "30/360 (Bond Basis) day counter\n",
      "30/360 (Bond Basis) day counter\n",
      "Actual/360 day counter\n"
     ]
    }
   ],
   "source": [
    "print(flat_rate.dayCounter())\n",
    "print(as_coupon(bond.cashflows()[0]).dayCounter())\n",
    "print(index.dayCounter())"
   ]
  },
  {
   "cell_type": "markdown",
   "metadata": {},
   "source": [
    "Thus, the coupons accrue for the expected time (given by their day-count convention); however, the rates are not the expected 10%. They are calculated from discount factors given by the curve according to its 30/360 convention and recombined by the index according to its Actual/360 convention, which doesn't end well."
   ]
  },
  {
   "cell_type": "code",
   "execution_count": 6,
   "metadata": {},
   "outputs": [
    {
     "data": {
      "text/html": [
       "<div>\n",
       "<style scoped>\n",
       "    .dataframe tbody tr th:only-of-type {\n",
       "        vertical-align: middle;\n",
       "    }\n",
       "\n",
       "    .dataframe tbody tr th {\n",
       "        vertical-align: top;\n",
       "    }\n",
       "\n",
       "    .dataframe thead th {\n",
       "        text-align: right;\n",
       "    }\n",
       "</style>\n",
       "<table border=\"1\" class=\"dataframe\">\n",
       "  <thead>\n",
       "    <tr style=\"text-align: right;\">\n",
       "      <th></th>\n",
       "      <th>Date</th>\n",
       "      <th>Rate</th>\n",
       "      <th>Accrual period</th>\n",
       "    </tr>\n",
       "  </thead>\n",
       "  <tbody>\n",
       "    <tr>\n",
       "      <th>1</th>\n",
       "      <td>April 5th, 2010</td>\n",
       "      <td>0.100014</td>\n",
       "      <td>0.25</td>\n",
       "    </tr>\n",
       "    <tr>\n",
       "      <th>2</th>\n",
       "      <td>July 5th, 2010</td>\n",
       "      <td>0.098901</td>\n",
       "      <td>0.25</td>\n",
       "    </tr>\n",
       "    <tr>\n",
       "      <th>3</th>\n",
       "      <td>October 5th, 2010</td>\n",
       "      <td>0.097826</td>\n",
       "      <td>0.25</td>\n",
       "    </tr>\n",
       "    <tr>\n",
       "      <th>4</th>\n",
       "      <td>January 5th, 2011</td>\n",
       "      <td>0.097826</td>\n",
       "      <td>0.25</td>\n",
       "    </tr>\n",
       "    <tr>\n",
       "      <th>5</th>\n",
       "      <td>April 5th, 2011</td>\n",
       "      <td>0.100000</td>\n",
       "      <td>0.25</td>\n",
       "    </tr>\n",
       "    <tr>\n",
       "      <th>6</th>\n",
       "      <td>July 5th, 2011</td>\n",
       "      <td>0.098901</td>\n",
       "      <td>0.25</td>\n",
       "    </tr>\n",
       "    <tr>\n",
       "      <th>7</th>\n",
       "      <td>October 5th, 2011</td>\n",
       "      <td>0.097826</td>\n",
       "      <td>0.25</td>\n",
       "    </tr>\n",
       "    <tr>\n",
       "      <th>8</th>\n",
       "      <td>January 5th, 2012</td>\n",
       "      <td>0.097899</td>\n",
       "      <td>0.25</td>\n",
       "    </tr>\n",
       "    <tr>\n",
       "      <th>9</th>\n",
       "      <td>April 5th, 2012</td>\n",
       "      <td>0.098952</td>\n",
       "      <td>0.25</td>\n",
       "    </tr>\n",
       "    <tr>\n",
       "      <th>10</th>\n",
       "      <td>July 5th, 2012</td>\n",
       "      <td>0.098849</td>\n",
       "      <td>0.25</td>\n",
       "    </tr>\n",
       "    <tr>\n",
       "      <th>11</th>\n",
       "      <td>October 5th, 2012</td>\n",
       "      <td>0.097826</td>\n",
       "      <td>0.25</td>\n",
       "    </tr>\n",
       "    <tr>\n",
       "      <th>12</th>\n",
       "      <td>January 5th, 2013</td>\n",
       "      <td>0.097826</td>\n",
       "      <td>0.25</td>\n",
       "    </tr>\n",
       "    <tr>\n",
       "      <th>13</th>\n",
       "      <td>April 5th, 2013</td>\n",
       "      <td>0.100014</td>\n",
       "      <td>0.25</td>\n",
       "    </tr>\n",
       "    <tr>\n",
       "      <th>14</th>\n",
       "      <td>July 5th, 2013</td>\n",
       "      <td>0.098901</td>\n",
       "      <td>0.25</td>\n",
       "    </tr>\n",
       "    <tr>\n",
       "      <th>15</th>\n",
       "      <td>October 5th, 2013</td>\n",
       "      <td>0.097826</td>\n",
       "      <td>0.25</td>\n",
       "    </tr>\n",
       "    <tr>\n",
       "      <th>16</th>\n",
       "      <td>January 5th, 2014</td>\n",
       "      <td>0.097826</td>\n",
       "      <td>0.25</td>\n",
       "    </tr>\n",
       "  </tbody>\n",
       "</table>\n",
       "</div>"
      ],
      "text/plain": [
       "                 Date      Rate  Accrual period\n",
       "1     April 5th, 2010  0.100014            0.25\n",
       "2      July 5th, 2010  0.098901            0.25\n",
       "3   October 5th, 2010  0.097826            0.25\n",
       "4   January 5th, 2011  0.097826            0.25\n",
       "5     April 5th, 2011  0.100000            0.25\n",
       "6      July 5th, 2011  0.098901            0.25\n",
       "7   October 5th, 2011  0.097826            0.25\n",
       "8   January 5th, 2012  0.097899            0.25\n",
       "9     April 5th, 2012  0.098952            0.25\n",
       "10     July 5th, 2012  0.098849            0.25\n",
       "11  October 5th, 2012  0.097826            0.25\n",
       "12  January 5th, 2013  0.097826            0.25\n",
       "13    April 5th, 2013  0.100014            0.25\n",
       "14     July 5th, 2013  0.098901            0.25\n",
       "15  October 5th, 2013  0.097826            0.25\n",
       "16  January 5th, 2014  0.097826            0.25"
      ]
     },
     "execution_count": 6,
     "metadata": {},
     "output_type": "execute_result"
    }
   ],
   "source": [
    "coupons = [ as_coupon(c) for c in bond.cashflows()[:-1] ]\n",
    "pd.DataFrame([(c.date(), c.rate(), c.accrualPeriod())\n",
    "              for c in coupons ],\n",
    "             columns=('Date', 'Rate', 'Accrual period'),\n",
    "             index=range(1,len(coupons)+1))"
   ]
  },
  {
   "cell_type": "markdown",
   "metadata": {},
   "source": [
    "#### The importance of being consistent"
   ]
  },
  {
   "cell_type": "markdown",
   "metadata": {},
   "source": [
    "In order to reproduce the textbook value, we have to reconcile the different conventions (which are, well, conveniently glossed over in textbooks). The correct one to choose depends on the terms and conditions of the bond; it is likely to be the Actual/360 convention used by the USD libor, so we'll pass it to both the bond and the curve:"
   ]
  },
  {
   "cell_type": "code",
   "execution_count": 7,
   "metadata": {},
   "outputs": [],
   "source": [
    "bond = FloatingRateBond(settlement_days,\n",
    "                        face_amount,\n",
    "                        schedule,\n",
    "                        index,\n",
    "                        Actual360(),\n",
    "                        Unadjusted,\n",
    "                        fixingDays = 0)\n",
    "\n",
    "bond.setPricingEngine(DiscountingBondEngine(discounting_curve))"
   ]
  },
  {
   "cell_type": "code",
   "execution_count": 8,
   "metadata": {},
   "outputs": [],
   "source": [
    "flat_rate_2 = FlatForward(today, 0.10, Actual360(), Compounded, Quarterly)\n",
    "forecasting_curve.linkTo(flat_rate_2)\n",
    "discounting_curve.linkTo(flat_rate_2)"
   ]
  },
  {
   "cell_type": "code",
   "execution_count": 9,
   "metadata": {},
   "outputs": [
    {
     "name": "stdout",
     "output_type": "stream",
     "text": [
      "100.00117521248728\n"
     ]
    }
   ],
   "source": [
    "print(bond.cleanPrice())"
   ]
  },
  {
   "cell_type": "markdown",
   "metadata": {},
   "source": [
    "There's still a small discrepancy, which is likely due to date adjustments in the underlying USD libor fixings. The coupon rates are much better overall, so we seem to be on the right track."
   ]
  },
  {
   "cell_type": "code",
   "execution_count": 10,
   "metadata": {},
   "outputs": [
    {
     "data": {
      "text/html": [
       "<div>\n",
       "<style scoped>\n",
       "    .dataframe tbody tr th:only-of-type {\n",
       "        vertical-align: middle;\n",
       "    }\n",
       "\n",
       "    .dataframe tbody tr th {\n",
       "        vertical-align: top;\n",
       "    }\n",
       "\n",
       "    .dataframe thead th {\n",
       "        text-align: right;\n",
       "    }\n",
       "</style>\n",
       "<table border=\"1\" class=\"dataframe\">\n",
       "  <thead>\n",
       "    <tr style=\"text-align: right;\">\n",
       "      <th></th>\n",
       "      <th>Date</th>\n",
       "      <th>Rate</th>\n",
       "      <th>Accrual period</th>\n",
       "    </tr>\n",
       "  </thead>\n",
       "  <tbody>\n",
       "    <tr>\n",
       "      <th>1</th>\n",
       "      <td>April 5th, 2010</td>\n",
       "      <td>0.100014</td>\n",
       "      <td>0.250000</td>\n",
       "    </tr>\n",
       "    <tr>\n",
       "      <th>2</th>\n",
       "      <td>July 5th, 2010</td>\n",
       "      <td>0.100014</td>\n",
       "      <td>0.252778</td>\n",
       "    </tr>\n",
       "    <tr>\n",
       "      <th>3</th>\n",
       "      <td>October 5th, 2010</td>\n",
       "      <td>0.100028</td>\n",
       "      <td>0.255556</td>\n",
       "    </tr>\n",
       "    <tr>\n",
       "      <th>4</th>\n",
       "      <td>January 5th, 2011</td>\n",
       "      <td>0.100028</td>\n",
       "      <td>0.255556</td>\n",
       "    </tr>\n",
       "    <tr>\n",
       "      <th>5</th>\n",
       "      <td>April 5th, 2011</td>\n",
       "      <td>0.100000</td>\n",
       "      <td>0.250000</td>\n",
       "    </tr>\n",
       "    <tr>\n",
       "      <th>6</th>\n",
       "      <td>July 5th, 2011</td>\n",
       "      <td>0.100014</td>\n",
       "      <td>0.252778</td>\n",
       "    </tr>\n",
       "    <tr>\n",
       "      <th>7</th>\n",
       "      <td>October 5th, 2011</td>\n",
       "      <td>0.100028</td>\n",
       "      <td>0.255556</td>\n",
       "    </tr>\n",
       "    <tr>\n",
       "      <th>8</th>\n",
       "      <td>January 5th, 2012</td>\n",
       "      <td>0.100055</td>\n",
       "      <td>0.255556</td>\n",
       "    </tr>\n",
       "    <tr>\n",
       "      <th>9</th>\n",
       "      <td>April 5th, 2012</td>\n",
       "      <td>0.100041</td>\n",
       "      <td>0.252778</td>\n",
       "    </tr>\n",
       "    <tr>\n",
       "      <th>10</th>\n",
       "      <td>July 5th, 2012</td>\n",
       "      <td>0.099986</td>\n",
       "      <td>0.252778</td>\n",
       "    </tr>\n",
       "    <tr>\n",
       "      <th>11</th>\n",
       "      <td>October 5th, 2012</td>\n",
       "      <td>0.100028</td>\n",
       "      <td>0.255556</td>\n",
       "    </tr>\n",
       "    <tr>\n",
       "      <th>12</th>\n",
       "      <td>January 5th, 2013</td>\n",
       "      <td>0.100028</td>\n",
       "      <td>0.255556</td>\n",
       "    </tr>\n",
       "    <tr>\n",
       "      <th>13</th>\n",
       "      <td>April 5th, 2013</td>\n",
       "      <td>0.100014</td>\n",
       "      <td>0.250000</td>\n",
       "    </tr>\n",
       "    <tr>\n",
       "      <th>14</th>\n",
       "      <td>July 5th, 2013</td>\n",
       "      <td>0.100014</td>\n",
       "      <td>0.252778</td>\n",
       "    </tr>\n",
       "    <tr>\n",
       "      <th>15</th>\n",
       "      <td>October 5th, 2013</td>\n",
       "      <td>0.100028</td>\n",
       "      <td>0.255556</td>\n",
       "    </tr>\n",
       "    <tr>\n",
       "      <th>16</th>\n",
       "      <td>January 5th, 2014</td>\n",
       "      <td>0.100028</td>\n",
       "      <td>0.255556</td>\n",
       "    </tr>\n",
       "  </tbody>\n",
       "</table>\n",
       "</div>"
      ],
      "text/plain": [
       "                 Date      Rate  Accrual period\n",
       "1     April 5th, 2010  0.100014        0.250000\n",
       "2      July 5th, 2010  0.100014        0.252778\n",
       "3   October 5th, 2010  0.100028        0.255556\n",
       "4   January 5th, 2011  0.100028        0.255556\n",
       "5     April 5th, 2011  0.100000        0.250000\n",
       "6      July 5th, 2011  0.100014        0.252778\n",
       "7   October 5th, 2011  0.100028        0.255556\n",
       "8   January 5th, 2012  0.100055        0.255556\n",
       "9     April 5th, 2012  0.100041        0.252778\n",
       "10     July 5th, 2012  0.099986        0.252778\n",
       "11  October 5th, 2012  0.100028        0.255556\n",
       "12  January 5th, 2013  0.100028        0.255556\n",
       "13    April 5th, 2013  0.100014        0.250000\n",
       "14     July 5th, 2013  0.100014        0.252778\n",
       "15  October 5th, 2013  0.100028        0.255556\n",
       "16  January 5th, 2014  0.100028        0.255556"
      ]
     },
     "execution_count": 10,
     "metadata": {},
     "output_type": "execute_result"
    }
   ],
   "source": [
    "coupons = [ as_coupon(c) for c in bond.cashflows()[:-1] ]\n",
    "pd.DataFrame([(c.date(), c.rate(), c.accrualPeriod())\n",
    "              for c in coupons ],\n",
    "             columns=('Date', 'Rate', 'Accrual period'),\n",
    "             index=range(1,len(coupons)+1))"
   ]
  },
  {
   "cell_type": "markdown",
   "metadata": {},
   "source": [
    "To get a (theoretical) par bond, we can use a custom index whose conventions match exactly those of the bond we wanted to use: no fixing days, 30/360 day-count convention, and no holidays.  We'll use a curve with the same day-count convention, too."
   ]
  },
  {
   "cell_type": "code",
   "execution_count": 11,
   "metadata": {},
   "outputs": [],
   "source": [
    "index = IborIndex('Mock Libor', Period(3, Months), 0, USDCurrency(),\n",
    "                  NullCalendar(), Unadjusted, False, Thirty360(),\n",
    "                  forecasting_curve)\n",
    "\n",
    "bond = FloatingRateBond(settlement_days,\n",
    "                        face_amount,\n",
    "                        schedule,\n",
    "                        index,\n",
    "                        Thirty360(),\n",
    "                        Unadjusted,\n",
    "                        fixingDays = 0)\n",
    "\n",
    "bond.setPricingEngine(DiscountingBondEngine(discounting_curve))"
   ]
  },
  {
   "cell_type": "code",
   "execution_count": 12,
   "metadata": {},
   "outputs": [],
   "source": [
    "forecasting_curve.linkTo(flat_rate)\n",
    "discounting_curve.linkTo(flat_rate)"
   ]
  },
  {
   "cell_type": "markdown",
   "metadata": {},
   "source": [
    "And now, we finally hit the jackpot:"
   ]
  },
  {
   "cell_type": "code",
   "execution_count": 13,
   "metadata": {},
   "outputs": [
    {
     "name": "stdout",
     "output_type": "stream",
     "text": [
      "100.00000000000001\n"
     ]
    }
   ],
   "source": [
    "print(bond.cleanPrice())"
   ]
  },
  {
   "cell_type": "code",
   "execution_count": 14,
   "metadata": {},
   "outputs": [
    {
     "data": {
      "text/html": [
       "<div>\n",
       "<style scoped>\n",
       "    .dataframe tbody tr th:only-of-type {\n",
       "        vertical-align: middle;\n",
       "    }\n",
       "\n",
       "    .dataframe tbody tr th {\n",
       "        vertical-align: top;\n",
       "    }\n",
       "\n",
       "    .dataframe thead th {\n",
       "        text-align: right;\n",
       "    }\n",
       "</style>\n",
       "<table border=\"1\" class=\"dataframe\">\n",
       "  <thead>\n",
       "    <tr style=\"text-align: right;\">\n",
       "      <th></th>\n",
       "      <th>Date</th>\n",
       "      <th>Rate</th>\n",
       "      <th>Accrual period</th>\n",
       "    </tr>\n",
       "  </thead>\n",
       "  <tbody>\n",
       "    <tr>\n",
       "      <th>1</th>\n",
       "      <td>April 5th, 2010</td>\n",
       "      <td>0.1</td>\n",
       "      <td>0.25</td>\n",
       "    </tr>\n",
       "    <tr>\n",
       "      <th>2</th>\n",
       "      <td>July 5th, 2010</td>\n",
       "      <td>0.1</td>\n",
       "      <td>0.25</td>\n",
       "    </tr>\n",
       "    <tr>\n",
       "      <th>3</th>\n",
       "      <td>October 5th, 2010</td>\n",
       "      <td>0.1</td>\n",
       "      <td>0.25</td>\n",
       "    </tr>\n",
       "    <tr>\n",
       "      <th>4</th>\n",
       "      <td>January 5th, 2011</td>\n",
       "      <td>0.1</td>\n",
       "      <td>0.25</td>\n",
       "    </tr>\n",
       "    <tr>\n",
       "      <th>5</th>\n",
       "      <td>April 5th, 2011</td>\n",
       "      <td>0.1</td>\n",
       "      <td>0.25</td>\n",
       "    </tr>\n",
       "    <tr>\n",
       "      <th>6</th>\n",
       "      <td>July 5th, 2011</td>\n",
       "      <td>0.1</td>\n",
       "      <td>0.25</td>\n",
       "    </tr>\n",
       "    <tr>\n",
       "      <th>7</th>\n",
       "      <td>October 5th, 2011</td>\n",
       "      <td>0.1</td>\n",
       "      <td>0.25</td>\n",
       "    </tr>\n",
       "    <tr>\n",
       "      <th>8</th>\n",
       "      <td>January 5th, 2012</td>\n",
       "      <td>0.1</td>\n",
       "      <td>0.25</td>\n",
       "    </tr>\n",
       "    <tr>\n",
       "      <th>9</th>\n",
       "      <td>April 5th, 2012</td>\n",
       "      <td>0.1</td>\n",
       "      <td>0.25</td>\n",
       "    </tr>\n",
       "    <tr>\n",
       "      <th>10</th>\n",
       "      <td>July 5th, 2012</td>\n",
       "      <td>0.1</td>\n",
       "      <td>0.25</td>\n",
       "    </tr>\n",
       "    <tr>\n",
       "      <th>11</th>\n",
       "      <td>October 5th, 2012</td>\n",
       "      <td>0.1</td>\n",
       "      <td>0.25</td>\n",
       "    </tr>\n",
       "    <tr>\n",
       "      <th>12</th>\n",
       "      <td>January 5th, 2013</td>\n",
       "      <td>0.1</td>\n",
       "      <td>0.25</td>\n",
       "    </tr>\n",
       "    <tr>\n",
       "      <th>13</th>\n",
       "      <td>April 5th, 2013</td>\n",
       "      <td>0.1</td>\n",
       "      <td>0.25</td>\n",
       "    </tr>\n",
       "    <tr>\n",
       "      <th>14</th>\n",
       "      <td>July 5th, 2013</td>\n",
       "      <td>0.1</td>\n",
       "      <td>0.25</td>\n",
       "    </tr>\n",
       "    <tr>\n",
       "      <th>15</th>\n",
       "      <td>October 5th, 2013</td>\n",
       "      <td>0.1</td>\n",
       "      <td>0.25</td>\n",
       "    </tr>\n",
       "    <tr>\n",
       "      <th>16</th>\n",
       "      <td>January 5th, 2014</td>\n",
       "      <td>0.1</td>\n",
       "      <td>0.25</td>\n",
       "    </tr>\n",
       "  </tbody>\n",
       "</table>\n",
       "</div>"
      ],
      "text/plain": [
       "                 Date  Rate  Accrual period\n",
       "1     April 5th, 2010   0.1            0.25\n",
       "2      July 5th, 2010   0.1            0.25\n",
       "3   October 5th, 2010   0.1            0.25\n",
       "4   January 5th, 2011   0.1            0.25\n",
       "5     April 5th, 2011   0.1            0.25\n",
       "6      July 5th, 2011   0.1            0.25\n",
       "7   October 5th, 2011   0.1            0.25\n",
       "8   January 5th, 2012   0.1            0.25\n",
       "9     April 5th, 2012   0.1            0.25\n",
       "10     July 5th, 2012   0.1            0.25\n",
       "11  October 5th, 2012   0.1            0.25\n",
       "12  January 5th, 2013   0.1            0.25\n",
       "13    April 5th, 2013   0.1            0.25\n",
       "14     July 5th, 2013   0.1            0.25\n",
       "15  October 5th, 2013   0.1            0.25\n",
       "16  January 5th, 2014   0.1            0.25"
      ]
     },
     "execution_count": 14,
     "metadata": {},
     "output_type": "execute_result"
    }
   ],
   "source": [
    "coupons = [ as_coupon(c) for c in bond.cashflows()[:-1] ]\n",
    "pd.DataFrame([(c.date(), c.rate(), c.accrualPeriod())\n",
    "              for c in coupons ],\n",
    "             columns=('Date', 'Rate', 'Accrual period'),\n",
    "             index=range(1,len(coupons)+1))"
   ]
  }
 ],
 "metadata": {
  "kernelspec": {
   "display_name": "Python 3",
   "language": "python",
   "name": "python3"
  },
  "language_info": {
   "codemirror_mode": {
    "name": "ipython",
    "version": 3
   },
   "file_extension": ".py",
   "mimetype": "text/x-python",
   "name": "python",
   "nbconvert_exporter": "python",
   "pygments_lexer": "ipython3",
   "version": "3.6.5"
  }
 },
 "nbformat": 4,
 "nbformat_minor": 1
}
