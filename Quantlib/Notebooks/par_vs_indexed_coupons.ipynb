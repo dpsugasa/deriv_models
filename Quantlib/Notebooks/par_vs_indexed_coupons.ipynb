{
 "cells": [
  {
   "cell_type": "markdown",
   "metadata": {},
   "source": [
    "# Par versus indexed coupons"
   ]
  },
  {
   "cell_type": "markdown",
   "metadata": {},
   "source": [
    "(Based on [a question asked by KK](https://sourceforge.net/p/quantlib/mailman/message/32902476/) on the QuantLib mailing list. Thanks!)"
   ]
  },
  {
   "cell_type": "code",
   "execution_count": 1,
   "metadata": {},
   "outputs": [],
   "source": [
    "from QuantLib import *\n",
    "import pandas as pd\n",
    "\n",
    "today = Date(7,January,2013)\n",
    "Settings.instance().evaluationDate = today"
   ]
  },
  {
   "cell_type": "markdown",
   "metadata": {},
   "source": [
    "#### The statement of the case"
   ]
  },
  {
   "cell_type": "markdown",
   "metadata": {},
   "source": [
    "User KK was pricing an interest-rate swap.  In the interest of brevity, I'll skip the part where he bootstrapped a LIBOR curve (there are other notebooks showing that in detail) and instantiate the resulting curve directly from the resulting forward rates."
   ]
  },
  {
   "cell_type": "code",
   "execution_count": 2,
   "metadata": {},
   "outputs": [],
   "source": [
    "dates, forwards = zip(*[(Date(7,1,2013), 0.03613672438543303),\n",
    "                        (Date(8,4,2013), 0.03613672438543303),\n",
    "                        (Date(8,7,2013), 0.033849133719219514),\n",
    "                        (Date(7,1,2014), 0.03573931373272106),\n",
    "                        (Date(7,7,2014), 0.03445303757052511)])\n",
    "libor_curve = ForwardCurve(dates, forwards, Actual365Fixed())"
   ]
  },
  {
   "cell_type": "markdown",
   "metadata": {},
   "source": [
    "Here is the floating leg of the swap; we don't need to care about the fixed leg."
   ]
  },
  {
   "cell_type": "code",
   "execution_count": 3,
   "metadata": {},
   "outputs": [],
   "source": [
    "index = GBPLibor(Period(6,Months),\n",
    "                 YieldTermStructureHandle(libor_curve))\n",
    "\n",
    "calendar = index.fixingCalendar()\n",
    "nominal = 1000000\n",
    "length = 1\n",
    "maturity = calendar.advance(today,length,Years)\n",
    "adjustment = index.businessDayConvention()\n",
    "\n",
    "schedule = Schedule(today, maturity,\n",
    "                    index.tenor(), calendar,\n",
    "                    adjustment, adjustment,\n",
    "                    DateGeneration.Backward, False)\n",
    "\n",
    "floating_leg = IborLeg([nominal], schedule,\n",
    "                       index, index.dayCounter()) "
   ]
  },
  {
   "cell_type": "markdown",
   "metadata": {},
   "source": [
    "Next, KK set out to do some cash-flow analysis. He reproduced the coupon amounts by multiplying the LIBOR fixing, the notional, and the accrual period; the actual code was different, but the calculations are the same I'm doing here:"
   ]
  },
  {
   "cell_type": "code",
   "execution_count": 4,
   "metadata": {},
   "outputs": [
    {
     "data": {
      "text/html": [
       "<div>\n",
       "<style scoped>\n",
       "    .dataframe tbody tr th:only-of-type {\n",
       "        vertical-align: middle;\n",
       "    }\n",
       "\n",
       "    .dataframe tbody tr th {\n",
       "        vertical-align: top;\n",
       "    }\n",
       "\n",
       "    .dataframe thead th {\n",
       "        text-align: right;\n",
       "    }\n",
       "</style>\n",
       "<table border=\"1\" class=\"dataframe\">\n",
       "  <thead>\n",
       "    <tr style=\"text-align: right;\">\n",
       "      <th></th>\n",
       "      <th>fixing date</th>\n",
       "      <th>index fixing</th>\n",
       "      <th>start date</th>\n",
       "      <th>end date</th>\n",
       "      <th>days</th>\n",
       "      <th>accrual period</th>\n",
       "      <th>amount</th>\n",
       "    </tr>\n",
       "  </thead>\n",
       "  <tbody>\n",
       "    <tr>\n",
       "      <th>0</th>\n",
       "      <td>January 7th, 2013</td>\n",
       "      <td>0.035300</td>\n",
       "      <td>January 7th, 2013</td>\n",
       "      <td>July 8th, 2013</td>\n",
       "      <td>182</td>\n",
       "      <td>0.49863</td>\n",
       "      <td>17601.6</td>\n",
       "    </tr>\n",
       "    <tr>\n",
       "      <th>1</th>\n",
       "      <td>July 8th, 2013</td>\n",
       "      <td>0.036056</td>\n",
       "      <td>July 8th, 2013</td>\n",
       "      <td>January 7th, 2014</td>\n",
       "      <td>183</td>\n",
       "      <td>0.50137</td>\n",
       "      <td>18077.4</td>\n",
       "    </tr>\n",
       "  </tbody>\n",
       "</table>\n",
       "</div>"
      ],
      "text/plain": [
       "         fixing date  index fixing         start date           end date days  \\\n",
       "0  January 7th, 2013      0.035300  January 7th, 2013     July 8th, 2013  182   \n",
       "1     July 8th, 2013      0.036056     July 8th, 2013  January 7th, 2014  183   \n",
       "\n",
       "  accrual period   amount  \n",
       "0        0.49863  17601.6  \n",
       "1        0.50137  18077.4  "
      ]
     },
     "execution_count": 4,
     "metadata": {},
     "output_type": "execute_result"
    }
   ],
   "source": [
    "df = pd.DataFrame()\n",
    "\n",
    "dates = list(schedule)\n",
    "df['fixing date'] = dates[:-1]\n",
    "df['index fixing'] = [ index.fixing(d) for d in df['fixing date'] ]\n",
    "df['start date'] = dates[:-1]\n",
    "df['end date'] = dates[1:]\n",
    "df['days'] = df['end date'] - df['start date']\n",
    "df['accrual period'] = df['days']/365\n",
    "\n",
    "df['amount'] = df['index fixing'] * nominal * df['accrual period']\n",
    "\n",
    "df"
   ]
  },
  {
   "cell_type": "markdown",
   "metadata": {},
   "source": [
    "Unfortunately, the results for the second coupon don't agree with what the library says:"
   ]
  },
  {
   "cell_type": "code",
   "execution_count": 5,
   "metadata": {},
   "outputs": [
    {
     "data": {
      "text/html": [
       "<div>\n",
       "<style scoped>\n",
       "    .dataframe tbody tr th:only-of-type {\n",
       "        vertical-align: middle;\n",
       "    }\n",
       "\n",
       "    .dataframe tbody tr th {\n",
       "        vertical-align: top;\n",
       "    }\n",
       "\n",
       "    .dataframe thead th {\n",
       "        text-align: right;\n",
       "    }\n",
       "</style>\n",
       "<table border=\"1\" class=\"dataframe\">\n",
       "  <thead>\n",
       "    <tr style=\"text-align: right;\">\n",
       "      <th></th>\n",
       "      <th>amount</th>\n",
       "      <th>rate</th>\n",
       "    </tr>\n",
       "  </thead>\n",
       "  <tbody>\n",
       "    <tr>\n",
       "      <th>0</th>\n",
       "      <td>17601.643836</td>\n",
       "      <td>0.035300</td>\n",
       "    </tr>\n",
       "    <tr>\n",
       "      <th>1</th>\n",
       "      <td>18080.116395</td>\n",
       "      <td>0.036061</td>\n",
       "    </tr>\n",
       "  </tbody>\n",
       "</table>\n",
       "</div>"
      ],
      "text/plain": [
       "         amount      rate\n",
       "0  17601.643836  0.035300\n",
       "1  18080.116395  0.036061"
      ]
     },
     "execution_count": 5,
     "metadata": {},
     "output_type": "execute_result"
    }
   ],
   "source": [
    "df2 = pd.DataFrame({'amount': [ c.amount() for c in floating_leg ],\n",
    "                    'rate': [ as_coupon(c).rate() for c in floating_leg ]})\n",
    "df2"
   ]
  },
  {
   "cell_type": "markdown",
   "metadata": {},
   "source": [
    "The difference (in the rate, and thus the amount) is small but well above the expected precision for the calculations."
   ]
  },
  {
   "cell_type": "markdown",
   "metadata": {},
   "source": [
    "#### Where's the problem?"
   ]
  },
  {
   "cell_type": "markdown",
   "metadata": {},
   "source": [
    "Let's go through the calculations again.  The second coupon fixes on the expected date, and the forecast for the fixing is the same KK obtained."
   ]
  },
  {
   "cell_type": "code",
   "execution_count": 6,
   "metadata": {},
   "outputs": [
    {
     "name": "stdout",
     "output_type": "stream",
     "text": [
      "July 8th, 2013\n",
      "0.036056087457623655\n"
     ]
    }
   ],
   "source": [
    "coupon = as_floating_rate_coupon(floating_leg[1])\n",
    "\n",
    "print(coupon.fixingDate())\n",
    "print(index.fixing(coupon.fixingDate()))"
   ]
  },
  {
   "cell_type": "markdown",
   "metadata": {},
   "source": [
    "The fixing is also consistent with what we can forecast from the LIBOR curve, given the start and end date of the underlying tenor:"
   ]
  },
  {
   "cell_type": "code",
   "execution_count": 7,
   "metadata": {},
   "outputs": [
    {
     "name": "stdout",
     "output_type": "stream",
     "text": [
      "July 8th, 2013\n",
      "January 8th, 2014\n"
     ]
    }
   ],
   "source": [
    "startDate = index.valueDate(coupon.fixingDate())\n",
    "endDate = index.maturityDate(startDate)\n",
    "print(startDate)\n",
    "print(endDate)"
   ]
  },
  {
   "cell_type": "code",
   "execution_count": 8,
   "metadata": {},
   "outputs": [
    {
     "name": "stdout",
     "output_type": "stream",
     "text": [
      "3.605609 % Actual/365 (Fixed) simple compounding\n"
     ]
    }
   ],
   "source": [
    "print(libor_curve.forwardRate(startDate, endDate,\n",
    "                              coupon.dayCounter(), Simple))"
   ]
  },
  {
   "cell_type": "markdown",
   "metadata": {},
   "source": [
    "The above is, in fact, the calculation performed in the `index.fixing` method."
   ]
  },
  {
   "cell_type": "markdown",
   "metadata": {},
   "source": [
    "Why does the coupon return a different rate, then?"
   ]
  },
  {
   "cell_type": "markdown",
   "metadata": {},
   "source": [
    "The problem is that, for historical reasons, the coupon is calculated at par; that is, the floating rate is calculated over the duration of the coupon. Due to the constraints of the schedule, the end of the coupon doesn't correspond to the end of the LIBOR tenor..."
   ]
  },
  {
   "cell_type": "code",
   "execution_count": 9,
   "metadata": {},
   "outputs": [
    {
     "name": "stdout",
     "output_type": "stream",
     "text": [
      "July 8th, 2013\n",
      "January 7th, 2014\n"
     ]
    }
   ],
   "source": [
    "couponStart = coupon.accrualStartDate()\n",
    "couponEnd = coupon.accrualEndDate()\n",
    "print(couponStart)\n",
    "print(couponEnd)"
   ]
  },
  {
   "cell_type": "markdown",
   "metadata": {},
   "source": [
    "...and therefore, the calculated rate is different:"
   ]
  },
  {
   "cell_type": "code",
   "execution_count": 10,
   "metadata": {},
   "outputs": [
    {
     "name": "stdout",
     "output_type": "stream",
     "text": [
      "3.606143 % Actual/365 (Fixed) simple compounding\n"
     ]
    }
   ],
   "source": [
    "print(libor_curve.forwardRate(couponStart, couponEnd,\n",
    "                              coupon.dayCounter(), Simple))"
   ]
  },
  {
   "cell_type": "markdown",
   "metadata": {},
   "source": [
    "The coupon amount is consistent with the rate above..."
   ]
  },
  {
   "cell_type": "code",
   "execution_count": 11,
   "metadata": {},
   "outputs": [
    {
     "data": {
      "text/plain": [
       "0.0360614343399347"
      ]
     },
     "execution_count": 11,
     "metadata": {},
     "output_type": "execute_result"
    }
   ],
   "source": [
    "coupon.rate()"
   ]
  },
  {
   "cell_type": "markdown",
   "metadata": {},
   "source": [
    "...and so is the amount:"
   ]
  },
  {
   "cell_type": "code",
   "execution_count": 12,
   "metadata": {},
   "outputs": [
    {
     "data": {
      "text/plain": [
       "18080.116395090554"
      ]
     },
     "execution_count": 12,
     "metadata": {},
     "output_type": "execute_result"
    }
   ],
   "source": [
    "coupon.rate() * nominal * coupon.accrualPeriod()"
   ]
  },
  {
   "cell_type": "code",
   "execution_count": 13,
   "metadata": {},
   "outputs": [
    {
     "data": {
      "text/plain": [
       "18080.11639509055"
      ]
     },
     "execution_count": 13,
     "metadata": {},
     "output_type": "execute_result"
    }
   ],
   "source": [
    "coupon.amount()"
   ]
  },
  {
   "cell_type": "markdown",
   "metadata": {},
   "source": [
    "Was it a good idea to use par coupons?  Hard to say.  They are used in textbook examples, which one might want to reproduce."
   ]
  },
  {
   "cell_type": "markdown",
   "metadata": {},
   "source": [
    "In any case, I've heard arguments against both calculations.  The one against using the forecast index fixing goes that the rate would be accrued over a period which is different from the one over which it was calculated, and thus it will require a small convexity adjustment.  Personally, the argument failed to persuade me, since with par coupons we're using the wrong rate over the right period and therefore we're introducing an error anyway; I doubt that it's smaller than the missing convexity adjustment.  Moreover, the value of the swap is going to jump as soon as the coupon rate is actually fixed, forcing an adjustment of the P&L."
   ]
  },
  {
   "cell_type": "markdown",
   "metadata": {},
   "source": [
    "The good news is that you can choose which one to use: there's a configuration flag for the library that allows you to use the forecast of the fixing.  The bad news is that this requires the recompilation of both the C++ library and the Python module.  It would be better if the choice could be made at run-time; I describe the details in [_Implementing QuantLib_](https://leanpub.com/implementingquantlib/), including a few glitches that this might cause.  For the time being, you'll have to make do."
   ]
  }
 ],
 "metadata": {
  "kernelspec": {
   "display_name": "Python 3",
   "language": "python",
   "name": "python3"
  },
  "language_info": {
   "codemirror_mode": {
    "name": "ipython",
    "version": 3
   },
   "file_extension": ".py",
   "mimetype": "text/x-python",
   "name": "python",
   "nbconvert_exporter": "python",
   "pygments_lexer": "ipython3",
   "version": "3.6.5"
  }
 },
 "nbformat": 4,
 "nbformat_minor": 1
}
