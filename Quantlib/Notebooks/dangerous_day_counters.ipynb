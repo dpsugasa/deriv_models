{
 "cells": [
  {
   "cell_type": "markdown",
   "metadata": {},
   "source": [
    "# Dangerous day-count conventions"
   ]
  },
  {
   "cell_type": "markdown",
   "metadata": {},
   "source": [
    "(Based on a question by Min Gao on the QuantLib mailing list. Thanks!)"
   ]
  },
  {
   "cell_type": "code",
   "execution_count": 1,
   "metadata": {},
   "outputs": [],
   "source": [
    "from QuantLib import *"
   ]
  },
  {
   "cell_type": "code",
   "execution_count": 2,
   "metadata": {},
   "outputs": [],
   "source": [
    "today = Date(22,1,2018)\n",
    "Settings.instance().evaluationDate = today"
   ]
  },
  {
   "cell_type": "code",
   "execution_count": 3,
   "metadata": {},
   "outputs": [],
   "source": [
    "%matplotlib inline\n",
    "import utils"
   ]
  },
  {
   "cell_type": "markdown",
   "metadata": {},
   "source": [
    "#### The problem"
   ]
  },
  {
   "cell_type": "markdown",
   "metadata": {},
   "source": [
    "Talking about term structures in [_Implementing QuantLib_](https://leanpub.com/implementingquantlib), I suggest to use simple day-count conventions such as Actual/360 or Actual/365 to initialize curves. That's because the convention is used internally to convert dates into times, and we want the conversion to be as regular as possible.  For instance, we'd like distances between dates to be additive: given three dates $d_1$, $d_2$ and $d_3$, we would expect that $T(d_1,d_2) + T(d_2,d_3) = T(d_1,d_3)$, where $T$ denotes the time between dates.\n",
    "\n",
    "Unfortunately, that's not always the case for some day counters. The property holds for most dates..."
   ]
  },
  {
   "cell_type": "code",
   "execution_count": 4,
   "metadata": {},
   "outputs": [],
   "source": [
    "dc = Thirty360(Thirty360.USA)"
   ]
  },
  {
   "cell_type": "code",
   "execution_count": 5,
   "metadata": {},
   "outputs": [],
   "source": [
    "d1 = d1 = Date(1,January,2018)\n",
    "d2 = Date(15, January, 2018)\n",
    "d3 = Date(31, January, 2018)"
   ]
  },
  {
   "cell_type": "code",
   "execution_count": 6,
   "metadata": {},
   "outputs": [
    {
     "name": "stdout",
     "output_type": "stream",
     "text": [
      "0.08333333333333334\n",
      "0.08333333333333333\n"
     ]
    }
   ],
   "source": [
    "print(dc.yearFraction(d1,d2) + dc.yearFraction(d2,d3))\n",
    "print(dc.yearFraction(d1,d3))"
   ]
  },
  {
   "cell_type": "markdown",
   "metadata": {},
   "source": [
    "...but doesn't for some."
   ]
  },
  {
   "cell_type": "code",
   "execution_count": 7,
   "metadata": {},
   "outputs": [],
   "source": [
    "d1 = Date(1,January,2018)\n",
    "d2 = Date(30, January, 2018)\n",
    "d3 = Date(31, January, 2018)"
   ]
  },
  {
   "cell_type": "code",
   "execution_count": 8,
   "metadata": {},
   "outputs": [
    {
     "name": "stdout",
     "output_type": "stream",
     "text": [
      "0.08055555555555556\n",
      "0.08333333333333333\n"
     ]
    }
   ],
   "source": [
    "print(dc.yearFraction(d1,d2) + dc.yearFraction(d2,d3))\n",
    "print(dc.yearFraction(d1,d3))"
   ]
  },
  {
   "cell_type": "markdown",
   "metadata": {},
   "source": [
    "That's because some day-count conventions were designed to calculate the duration of a coupon, not the distance between any two given dates.  They have particular formulas and exceptions that make coupons more regular; but those exceptions also cause some pairs of dates to have strange properties.  For instance, there might be no distance at all between some particular distinct dates:"
   ]
  },
  {
   "cell_type": "code",
   "execution_count": 9,
   "metadata": {},
   "outputs": [
    {
     "name": "stdout",
     "output_type": "stream",
     "text": [
      "0.0\n"
     ]
    }
   ],
   "source": [
    "d1 = Date(30, January, 2018)\n",
    "d2 = Date(31, January, 2018)\n",
    "\n",
    "print(dc.yearFraction(d1,d2))"
   ]
  },
  {
   "cell_type": "markdown",
   "metadata": {},
   "source": [
    "The 30/360 convention is not the worst offender, either.  Min Gao's question came from using for the term structure the same convention used for the bond being priced, that is, ISMA actual/actual.  This day counter is supposed to be given a reference period, as well as the two dates whose distance one needs to measure; failing to do so will result in the wrong results..."
   ]
  },
  {
   "cell_type": "code",
   "execution_count": 10,
   "metadata": {},
   "outputs": [],
   "source": [
    "d1 = Date(1, January, 2018)\n",
    "d2 = Date(15, January, 2018)\n",
    "\n",
    "reference_period = (Date(1, January, 2018), Date(1, July, 2018))"
   ]
  },
  {
   "cell_type": "code",
   "execution_count": 11,
   "metadata": {},
   "outputs": [
    {
     "name": "stdout",
     "output_type": "stream",
     "text": [
      "0.03867403314917127\n",
      "0.038356164383561646\n"
     ]
    }
   ],
   "source": [
    "dc = ActualActual(ActualActual.ISMA)\n",
    "\n",
    "print(dc.yearFraction(d1, d2, *reference_period))\n",
    "print(dc.yearFraction(d1, d2))"
   ]
  },
  {
   "cell_type": "markdown",
   "metadata": {},
   "source": [
    "...and sometimes, in spectacularly wrong results.  Here is what happens if we plot the year fraction since January 1st, 2018 as a function of the date over that same year."
   ]
  },
  {
   "cell_type": "code",
   "execution_count": 12,
   "metadata": {},
   "outputs": [],
   "source": [
    "d1 = Date(1, January, 2018)\n",
    "dates = [ (d1 + i) for i in range(366) ]\n",
    "times = [ dc.yearFraction(d1, d) for d in dates ]"
   ]
  },
  {
   "cell_type": "code",
   "execution_count": 13,
   "metadata": {},
   "outputs": [
    {
     "data": {
      "image/png": "[encoded data removed]",
      "text/plain": [
       "<Figure size 864x576 with 1 Axes>"
      ]
     },
     "metadata": {},
     "output_type": "display_data"
    }
   ],
   "source": [
    "fig, ax = utils.plot()\n",
    "ax.xaxis.set_major_formatter(utils.date_formatter())\n",
    "ax.plot_date([ utils.to_datetime(d) for d in dates ], times,'-');"
   ]
  },
  {
   "cell_type": "markdown",
   "metadata": {},
   "source": [
    "Of course, that's no way to convert dates into times.  Using this day-count convention inside a coupon is ok, of course.  Using it inside a term structure, which doesn't have any concept of a reference period, leads to very strange behaviors."
   ]
  },
  {
   "cell_type": "code",
   "execution_count": 14,
   "metadata": {},
   "outputs": [],
   "source": [
    "curve = FlatForward(today, 0.01, ActualActual(ActualActual.ISMA))"
   ]
  },
  {
   "cell_type": "code",
   "execution_count": 15,
   "metadata": {},
   "outputs": [
    {
     "data": {
      "image/png": "[encoded data removed]",
      "text/plain": [
       "<Figure size 864x576 with 1 Axes>"
      ]
     },
     "metadata": {},
     "output_type": "display_data"
    }
   ],
   "source": [
    "dates = [ (today + i) for i in range(366) ]\n",
    "discounts = [ curve.discount(d) for d in dates ]\n",
    "fig, ax = utils.plot()\n",
    "ax.xaxis.set_major_formatter(utils.date_formatter())\n",
    "ax.plot_date([ utils.to_datetime(d) for d in dates ], discounts,'-');"
   ]
  },
  {
   "cell_type": "markdown",
   "metadata": {},
   "source": [
    "#### Any solutions?"
   ]
  },
  {
   "cell_type": "markdown",
   "metadata": {},
   "source": [
    "Not really, at this time.  Work is underway to store a schedule inside an ISMA actual/actual day counter and use it to retrieve the correct reference period, but that's not fully working yet. In the meantime, what I can suggest is to use the specified day-count conventions for coupons; but, unless something prevents it, use a simple day-count convention such as actual/360 or actual/365 for term structures."
   ]
  }
 ],
 "metadata": {
  "kernelspec": {
   "display_name": "Python 3",
   "language": "python",
   "name": "python3"
  },
  "language_info": {
   "codemirror_mode": {
    "name": "ipython",
    "version": 3
   },
   "file_extension": ".py",
   "mimetype": "text/x-python",
   "name": "python",
   "nbconvert_exporter": "python",
   "pygments_lexer": "ipython3",
   "version": "3.6.5"
  }
 },
 "nbformat": 4,
 "nbformat_minor": 1
}
