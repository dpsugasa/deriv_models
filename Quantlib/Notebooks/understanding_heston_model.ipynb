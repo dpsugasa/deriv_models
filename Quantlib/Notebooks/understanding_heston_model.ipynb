{
 "cells": [
  {
   "cell_type": "markdown",
   "metadata": {},
   "source": [
    "# Valuing European option using the Heston model"
   ]
  },
  {
   "cell_type": "markdown",
   "metadata": {},
   "source": [
    "Heston model can be used to value options by modeling the underlying asset such as the stock of a company. The one major feature of the Heston model is that it inocrporates a stochastic volatility term.\n",
    "\n",
    "$$\n",
    "\\begin{eqnarray}\n",
    "dS_t &=& \\mu S_tdt + \\sqrt{V_t} S_t dW_t^1 \\\\\n",
    "dV_t &=& \\kappa(\\theta-V_t) + \\sigma \\sqrt{V_t} dW_t^2\n",
    "\\end{eqnarray}\n",
    "$$\n",
    "\n",
    "Here :\n",
    "\n",
    "- $S_t$ is the asset's value at time $t$\n",
    "- $\\mu$ is the expected growth rate of the log normal stock value\n",
    "- $V_t$ is the variance of the asset $S_t$\n",
    "- $W_t^1$ is the stochastic process governing the $S_t$ process\n",
    "- $\\theta$ is the value of mean reversion for the variance $V_t$\n",
    "- $\\kappa$ is the strength of mean reversion\n",
    "- $\\sigma$ is the volatility of volatility\n",
    "- $W_t^2$ is the stochastic process governing the $V_t$ process\n",
    "- The correlation between $W_t^1$ and $W_t^2$ is $\\rho$\n",
    "\n",
    "In contrast, the Black-Scholes-Merton process assumes that the volatility is constant."
   ]
  },
  {
   "cell_type": "code",
   "execution_count": 1,
   "metadata": {},
   "outputs": [],
   "source": [
    "from QuantLib import *\n",
    "import matplotlib.pyplot as plt\n",
    "import numpy as np\n",
    "#from scipy.integrate import simps, cumtrapz, romb\n",
    "% matplotlib inline\n",
    "import math"
   ]
  },
  {
   "cell_type": "markdown",
   "metadata": {},
   "source": [
    "Let us consider a European call option for AAPL with a strike price of 130 maturing on 15th Jan, 2016. Let the spot price be 127.62. The volatility of the underlying stock is know to be 20%, and has a dividend yield of 1.63%. We assume a short term risk free rate of 0.1%. Lets value this option as of 8th May, 2015. "
   ]
  },
  {
   "cell_type": "code",
   "execution_count": 2,
   "metadata": {},
   "outputs": [],
   "source": [
    "# option parameters\n",
    "strike_price = 110.0\n",
    "payoff = PlainVanillaPayoff(Option.Call, strike_price)\n",
    "\n",
    "# option data\n",
    "maturity_date = Date(15, 1, 2016)\n",
    "spot_price = 127.62\n",
    "strike_price = 130\n",
    "volatility = 0.20 # the historical vols for a year\n",
    "dividend_rate =  0.0163\n",
    "option_type = Option.Call\n",
    "\n",
    "risk_free_rate = 0.001\n",
    "day_count = Actual365Fixed()\n",
    "calendar = UnitedStates()\n",
    "\n",
    "calculation_date = Date(8, 5, 2015)\n",
    "Settings.instance().evaluationDate = calculation_date"
   ]
  },
  {
   "cell_type": "markdown",
   "metadata": {},
   "source": [
    "Using the above inputs, we construct the European option as shown below."
   ]
  },
  {
   "cell_type": "code",
   "execution_count": 3,
   "metadata": {},
   "outputs": [],
   "source": [
    "# construct the European Option\n",
    "payoff = PlainVanillaPayoff(option_type, strike_price)\n",
    "exercise = EuropeanExercise(maturity_date)\n",
    "european_option = VanillaOption(payoff, exercise)"
   ]
  },
  {
   "cell_type": "markdown",
   "metadata": {},
   "source": [
    "In order to price the option using the Heston model, we first create the Heston process. In order to create the Heston process, we use the parameter values: mean reversion strength `kappa = 0.1`, the spot variance `v0 = volatility*volatility = 0.04`, the mean reversion variance `theta=v0`, volatility of volatility `sigma = 0.1` and the correlation between the asset price and its variance is `rho = -0.75`."
   ]
  },
  {
   "cell_type": "code",
   "execution_count": 4,
   "metadata": {},
   "outputs": [],
   "source": [
    "# construct the Heston process\n",
    "\n",
    "v0 = volatility*volatility  # spot variance\n",
    "kappa = 0.1\n",
    "theta = v0\n",
    "sigma = 0.1\n",
    "rho = -0.75\n",
    "\n",
    "spot_handle = QuoteHandle(\n",
    "    SimpleQuote(spot_price)\n",
    ")\n",
    "flat_ts = YieldTermStructureHandle(\n",
    "    FlatForward(calculation_date, risk_free_rate, day_count)\n",
    ")\n",
    "dividend_yield = YieldTermStructureHandle(\n",
    "    FlatForward(calculation_date, dividend_rate, day_count)\n",
    ")\n",
    "heston_process = HestonProcess(flat_ts, dividend_yield,\n",
    "                               spot_handle, v0, kappa,\n",
    "                               theta, sigma, rho)"
   ]
  },
  {
   "cell_type": "markdown",
   "metadata": {},
   "source": [
    "On valuing the option using the Heston model, we get the net present value as:"
   ]
  },
  {
   "cell_type": "code",
   "execution_count": 5,
   "metadata": {},
   "outputs": [
    {
     "name": "stdout",
     "output_type": "stream",
     "text": [
      "The Heston model price is 6.533855481449102\n"
     ]
    }
   ],
   "source": [
    "engine = AnalyticHestonEngine(HestonModel(heston_process),0.01, 1000)\n",
    "european_option.setPricingEngine(engine)\n",
    "h_price = european_option.NPV()\n",
    "print(\"The Heston model price is {0}\".format(h_price))"
   ]
  },
  {
   "cell_type": "markdown",
   "metadata": {},
   "source": [
    "Performing the same calculation using the Black-Scholes-Merton process, we get:"
   ]
  },
  {
   "cell_type": "code",
   "execution_count": 6,
   "metadata": {},
   "outputs": [
    {
     "name": "stdout",
     "output_type": "stream",
     "text": [
      "The Black-Scholes-Merton model price is 6.749271812460607\n"
     ]
    }
   ],
   "source": [
    "flat_vol_ts = BlackVolTermStructureHandle(\n",
    "    BlackConstantVol(calculation_date, calendar, \n",
    "                     volatility, day_count)\n",
    ")\n",
    "bsm_process = BlackScholesMertonProcess(spot_handle, dividend_yield, \n",
    "                                        flat_ts, flat_vol_ts)\n",
    "european_option.setPricingEngine(AnalyticEuropeanEngine(bsm_process))\n",
    "bs_price = european_option.NPV()\n",
    "print(\"The Black-Scholes-Merton model price is {0}\".format(bs_price))"
   ]
  },
  {
   "cell_type": "markdown",
   "metadata": {},
   "source": [
    "The difference in the price between the two models is `bs_price - h_price`, or about 0.215. This difference is due to the stochastic modeling of the volatility as a CIR-process."
   ]
  }
 ],
 "metadata": {
  "kernelspec": {
   "display_name": "Python 3",
   "language": "python",
   "name": "python3"
  },
  "language_info": {
   "codemirror_mode": {
    "name": "ipython",
    "version": 3
   },
   "file_extension": ".py",
   "mimetype": "text/x-python",
   "name": "python",
   "nbconvert_exporter": "python",
   "pygments_lexer": "ipython3",
   "version": "3.6.5"
  }
 },
 "nbformat": 4,
 "nbformat_minor": 1
}
