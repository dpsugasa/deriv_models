{
 "cells": [
  {
   "cell_type": "markdown",
   "metadata": {},
   "source": [
    "# Using curves with different day-count conventions"
   ]
  },
  {
   "cell_type": "markdown",
   "metadata": {},
   "source": [
    "(Based on [a question by Vinod Rajakumar](https://sourceforge.net/p/quantlib/mailman/message/36015671/) on the QuantLib mailing list.  Thanks!)"
   ]
  },
  {
   "cell_type": "markdown",
   "metadata": {},
   "source": [
    "Like a number of other notebooks, this one describes a glitch in the library that you might want to be aware of."
   ]
  },
  {
   "cell_type": "markdown",
   "metadata": {},
   "source": [
    "#### The problem"
   ]
  },
  {
   "cell_type": "markdown",
   "metadata": {},
   "source": [
    "Let's say we're pricing an option.  We've already seen it in other notebooks, so I'll go through the setup without much details:"
   ]
  },
  {
   "cell_type": "code",
   "execution_count": 1,
   "metadata": {},
   "outputs": [],
   "source": [
    "from QuantLib import *\n",
    "import math"
   ]
  },
  {
   "cell_type": "code",
   "execution_count": 2,
   "metadata": {},
   "outputs": [],
   "source": [
    "today = Date(27, July, 2018)\n",
    "Settings.instance().evaluationDate = today\n",
    "calendar = UnitedStates(UnitedStates.NYSE)"
   ]
  },
  {
   "cell_type": "code",
   "execution_count": 3,
   "metadata": {},
   "outputs": [],
   "source": [
    "exercise_date = today+Period(3,Months)\n",
    "strike = 100.0\n",
    "option = EuropeanOption(PlainVanillaPayoff(Option.Call, strike),\n",
    "                        EuropeanExercise(exercise_date))"
   ]
  },
  {
   "cell_type": "markdown",
   "metadata": {},
   "source": [
    "I'll set up handles for the needed curves, so we can change them later..."
   ]
  },
  {
   "cell_type": "code",
   "execution_count": 4,
   "metadata": {},
   "outputs": [],
   "source": [
    "u = RelinkableQuoteHandle()\n",
    "r = RelinkableYieldTermStructureHandle()\n",
    "sigma = RelinkableBlackVolTermStructureHandle()"
   ]
  },
  {
   "cell_type": "code",
   "execution_count": 5,
   "metadata": {},
   "outputs": [],
   "source": [
    "process = BlackScholesProcess(u, r, sigma)"
   ]
  },
  {
   "cell_type": "markdown",
   "metadata": {},
   "source": [
    "...and I'll use the process above to instantiate two different engines: the first uses the analytic Black-Scholes formula, and the second a finite-difference model."
   ]
  },
  {
   "cell_type": "code",
   "execution_count": 6,
   "metadata": {},
   "outputs": [],
   "source": [
    "analytic_engine = AnalyticEuropeanEngine(process)\n",
    "\n",
    "fd_engine = FDEuropeanEngine(process, 1000, 1000)"
   ]
  },
  {
   "cell_type": "markdown",
   "metadata": {},
   "source": [
    "Now we get to pricing the option.  First, I'll link the risk-free rate and the volatility to two constant curves with the same day-count convention (in this case,  Actual/365 fixed).  Let's say the risk-free rate is 0% and the volatility is 20%."
   ]
  },
  {
   "cell_type": "code",
   "execution_count": 7,
   "metadata": {},
   "outputs": [],
   "source": [
    "u.linkTo(SimpleQuote(100.0))\n",
    "r.linkTo(FlatForward(today, 0.0, Actual365Fixed()))\n",
    "sigma.linkTo(BlackConstantVol(today, calendar, 0.20, Actual365Fixed()))"
   ]
  },
  {
   "cell_type": "markdown",
   "metadata": {},
   "source": [
    "With this setup, the two engines give the same result (within numerical error) and everybody is happy:"
   ]
  },
  {
   "cell_type": "code",
   "execution_count": 8,
   "metadata": {},
   "outputs": [
    {
     "data": {
      "text/plain": [
       "4.004101982740124"
      ]
     },
     "execution_count": 8,
     "metadata": {},
     "output_type": "execute_result"
    }
   ],
   "source": [
    "option.setPricingEngine(analytic_engine)\n",
    "option.NPV()"
   ]
  },
  {
   "cell_type": "code",
   "execution_count": 9,
   "metadata": {},
   "outputs": [
    {
     "data": {
      "text/plain": [
       "4.004154055896805"
      ]
     },
     "execution_count": 9,
     "metadata": {},
     "output_type": "execute_result"
    }
   ],
   "source": [
    "option.setPricingEngine(fd_engine)\n",
    "option.NPV()"
   ]
  },
  {
   "cell_type": "markdown",
   "metadata": {},
   "source": [
    "However, things are not always so simple.  For instance, the volatility might have been quoted with a different day-count convention, as is practice on some markets.  Let's say, for instance, that the 20% volatility was quoted based on the commonly used business/252 convention."
   ]
  },
  {
   "cell_type": "code",
   "execution_count": 10,
   "metadata": {},
   "outputs": [],
   "source": [
    "sigma.linkTo(BlackConstantVol(today, calendar, 0.20, Business252(calendar)))"
   ]
  },
  {
   "cell_type": "markdown",
   "metadata": {},
   "source": [
    "In this case, we're not so lucky; the results from the two engines differ significantly."
   ]
  },
  {
   "cell_type": "code",
   "execution_count": 11,
   "metadata": {},
   "outputs": [
    {
     "data": {
      "text/plain": [
       "4.050510859367279"
      ]
     },
     "execution_count": 11,
     "metadata": {},
     "output_type": "execute_result"
    }
   ],
   "source": [
    "option.setPricingEngine(analytic_engine)\n",
    "option.NPV()"
   ]
  },
  {
   "cell_type": "code",
   "execution_count": 12,
   "metadata": {},
   "outputs": [
    {
     "data": {
      "text/plain": [
       "4.004154055896805"
      ]
     },
     "execution_count": 12,
     "metadata": {},
     "output_type": "execute_result"
    }
   ],
   "source": [
    "option.setPricingEngine(fd_engine)\n",
    "option.NPV()"
   ]
  },
  {
   "cell_type": "markdown",
   "metadata": {},
   "source": [
    "By looking at the numbers, we can see that analytic engine reacts to the change, while the finite-differences engine doesn't."
   ]
  },
  {
   "cell_type": "markdown",
   "metadata": {},
   "source": [
    "#### What is happening?"
   ]
  },
  {
   "cell_type": "markdown",
   "metadata": {},
   "source": [
    "This is not something that could be expected; unfortunately, it's an artifact of the implementation and could only be deduced by looking at the code.  Specifically, the analytic engine is able to include in the calculation the day-count convention of the volatility curve, while the FD model is forced to use one single time grid and can't account for different conventions.\n",
    "\n",
    "More in detail, what the FD engine does is to ask the curve for the volatility at the exercise date..."
   ]
  },
  {
   "cell_type": "code",
   "execution_count": 13,
   "metadata": {},
   "outputs": [
    {
     "data": {
      "text/plain": [
       "0.2"
      ]
     },
     "execution_count": 13,
     "metadata": {},
     "output_type": "execute_result"
    }
   ],
   "source": [
    "vol = sigma.blackVol(exercise_date, strike)\n",
    "vol"
   ]
  },
  {
   "cell_type": "markdown",
   "metadata": {},
   "source": [
    "...and use it on the grid.  However, the time grid on which the FD model works uses the day-count convention of the risk-free rates, resulting in a time to maturity that is inconsistent with the volatility quote..."
   ]
  },
  {
   "cell_type": "code",
   "execution_count": 14,
   "metadata": {},
   "outputs": [
    {
     "data": {
      "text/plain": [
       "0.25793650793650796"
      ]
     },
     "execution_count": 14,
     "metadata": {},
     "output_type": "execute_result"
    }
   ],
   "source": [
    "T_vol = sigma.dayCounter().yearFraction(today, exercise_date)\n",
    "T_vol"
   ]
  },
  {
   "cell_type": "code",
   "execution_count": 15,
   "metadata": {},
   "outputs": [
    {
     "data": {
      "text/plain": [
       "0.25205479452054796"
      ]
     },
     "execution_count": 15,
     "metadata": {},
     "output_type": "execute_result"
    }
   ],
   "source": [
    "T_grid = r.dayCounter().yearFraction(today, exercise_date)\n",
    "T_grid"
   ]
  },
  {
   "cell_type": "markdown",
   "metadata": {},
   "source": [
    "...and therefore the wrong value for the variance of the stock price:"
   ]
  },
  {
   "cell_type": "code",
   "execution_count": 16,
   "metadata": {},
   "outputs": [
    {
     "data": {
      "text/plain": [
       "0.01008219178082192"
      ]
     },
     "execution_count": 16,
     "metadata": {},
     "output_type": "execute_result"
    }
   ],
   "source": [
    "vol*vol*T_grid"
   ]
  },
  {
   "cell_type": "code",
   "execution_count": 17,
   "metadata": {},
   "outputs": [
    {
     "data": {
      "text/plain": [
       "0.01031746031746032"
      ]
     },
     "execution_count": 17,
     "metadata": {},
     "output_type": "execute_result"
    }
   ],
   "source": [
    "var = sigma.blackVariance(exercise_date, strike)\n",
    "var"
   ]
  },
  {
   "cell_type": "markdown",
   "metadata": {},
   "source": [
    "#### An attempt at a solution"
   ]
  },
  {
   "cell_type": "markdown",
   "metadata": {},
   "source": [
    "In this case, and having assessed the problem, we can work around the problem; that is, we can find the volatility that, together with the day-count convention used on the grid, gives the correct variance."
   ]
  },
  {
   "cell_type": "code",
   "execution_count": 18,
   "metadata": {},
   "outputs": [
    {
     "data": {
      "text/plain": [
       "0.20232004929429467"
      ]
     },
     "execution_count": 18,
     "metadata": {},
     "output_type": "execute_result"
    }
   ],
   "source": [
    "vol = math.sqrt(var/T_grid)\n",
    "vol"
   ]
  },
  {
   "cell_type": "markdown",
   "metadata": {},
   "source": [
    "This synthetic value can be used to build a volatility curve with the same day-count convention as the rate.  This allows the FD engine to return a more correct value."
   ]
  },
  {
   "cell_type": "code",
   "execution_count": 19,
   "metadata": {},
   "outputs": [],
   "source": [
    "sigma.linkTo(BlackConstantVol(today, calendar, vol, Actual365Fixed()))"
   ]
  },
  {
   "cell_type": "code",
   "execution_count": 20,
   "metadata": {},
   "outputs": [
    {
     "data": {
      "text/plain": [
       "4.050510859367279"
      ]
     },
     "execution_count": 20,
     "metadata": {},
     "output_type": "execute_result"
    }
   ],
   "source": [
    "option.setPricingEngine(analytic_engine)\n",
    "option.NPV()"
   ]
  },
  {
   "cell_type": "code",
   "execution_count": 21,
   "metadata": {},
   "outputs": [
    {
     "data": {
      "text/plain": [
       "4.050563403337715"
      ]
     },
     "execution_count": 21,
     "metadata": {},
     "output_type": "execute_result"
    }
   ],
   "source": [
    "option.setPricingEngine(fd_engine)\n",
    "option.NPV()"
   ]
  },
  {
   "cell_type": "markdown",
   "metadata": {},
   "source": [
    "Of course, this is more cumbersome if the volatility is not flat; you might have to convert multiple values if you're interpolating them, or sample multiple values and then convert them if the curve is of some other kind.\n",
    "\n",
    "On the whole, it is unfortunate that the implementation is leaking into the use of the engine.  We still don't have a solution, though.  What I can suggest is, when possible, to perform sanity checks like the previous comparison between engine results.  This will give you information on the underlying implementation and the precautions you'll have to take when a comparison is not possible (such as, for instance, when the option is American and there's no corresponding analytic engine)."
   ]
  }
 ],
 "metadata": {
  "kernelspec": {
   "display_name": "Python 3",
   "language": "python",
   "name": "python3"
  },
  "language_info": {
   "codemirror_mode": {
    "name": "ipython",
    "version": 3
   },
   "file_extension": ".py",
   "mimetype": "text/x-python",
   "name": "python",
   "nbconvert_exporter": "python",
   "pygments_lexer": "ipython3",
   "version": "3.6.5"
  }
 },
 "nbformat": 4,
 "nbformat_minor": 1
}
