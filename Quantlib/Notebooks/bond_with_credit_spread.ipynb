{
 "cells": [
  {
   "cell_type": "markdown",
   "metadata": {},
   "source": [
    "# Valuation of bonds with credit spreads"
   ]
  },
  {
   "cell_type": "markdown",
   "metadata": {},
   "source": [
    "In an earlier example on pricing fixed rate bonds, I demonstrated how to construct and value bonds using the given yield curve. In this example, let us take a look at valuing bonds with credit spreads. We will show how to add credit spreads to the give yield curve using different approaches. \n",
    "\n",
    "As usual, let us start by importing the QuantLib library and pick a valuation date and set the calculation instance evaluation date."
   ]
  },
  {
   "cell_type": "code",
   "execution_count": 1,
   "metadata": {},
   "outputs": [],
   "source": [
    "from QuantLib import *\n",
    "calc_date = Date(26, 7, 2016)\n",
    "Settings.instance().evaluationDate = calc_date"
   ]
  },
  {
   "cell_type": "markdown",
   "metadata": {},
   "source": [
    "For simplicity, let us imagine that the treasury yield curve is flat. This makes it easier to construct the yield curve easily. This also allows us to directly shock the yield curve, and provides a validation for the more general treatment of shocks on yield curve."
   ]
  },
  {
   "cell_type": "code",
   "execution_count": 2,
   "metadata": {},
   "outputs": [],
   "source": [
    "flat_rate = SimpleQuote(0.0015)\n",
    "rate_handle = QuoteHandle(flat_rate)\n",
    "day_count = Actual360()\n",
    "calendar = UnitedStates()\n",
    "ts_yield = FlatForward(calc_date, rate_handle, day_count)\n",
    "ts_handle = YieldTermStructureHandle(ts_yield)"
   ]
  },
  {
   "cell_type": "markdown",
   "metadata": {},
   "source": [
    "Now let us construct the bond itself. We do that by first constructing the schedule, and then passing the schedule into the bond."
   ]
  },
  {
   "cell_type": "code",
   "execution_count": 3,
   "metadata": {},
   "outputs": [],
   "source": [
    "issue_date = Date(15, 7, 2016)\n",
    "maturity_date = Date(15, 7, 2021)\n",
    "tenor = Period(Semiannual)\n",
    "calendar = UnitedStates()\n",
    "bussiness_convention = Unadjusted\n",
    "date_generation = DateGeneration.Backward\n",
    "month_end = False\n",
    "schedule = Schedule (issue_date, maturity_date, \n",
    "                        tenor, calendar, \n",
    "                        bussiness_convention,\n",
    "                        bussiness_convention, \n",
    "                        date_generation, \n",
    "                        month_end)"
   ]
  },
  {
   "cell_type": "code",
   "execution_count": 4,
   "metadata": {},
   "outputs": [],
   "source": [
    "settlement_days = 2\n",
    "day_count = Thirty360()\n",
    "coupon_rate = .03\n",
    "coupons = [coupon_rate]\n",
    "\n",
    "# Now lets construct the FixedRateBond\n",
    "settlement_days = 0\n",
    "face_value = 100\n",
    "fixed_rate_bond = FixedRateBond(\n",
    "    settlement_days, \n",
    "    face_value, \n",
    "    schedule, \n",
    "    coupons, \n",
    "    day_count)\n"
   ]
  },
  {
   "cell_type": "markdown",
   "metadata": {},
   "source": [
    "Now that we have the `fixed_rate_bond` object, we can create a `DiscountingBondEngine` and value the bond."
   ]
  },
  {
   "cell_type": "code",
   "execution_count": 5,
   "metadata": {},
   "outputs": [
    {
     "data": {
      "text/plain": [
       "114.18461651948999"
      ]
     },
     "execution_count": 5,
     "metadata": {},
     "output_type": "execute_result"
    }
   ],
   "source": [
    "bond_engine = DiscountingBondEngine(ts_handle)\n",
    "fixed_rate_bond.setPricingEngine(bond_engine)\n",
    "fixed_rate_bond.NPV()"
   ]
  },
  {
   "cell_type": "markdown",
   "metadata": {},
   "source": [
    "So far, we have valued the bond under the treasury yield curve and have not incorporated the credit spreads. Let us assume that the market prices this bond with a `50BP` spread on top of the treasury yield curve. Now we can, in this case, directly shock the `flat_rate` used in the yield term structure. Let us see what the value is:"
   ]
  },
  {
   "cell_type": "code",
   "execution_count": 6,
   "metadata": {},
   "outputs": [
    {
     "data": {
      "text/plain": [
       "111.5097766266561"
      ]
     },
     "execution_count": 6,
     "metadata": {},
     "output_type": "execute_result"
    }
   ],
   "source": [
    "flat_rate.setValue(0.0065)\n",
    "fixed_rate_bond.NPV()"
   ]
  },
  {
   "cell_type": "markdown",
   "metadata": {},
   "source": [
    "Above we shocked the `flat_rate` and since the yield term structure is an `Observer` observing the `Observable` `flat_rate`, we could just shock the rate, and QuantLib behind the scenes recalculates all the `Observer`s. Though, this approach is not always viable, in cases such as a bootstrapped bond curve. So let us look at two different approaches that can be used. Before we do that, we need to reset the `flat_rate` back to what it was."
   ]
  },
  {
   "cell_type": "code",
   "execution_count": 7,
   "metadata": {},
   "outputs": [
    {
     "data": {
      "text/plain": [
       "114.18461651948999"
      ]
     },
     "execution_count": 7,
     "metadata": {},
     "output_type": "execute_result"
    }
   ],
   "source": [
    "flat_rate.setValue(0.0015)\n",
    "fixed_rate_bond.NPV()"
   ]
  },
  {
   "cell_type": "markdown",
   "metadata": {},
   "source": [
    "#### Parallel Shift of the Yield Curve\n",
    "\n",
    "The whole yield curve can be shifted up and down, and the bond revalued with the help of the `ZeroSpreadedTermStructure`. The constructor takes the yield curve and the spread as argument."
   ]
  },
  {
   "cell_type": "code",
   "execution_count": 8,
   "metadata": {},
   "outputs": [
    {
     "data": {
      "text/plain": [
       "111.50977662665609"
      ]
     },
     "execution_count": 8,
     "metadata": {},
     "output_type": "execute_result"
    }
   ],
   "source": [
    "spread1 = SimpleQuote(0.0050)\n",
    "spread_handle1 = QuoteHandle(spread1)\n",
    "ts_spreaded1 = ZeroSpreadedTermStructure(ts_handle, spread_handle1)\n",
    "ts_spreaded_handle1 = YieldTermStructureHandle(ts_spreaded1)\n",
    "\n",
    "bond_engine = DiscountingBondEngine(ts_spreaded_handle1)\n",
    "fixed_rate_bond.setPricingEngine(bond_engine)\n",
    "\n",
    "# Finally the price\n",
    "fixed_rate_bond.NPV()"
   ]
  },
  {
   "cell_type": "markdown",
   "metadata": {},
   "source": [
    "Once we have constructed the spreaded term structure, it is rather easy to value for other spreads. All we need to do is change the `SimpleQuote` object `spread1` here."
   ]
  },
  {
   "cell_type": "code",
   "execution_count": 9,
   "metadata": {},
   "outputs": [
    {
     "data": {
      "text/plain": [
       "108.89999943320038"
      ]
     },
     "execution_count": 9,
     "metadata": {},
     "output_type": "execute_result"
    }
   ],
   "source": [
    "spread1.setValue(0.01)\n",
    "fixed_rate_bond.NPV()"
   ]
  },
  {
   "cell_type": "markdown",
   "metadata": {},
   "source": [
    "#### Non-Parallel Shift of the Yield Curve\n",
    "The above method allows only for parallel shift of the yield curve. The `SpreadedLinearZeroInterpolatedTermStructure` class allows for non parallel shock. First, let us mimic a parallel shift using this class. For the constructor, we need to pass the yield term structure that we wish to shift, and the a list of spreads and a list of the corresponding dates."
   ]
  },
  {
   "cell_type": "code",
   "execution_count": 10,
   "metadata": {},
   "outputs": [
    {
     "data": {
      "text/plain": [
       "111.50977662665609"
      ]
     },
     "execution_count": 10,
     "metadata": {},
     "output_type": "execute_result"
    }
   ],
   "source": [
    "spread21 = SimpleQuote(0.0050)\n",
    "spread22 = SimpleQuote(0.0050)\n",
    "start_date = calc_date\n",
    "end_date = calendar.advance(start_date, Period(50, Years))\n",
    "ts_spreaded2 = SpreadedLinearZeroInterpolatedTermStructure(\n",
    "    ts_handle,\n",
    "    [QuoteHandle(spread21), QuoteHandle(spread22)],\n",
    "    [start_date, end_date]\n",
    ")\n",
    "ts_spreaded_handle2 = YieldTermStructureHandle(ts_spreaded2)\n",
    "\n",
    "bond_engine = DiscountingBondEngine(ts_spreaded_handle2)\n",
    "fixed_rate_bond.setPricingEngine(bond_engine)\n",
    "\n",
    "# Finally the price\n",
    "fixed_rate_bond.NPV()\n"
   ]
  },
  {
   "cell_type": "markdown",
   "metadata": {},
   "source": [
    "Here, once again we can change the value of `spread2` to value for other shocks."
   ]
  },
  {
   "cell_type": "code",
   "execution_count": 11,
   "metadata": {},
   "outputs": [
    {
     "data": {
      "text/plain": [
       "108.89999943320038"
      ]
     },
     "execution_count": 11,
     "metadata": {},
     "output_type": "execute_result"
    }
   ],
   "source": [
    "spread21.setValue(0.01)\n",
    "spread22.setValue(0.01)\n",
    "fixed_rate_bond.NPV()"
   ]
  },
  {
   "cell_type": "markdown",
   "metadata": {},
   "source": [
    "We can easily do non-parallel shifts just by shocking one end. "
   ]
  },
  {
   "cell_type": "code",
   "execution_count": 12,
   "metadata": {},
   "outputs": [
    {
     "data": {
      "text/plain": [
       "111.25358792334083"
      ]
     },
     "execution_count": 12,
     "metadata": {},
     "output_type": "execute_result"
    }
   ],
   "source": [
    "spread21.setValue(0.005)\n",
    "spread22.setValue(0.01)\n",
    "fixed_rate_bond.NPV()"
   ]
  },
  {
   "cell_type": "markdown",
   "metadata": {},
   "source": [
    "The `SpreadedLinearZeroInterpolatedTermStructure` is a powerful class and can be used to implement key-rate duration calculations."
   ]
  }
 ],
 "metadata": {
  "kernelspec": {
   "display_name": "Python 3",
   "language": "python",
   "name": "python3"
  },
  "language_info": {
   "codemirror_mode": {
    "name": "ipython",
    "version": 3
   },
   "file_extension": ".py",
   "mimetype": "text/x-python",
   "name": "python",
   "nbconvert_exporter": "python",
   "pygments_lexer": "ipython3",
   "version": "3.6.5"
  }
 },
 "nbformat": 4,
 "nbformat_minor": 1
}
