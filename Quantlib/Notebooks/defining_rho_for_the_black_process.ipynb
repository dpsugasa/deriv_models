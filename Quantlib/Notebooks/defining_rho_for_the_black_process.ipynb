{
 "cells": [
  {
   "cell_type": "markdown",
   "metadata": {},
   "source": [
    "# Defining rho for the Black process"
   ]
  },
  {
   "cell_type": "markdown",
   "metadata": {},
   "source": [
    "(Based on a question by DPaulino on the QuantLib mailing list. Thanks!)"
   ]
  },
  {
   "cell_type": "code",
   "execution_count": 1,
   "metadata": {},
   "outputs": [],
   "source": [
    "from QuantLib import *"
   ]
  },
  {
   "cell_type": "code",
   "execution_count": 2,
   "metadata": {},
   "outputs": [],
   "source": [
    "today = Date(24,12,2016)\n",
    "Settings.instance().evaluationDate = today"
   ]
  },
  {
   "cell_type": "markdown",
   "metadata": {},
   "source": [
    "#### The dangers of generalization"
   ]
  },
  {
   "cell_type": "markdown",
   "metadata": {},
   "source": [
    "QuantLib provides a few classes to represent specific cases of the Black-Scholes-Merton process; for instance, the `BlackScholesProcess` class assumes that there are no dividends, and the `BlackProcess` class that the cost of carry is equal to 0.  It is the latter, or rather a glitch in it, that is the subject of this notebook."
   ]
  },
  {
   "cell_type": "markdown",
   "metadata": {},
   "source": [
    "All such classes inherit from a base `GeneralizedBlackScholesProcess` class (I know, we're not that good at naming things) that models the more general case in which the underlying stock has a continuous dividend yield.  The specific cases are implemented by inheriting from this class and setting a constraint on the dividends $q(t)$: for the Black-Scholes process, $q(t) = 0$; and for the Black process, $q(t) = r(t)$, which makes the cost of carry $b$ equal 0."
   ]
  },
  {
   "cell_type": "markdown",
   "metadata": {},
   "source": [
    "We can check the constraint by creating two instances of such processes.  Here are the quotes and term structures we'll use to model the dynamics of the underlying:"
   ]
  },
  {
   "cell_type": "code",
   "execution_count": 3,
   "metadata": {},
   "outputs": [],
   "source": [
    "u = SimpleQuote(100.0)\n",
    "r = SimpleQuote(0.01)\n",
    "sigma = SimpleQuote(0.20)\n",
    "\n",
    "risk_free_curve = FlatForward(today, QuoteHandle(r), Actual360())\n",
    "volatility = BlackConstantVol(today, TARGET(), QuoteHandle(sigma), Actual360())"
   ]
  },
  {
   "cell_type": "markdown",
   "metadata": {},
   "source": [
    "The constructor of the `BlackScholesProcess` class doesn't take a dividend yield, and sets it to 0 internally:"
   ]
  },
  {
   "cell_type": "code",
   "execution_count": 4,
   "metadata": {},
   "outputs": [
    {
     "name": "stdout",
     "output_type": "stream",
     "text": [
      "0.000000 % Actual/365 (Fixed) continuous compounding\n"
     ]
    }
   ],
   "source": [
    "process_1 = BlackScholesProcess(QuoteHandle(u),\n",
    "                                YieldTermStructureHandle(risk_free_curve),\n",
    "                                BlackVolTermStructureHandle(volatility))\n",
    "\n",
    "print(process_1.dividendYield().zeroRate(1.0, Continuous))"
   ]
  },
  {
   "cell_type": "markdown",
   "metadata": {},
   "source": [
    "The constructor of the `BlackProcess` class doesn't take a dividend yield either, and sets its handle as a copy of the risk free handle: "
   ]
  },
  {
   "cell_type": "code",
   "execution_count": 5,
   "metadata": {},
   "outputs": [
    {
     "name": "stdout",
     "output_type": "stream",
     "text": [
      "1.000000 % Actual/360 continuous compounding\n",
      "1.000000 % Actual/360 continuous compounding\n"
     ]
    }
   ],
   "source": [
    "process_2 = BlackProcess(QuoteHandle(u),\n",
    "                         YieldTermStructureHandle(risk_free_curve),\n",
    "                         BlackVolTermStructureHandle(volatility))\n",
    "\n",
    "print(process_2.riskFreeRate().zeroRate(1.0, Continuous))\n",
    "print(process_2.dividendYield().zeroRate(1.0, Continuous))"
   ]
  },
  {
   "cell_type": "markdown",
   "metadata": {},
   "source": [
    "Now, the above processes can be used to price options on underlyings behaving accordingly; the first process describes, e.g., a stock that doesn't pay any dividends, and the second describes, e.g., a futures.  The classes to use are the same: `EuropeanOption` for the instrument and `AnalyticEuropeanEngine` for the pricing engine.  The constructor of the engine takes an instance of `GeneralizedBlackScholesProcess`, to which both our processes can be converted implicitly."
   ]
  },
  {
   "cell_type": "code",
   "execution_count": 6,
   "metadata": {},
   "outputs": [
    {
     "name": "stdout",
     "output_type": "stream",
     "text": [
      "4.337597216336533\n"
     ]
    }
   ],
   "source": [
    "option_1 = EuropeanOption(PlainVanillaPayoff(Option.Call, 100.0),\n",
    "                          EuropeanExercise(today+100))\n",
    "option_1.setPricingEngine(AnalyticEuropeanEngine(process_1))\n",
    "\n",
    "print(option_1.NPV())"
   ]
  },
  {
   "cell_type": "code",
   "execution_count": 7,
   "metadata": {},
   "outputs": [
    {
     "name": "stdout",
     "output_type": "stream",
     "text": [
      "4.191615257389808\n"
     ]
    }
   ],
   "source": [
    "option_2 = EuropeanOption(PlainVanillaPayoff(Option.Call, 100.0),\n",
    "                          EuropeanExercise(today+100))\n",
    "option_2.setPricingEngine(AnalyticEuropeanEngine(process_2))\n",
    "\n",
    "print(option_2.NPV())"
   ]
  },
  {
   "cell_type": "markdown",
   "metadata": {},
   "source": [
    "So far, so good.  However, we can see the glitch when we ask the options for their Greeks.  With this particular engine, they're able to calculate them by using closed formulas (none other, of course, that those expressing the derivatives of the Black-Scholes-Merton formula).  As I described in a previous notebook, we can also calculate the Greeks numerically, by bumping the inputs and repricing the option.  If we compare the two approaches, they should yield approximately the same results."
   ]
  },
  {
   "cell_type": "markdown",
   "metadata": {},
   "source": [
    "For convenience, I'll define a utility function to calculate numerical Greeks. It takes the option, the quote to change and the amplitude of the bump."
   ]
  },
  {
   "cell_type": "code",
   "execution_count": 8,
   "metadata": {},
   "outputs": [],
   "source": [
    "def greek(option, quote, dx):\n",
    "    x0 = quote.value()\n",
    "    quote.setValue(x0+dx)\n",
    "    P_u = option.NPV()\n",
    "    quote.setValue(x0-dx)\n",
    "    P_d = option.NPV()\n",
    "    quote.setValue(x0)\n",
    "    return (P_u-P_d)/(2*dx)"
   ]
  },
  {
   "cell_type": "markdown",
   "metadata": {},
   "source": [
    "By passing different quotes, we can calculate different Greeks. Bumping the underlying value will give us the delta, which we can compare to the analytic result:"
   ]
  },
  {
   "cell_type": "code",
   "execution_count": 9,
   "metadata": {},
   "outputs": [
    {
     "name": "stdout",
     "output_type": "stream",
     "text": [
      "0.5315063340142601\n",
      "0.531506323010289\n"
     ]
    }
   ],
   "source": [
    "print(option_1.delta())\n",
    "print(greek(option_1, u, 0.01))"
   ]
  },
  {
   "cell_type": "code",
   "execution_count": 10,
   "metadata": {},
   "outputs": [
    {
     "name": "stdout",
     "output_type": "stream",
     "text": [
      "0.5195711146255227\n",
      "0.5195711052036867\n"
     ]
    }
   ],
   "source": [
    "print(option_2.delta())\n",
    "print(greek(option_2, u, 0.01))"
   ]
  },
  {
   "cell_type": "markdown",
   "metadata": {},
   "source": [
    "Bumping the volatility gives us the vega..."
   ]
  },
  {
   "cell_type": "code",
   "execution_count": 11,
   "metadata": {},
   "outputs": [
    {
     "name": "stdout",
     "output_type": "stream",
     "text": [
      "20.96050033373808\n",
      "20.960499909565833\n"
     ]
    }
   ],
   "source": [
    "print(option_1.vega())\n",
    "print(greek(option_1, sigma, 0.001))"
   ]
  },
  {
   "cell_type": "code",
   "execution_count": 12,
   "metadata": {},
   "outputs": [
    {
     "name": "stdout",
     "output_type": "stream",
     "text": [
      "20.938677847075486\n",
      "20.938677605407463\n"
     ]
    }
   ],
   "source": [
    "print(option_2.vega())\n",
    "print(greek(option_2, sigma, 0.001))"
   ]
  },
  {
   "cell_type": "markdown",
   "metadata": {},
   "source": [
    "...and bumping the risk-free rate will give us the rho."
   ]
  },
  {
   "cell_type": "code",
   "execution_count": 13,
   "metadata": {},
   "outputs": [
    {
     "name": "stdout",
     "output_type": "stream",
     "text": [
      "13.559176718080407\n",
      "13.55917453385036\n"
     ]
    }
   ],
   "source": [
    "print(option_1.rho())\n",
    "print(greek(option_1, r, 0.001))"
   ]
  },
  {
   "cell_type": "code",
   "execution_count": 14,
   "metadata": {},
   "outputs": [
    {
     "name": "stdout",
     "output_type": "stream",
     "text": [
      "13.268193390322908\n",
      "-1.1643375864700545\n"
     ]
    }
   ],
   "source": [
    "print(option_2.rho())\n",
    "print(greek(option_2, r, 0.001))"
   ]
  },
  {
   "cell_type": "markdown",
   "metadata": {},
   "source": [
    "Whoops.  Not what you might have expected."
   ]
  },
  {
   "cell_type": "markdown",
   "metadata": {},
   "source": [
    "#### What's happening here?"
   ]
  },
  {
   "cell_type": "markdown",
   "metadata": {},
   "source": [
    "The problem is that the engine works with a generic process, and $\\rho$ is calculated as\n",
    "\n",
    "$$\n",
    "\\rho = \\frac{\\partial}{\\partial r} C(u, r, q, \\sigma)\n",
    "$$\n",
    "\n",
    "where $C$ is the Black-Scholes-Merton formula for the value of the call option."
   ]
  },
  {
   "cell_type": "markdown",
   "metadata": {},
   "source": [
    "However, not knowing about the specific process type we passed, the engine doesn't know about the constraint we set on the underlying variables: in this case, that $q = q(r) = r$.  Therefore, the correct value for $\\rho$ should be\n",
    "\n",
    "$$\n",
    "\\rho = \\frac{d}{dr} C(u, r, q(r), \\sigma) \n",
    "    = \\frac{\\partial C}{\\partial r} + \\frac{\\partial C}{\\partial q} \\cdot \\frac{\\partial q}{\\partial r}\n",
    "    = \\frac{\\partial C}{\\partial r} + \\frac{\\partial C}{\\partial q}.\n",
    "$$"
   ]
  },
  {
   "cell_type": "markdown",
   "metadata": {},
   "source": [
    "which is the sum of the rho as defined in the engine and the dividend rho.  We can verify this by comparing the above with the numerical Greek:"
   ]
  },
  {
   "cell_type": "code",
   "execution_count": 15,
   "metadata": {},
   "outputs": [
    {
     "name": "stdout",
     "output_type": "stream",
     "text": [
      "-1.1643375714971693\n",
      "-1.1643375864700545\n"
     ]
    }
   ],
   "source": [
    "print(option_2.rho() + option_2.dividendRho())\n",
    "print(greek(option_2, r, 0.001))"
   ]
  },
  {
   "cell_type": "markdown",
   "metadata": {},
   "source": [
    "Now: is this a bug in the engine?\n",
    "\n",
    "Well, it might be argued. The engine might detect the case of a Black process and change the calculation of rho accordingly; it's kind of a hack, and there goes the genericity, but it's possible to implement.  However, the above might also happen with a usually well-behaved process if we use the same term structure for $r$ and $q$:"
   ]
  },
  {
   "cell_type": "code",
   "execution_count": 16,
   "metadata": {},
   "outputs": [],
   "source": [
    "process_3 = BlackScholesMertonProcess(QuoteHandle(u),\n",
    "                                      YieldTermStructureHandle(risk_free_curve),\n",
    "                                      YieldTermStructureHandle(risk_free_curve),\n",
    "                                      BlackVolTermStructureHandle(volatility))\n",
    "option_3 = EuropeanOption(PlainVanillaPayoff(Option.Call, 100.0),\n",
    "                          EuropeanExercise(today+100))\n",
    "option_3.setPricingEngine(AnalyticEuropeanEngine(process_3))"
   ]
  },
  {
   "cell_type": "code",
   "execution_count": 17,
   "metadata": {},
   "outputs": [
    {
     "name": "stdout",
     "output_type": "stream",
     "text": [
      "0.5195711146255227\n",
      "0.5195711052036867\n"
     ]
    }
   ],
   "source": [
    "print(option_3.delta())\n",
    "print(greek(option_3, u, 0.01))"
   ]
  },
  {
   "cell_type": "code",
   "execution_count": 18,
   "metadata": {},
   "outputs": [
    {
     "name": "stdout",
     "output_type": "stream",
     "text": [
      "13.268193390322908\n",
      "-1.1643375864700545\n",
      "-1.1643375714971693\n"
     ]
    }
   ],
   "source": [
    "print(option_3.rho())\n",
    "print(greek(option_3, r, 0.001))\n",
    "print(option_3.rho() + option_3.dividendRho())"
   ]
  },
  {
   "cell_type": "markdown",
   "metadata": {},
   "source": [
    "The issue is not even limited to processes.  You're defining a discount curve as the risk-free rate plus a credit spread? Bumping the risk-free rate will modify both, and your sensitivities will be affected accordingly (even though in this case the effect is probably what you wanted).  In any case, this is something you should be aware of."
   ]
  }
 ],
 "metadata": {
  "kernelspec": {
   "display_name": "Python 3",
   "language": "python",
   "name": "python3"
  },
  "language_info": {
   "codemirror_mode": {
    "name": "ipython",
    "version": 3
   },
   "file_extension": ".py",
   "mimetype": "text/x-python",
   "name": "python",
   "nbconvert_exporter": "python",
   "pygments_lexer": "ipython3",
   "version": "3.6.5"
  }
 },
 "nbformat": 4,
 "nbformat_minor": 1
}
