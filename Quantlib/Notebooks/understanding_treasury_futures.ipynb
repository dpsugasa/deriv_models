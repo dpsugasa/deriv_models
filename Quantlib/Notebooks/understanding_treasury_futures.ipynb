{
 "cells": [
  {
   "cell_type": "markdown",
   "metadata": {},
   "source": [
    "# Treasury futures contracts"
   ]
  },
  {
   "cell_type": "markdown",
   "metadata": {},
   "source": [
    "In this chapter, we will learn how to value treasury futures contracts using QuantLib. The treasury futures contract gives the buyer the right to buy the underlying by the time the contract expires. The underlying is usually delivered from a basket of securities. So in order to properly value the futures contract, we would need to find the deliverable. Here we start by doing a naive calculation by constructing a fictional security. We will see what is wrong about this approach. As a next step we will perform the cheapest to deliver calculation and subsequently use that deliverable to value the same contract."
   ]
  },
  {
   "cell_type": "code",
   "execution_count": 1,
   "metadata": {},
   "outputs": [],
   "source": [
    "from QuantLib import *\n",
    "import math\n",
    "from pandas import DataFrame"
   ]
  },
  {
   "cell_type": "code",
   "execution_count": 2,
   "metadata": {},
   "outputs": [],
   "source": [
    "calc_date = Date(30,11,2015)\n",
    "Settings.instance().evaluationDate = calc_date\n",
    "day_count = ActualActual()\n",
    "calendar = UnitedStates()\n",
    "bussiness_convention = Following\n",
    "end_of_month = False\n",
    "settlement_days = 0\n",
    "face_amount = 100\n",
    "coupon_frequency = Period(Semiannual)"
   ]
  },
  {
   "cell_type": "markdown",
   "metadata": {},
   "source": [
    "#### Build Yield Curve\n",
    "\n",
    "As a first step, we build the treasury curve out of the treasury securities such as T-Bills, T-Notes and Treasury bonds."
   ]
  },
  {
   "cell_type": "code",
   "execution_count": 3,
   "metadata": {},
   "outputs": [],
   "source": [
    "prices = [99.9935,99.9576,99.8119,99.5472,99.8867,\n",
    "100.0664,99.8711,100.0547,100.3047,100.2266]\n",
    "\n",
    "coupon_rates = [0.0000, 0.0000, 0.0000, 0.0000, 0.00875, \n",
    "               0.0125, 0.01625, 0.02, 0.0225, 0.03]\n",
    "maturity_dates = [Date(24,12,2015), Date(25,2,2016), \n",
    "                  Date(26,5,2016), Date(10,11,2016),\n",
    "                  Date(30,11,2017), Date(15,11,2018), \n",
    "                  Date(30,11,2020), Date(30,11,2022),\n",
    "                  Date(15,11,2025), Date(15,11,2045)]\n",
    "\n",
    "issue_dates = [Date(25,6,2015), Date(27,8,2015),\n",
    "               Date(28,5,2015), Date(12,11,2015),\n",
    "               Date(30,11,2015), Date(16,11,2015),\n",
    "               Date(30,11,2015), Date(30,11,2015),\n",
    "               Date(16,11,2015), Date(16,11,2015)]\n",
    "\n",
    "coupon_frequency = Period(6, Months)\n",
    "\n",
    "bond_helpers = []\n",
    "for coupon, issue_date, maturity_date, price \\\n",
    "    in zip(coupon_rates, issue_dates, maturity_dates, prices):\n",
    "    schedule = Schedule(calc_date,\n",
    "                   maturity_date,\n",
    "                   coupon_frequency,\n",
    "                   calendar,\n",
    "                   bussiness_convention,\n",
    "                   bussiness_convention,\n",
    "                   DateGeneration.Backward,\n",
    "                   False)\n",
    "\n",
    "    helper = FixedRateBondHelper(QuoteHandle(SimpleQuote(price)),\n",
    "                                    settlement_days,\n",
    "                                    face_amount,\n",
    "                                    schedule,\n",
    "                                    [coupon],\n",
    "                                    day_count,\n",
    "                                    bussiness_convention\n",
    "                                    )\n",
    "    bond_helpers.append(helper)"
   ]
  },
  {
   "cell_type": "code",
   "execution_count": 4,
   "metadata": {},
   "outputs": [
    {
     "data": {
      "text/html": [
       "<div>\n",
       "<style scoped>\n",
       "    .dataframe tbody tr th:only-of-type {\n",
       "        vertical-align: middle;\n",
       "    }\n",
       "\n",
       "    .dataframe tbody tr th {\n",
       "        vertical-align: top;\n",
       "    }\n",
       "\n",
       "    .dataframe thead th {\n",
       "        text-align: right;\n",
       "    }\n",
       "</style>\n",
       "<table border=\"1\" class=\"dataframe\">\n",
       "  <thead>\n",
       "    <tr style=\"text-align: right;\">\n",
       "      <th></th>\n",
       "      <th>Dates</th>\n",
       "      <th>Discount Factors</th>\n",
       "    </tr>\n",
       "  </thead>\n",
       "  <tbody>\n",
       "    <tr>\n",
       "      <th></th>\n",
       "      <td>December 24th, 2015</td>\n",
       "      <td>0.999935</td>\n",
       "    </tr>\n",
       "    <tr>\n",
       "      <th></th>\n",
       "      <td>February 25th, 2016</td>\n",
       "      <td>0.999576</td>\n",
       "    </tr>\n",
       "    <tr>\n",
       "      <th></th>\n",
       "      <td>May 26th, 2016</td>\n",
       "      <td>0.998119</td>\n",
       "    </tr>\n",
       "    <tr>\n",
       "      <th></th>\n",
       "      <td>November 10th, 2016</td>\n",
       "      <td>0.995472</td>\n",
       "    </tr>\n",
       "    <tr>\n",
       "      <th></th>\n",
       "      <td>November 30th, 2017</td>\n",
       "      <td>0.981524</td>\n",
       "    </tr>\n",
       "    <tr>\n",
       "      <th></th>\n",
       "      <td>November 15th, 2018</td>\n",
       "      <td>0.964278</td>\n",
       "    </tr>\n",
       "    <tr>\n",
       "      <th></th>\n",
       "      <td>November 30th, 2020</td>\n",
       "      <td>0.920306</td>\n",
       "    </tr>\n",
       "    <tr>\n",
       "      <th></th>\n",
       "      <td>November 30th, 2022</td>\n",
       "      <td>0.868533</td>\n",
       "    </tr>\n",
       "    <tr>\n",
       "      <th></th>\n",
       "      <td>November 15th, 2025</td>\n",
       "      <td>0.799447</td>\n",
       "    </tr>\n",
       "    <tr>\n",
       "      <th></th>\n",
       "      <td>November 15th, 2045</td>\n",
       "      <td>0.384829</td>\n",
       "    </tr>\n",
       "  </tbody>\n",
       "</table>\n",
       "</div>"
      ],
      "text/plain": [
       "                Dates  Discount Factors\n",
       "  December 24th, 2015          0.999935\n",
       "  February 25th, 2016          0.999576\n",
       "       May 26th, 2016          0.998119\n",
       "  November 10th, 2016          0.995472\n",
       "  November 30th, 2017          0.981524\n",
       "  November 15th, 2018          0.964278\n",
       "  November 30th, 2020          0.920306\n",
       "  November 30th, 2022          0.868533\n",
       "  November 15th, 2025          0.799447\n",
       "  November 15th, 2045          0.384829"
      ]
     },
     "execution_count": 4,
     "metadata": {},
     "output_type": "execute_result"
    }
   ],
   "source": [
    "yield_curve = PiecewiseCubicZero(calc_date, bond_helpers, day_count)\n",
    "yield_curve_handle = YieldTermStructureHandle(yield_curve)\n",
    "discount_factors = [yield_curve.discount(d) for d in maturity_dates]\n",
    "DataFrame(list(zip(maturity_dates,discount_factors)),\n",
    "          columns= [\"Dates\", \"Discount Factors\"],\n",
    "          index=['']*len(maturity_dates))"
   ]
  },
  {
   "cell_type": "markdown",
   "metadata": {},
   "source": [
    "#### Treasury Futures\n",
    "\n",
    "Here we want to understand how to model treasury futures contract. Let us look at the TYZ5, the treasury futures on the 10 year note for delivery in December 2015. The notional deliverable is a 10-year 6% coupon note. In reality, the seller of the futures contract can deliver from a basket of securities. \n",
    "\n",
    "For now, lets assume that the deliverable is actually a 6% coupon 10-year note issued as of the calculation date. Let us construct a 10 year treasury note and value this security. The futures price for the TYZ5 is 127.0625."
   ]
  },
  {
   "cell_type": "code",
   "execution_count": 5,
   "metadata": {},
   "outputs": [],
   "source": [
    "def create_tsy_security(bond_issue_date, \n",
    "                        bond_maturity_date,\n",
    "                        coupon_rate,\n",
    "                        coupon_frequency=Period(6, Months),\n",
    "                        day_count=ActualActual(),\n",
    "                        calendar=UnitedStates()\n",
    "                        ):\n",
    "    face_value = 100.\n",
    "    settlement_days = 0\n",
    "    \n",
    "    schedule = Schedule(bond_issue_date,\n",
    "                        bond_maturity_date,\n",
    "                        coupon_frequency,\n",
    "                        calendar,\n",
    "                        ModifiedFollowing,\n",
    "                        ModifiedFollowing,\n",
    "                        DateGeneration.Forward,\n",
    "                        False)\n",
    "\n",
    "    security = FixedRateBond(settlement_days,\n",
    "                             face_value,\n",
    "                             schedule,\n",
    "                             [coupon_rate],\n",
    "                             day_count\n",
    "                             )\n",
    "    return security"
   ]
  },
  {
   "cell_type": "code",
   "execution_count": 6,
   "metadata": {},
   "outputs": [],
   "source": [
    "bond_issue_date = calc_date \n",
    "delivery_date = Date(1,12,2015)\n",
    "\n",
    "bond_maturity_date = bond_issue_date + Period(10, Years)\n",
    "day_count = ActualActual()\n",
    "coupon_frequency = Period(6, Months)\n",
    "coupon_rate = 6/100.\n",
    "\n",
    "deliverable = create_tsy_security(bond_issue_date,\n",
    "                                  bond_maturity_date,\n",
    "                                  coupon_rate,\n",
    "                                  coupon_frequency,\n",
    "                                  day_count,\n",
    "                                  calendar\n",
    "                                  )\n",
    "bond_engine = DiscountingBondEngine(yield_curve_handle)\n",
    "deliverable.setPricingEngine(bond_engine)"
   ]
  },
  {
   "cell_type": "markdown",
   "metadata": {},
   "source": [
    "Lets calculate the Z-Spread for this deliverable. The Z-Spread is the static spread added to the yield curve to match the price of the security. This spread is a measure of the risk associated with the security. For a treasury security, you would expect this to be zero. "
   ]
  },
  {
   "cell_type": "code",
   "execution_count": 7,
   "metadata": {},
   "outputs": [
    {
     "name": "stdout",
     "output_type": "stream",
     "text": [
      "Z-Spread = 71bp\n"
     ]
    }
   ],
   "source": [
    "futures_price = 127.0625\n",
    "clean_price = futures_price*yield_curve.discount(delivery_date)\n",
    "\n",
    "zspread = BondFunctions.zSpread(deliverable, clean_price,\n",
    "                                   yield_curve, day_count, \n",
    "                                   Compounded, Semiannual, \n",
    "                                   calc_date)*10000\n",
    "print(\"Z-Spread =%3.0fbp\" % (zspread))"
   ]
  },
  {
   "cell_type": "markdown",
   "metadata": {},
   "source": [
    "Here we get a spread of 71 basis points. This is unusually high for a treasury futures contract. \n",
    "\n",
    "#### Cheapest To Deliver\n",
    "\n",
    "Above we used a fictional 6% coupon bond as the deliverable. In reality, the deliverable is picked from a basket of securities based on what is the cheapest to deliver. Cheapest to deliver is not the cheapest in price. The seller of the futures contract, has to buy the delivery security from the market and sell it at an adjusted futures price. The adjusted futures price is given as:\n",
    "\n",
    "*Adjusted Futures Price = Futures Price x Conversion Factor*\n",
    "\n",
    "The gain or loss to the seller is given by the basis,\n",
    "\n",
    "*Basis = Cash Price - Adjusted Futures Price*\n",
    "\n",
    "So the cheapest to deliver is expected to be the security with the lowest basis. The conversion factor for a security is the price of the security with a 6% yield. Let us look at a basket of securities that is underlying this futures contract to understand this aspect."
   ]
  },
  {
   "cell_type": "code",
   "execution_count": 8,
   "metadata": {},
   "outputs": [
    {
     "name": "stdout",
     "output_type": "stream",
     "text": [
      "Minimum Basis                  = 0.450601\n",
      "Conversion Factor              = 0.791830\n",
      "Coupon                         = 2.125000\n",
      "Maturity                       = June 30th, 2022\n",
      "Price                          = 101.062500\n"
     ]
    }
   ],
   "source": [
    "day_count = ActualActual()\n",
    "basket = [(1.625, Date(15,8,2022), 97.921875), \n",
    "          (1.625, Date(15,11,2022), 97.671875),\n",
    "          (1.75, Date(30,9,2022), 98.546875),\n",
    "          (1.75, Date(15,5,2023), 97.984375),\n",
    "          (1.875, Date(31,8,2022), 99.375),\n",
    "          (1.875, Date(31,10,2022),99.296875),\n",
    "          (2.0, Date(31,7,2022), 100.265625), \n",
    "          (2.0, Date(15,2,2023), 100.0625),\n",
    "          (2.0, Date(15,2,2025), 98.296875),\n",
    "          (2.0, Date(15,8,2025), 98.09375),\n",
    "          (2.125, Date(30,6,2022), 101.06250),\n",
    "          (2.125, Date(15,5,2025),99.25),\n",
    "          (2.25, Date(15,11,2024),100.546875),\n",
    "          (2.25, Date(15,11,2025),100.375),\n",
    "          (2.375, Date(15,8,2024),101.671875),\n",
    "          (2.5, Date(15,8,2023),103.25),\n",
    "          (2.5, Date(15,5,2024),102.796875),\n",
    "          (2.75, Date(15,11,2023),105.0625),\n",
    "          (2.75, Date(15,2,2024),104.875)\n",
    "          ]\n",
    "securities = []\n",
    "min_basis = 100; min_basis_index = -1\n",
    "for i, b in enumerate(basket):\n",
    "    coupon, maturity, price = b\n",
    "    issue = maturity - Period(10, Years)\n",
    "    s = create_tsy_security(issue,maturity, coupon/100.)\n",
    "    bond_engine = DiscountingBondEngine(yield_curve_handle)\n",
    "    s.setPricingEngine(bond_engine)\n",
    "    cf = BondFunctions.cleanPrice(s,0.06,\n",
    "                                  day_count, Compounded,\n",
    "                                  Semiannual, calc_date)/100.\n",
    "    adjusted_futures_price = futures_price * cf\n",
    "    basis = price-adjusted_futures_price\n",
    "    if basis< min_basis:\n",
    "        min_basis = basis \n",
    "        min_basis_index = i\n",
    "    securities.append((s,cf))\n",
    "    \n",
    "ctd_info = basket[min_basis_index]\n",
    "ctd_bond,ctd_cf = securities[min_basis_index]\n",
    "ctd_price = ctd_info[2]\n",
    "print(\"%-30s = %lf\" % (\"Minimum Basis\", min_basis))\n",
    "print(\"%-30s = %lf\" % (\"Conversion Factor\", ctd_cf))\n",
    "print(\"%-30s = %lf\" % (\"Coupon\", ctd_info[0]))\n",
    "print(\"%-30s = %s\" % (\"Maturity\", ctd_info[1]))\n",
    "print(\"%-30s = %lf\" % (\"Price\", ctd_info[2]))"
   ]
  },
  {
   "cell_type": "markdown",
   "metadata": {},
   "source": [
    "The basis is the loss for a notional of 100 that the seller accrues to close this contract. For a single futures contract (which has a 100000 notional), there is a loss of 450.60.\n",
    "\n",
    "NOTE: You will need my [pull request](https://github.com/lballabio/quantlib-old/pull/370) to execute the `FixedRateBondForward` class since it is not exposed in SWIG at the moment."
   ]
  },
  {
   "cell_type": "code",
   "execution_count": 9,
   "metadata": {},
   "outputs": [],
   "source": [
    "futures_maturity_date = Date(21,12,2015)\n",
    "futures = FixedRateBondForward(calc_date, futures_maturity_date, \n",
    "                               Position.Long, 0.0, settlement_days,\n",
    "                               day_count, calendar, bussiness_convention,\n",
    "                               ctd_bond, yield_curve_handle, yield_curve_handle)"
   ]
  },
  {
   "cell_type": "markdown",
   "metadata": {},
   "source": [
    "The valuation of the futures contract and the underlying is shown below:"
   ]
  },
  {
   "cell_type": "code",
   "execution_count": 10,
   "metadata": {},
   "outputs": [
    {
     "name": "stdout",
     "output_type": "stream",
     "text": [
      "Model Futures Price            = 127.610365\n",
      "Market Futures Price           = 127.062500\n",
      "Model Adjustment               = 0.547865\n",
      "Implied Yield                  = -7.473%\n",
      "Forward Z-Spread               = 1.6bps\n",
      "Forward YTM                    = 1.952%\n"
     ]
    }
   ],
   "source": [
    "model_futures_price = futures.cleanForwardPrice()/ctd_cf\n",
    "implied_yield = futures.impliedYield(ctd_price/ctd_cf, futures_price, \n",
    "                                     calc_date, Compounded, day_count).rate()\n",
    "z_spread = BondFunctions.zSpread(ctd_bond, ctd_price, yield_curve, \n",
    "                                 day_count, Compounded, Semiannual, \n",
    "                                 calc_date)\n",
    "ytm = BondFunctions.bondYield(ctd_bond, ctd_price, day_count,\n",
    "                              Compounded, Semiannual, calc_date)\n",
    "\n",
    "print(\"%-30s = %lf\" % (\"Model Futures Price\", model_futures_price))\n",
    "print(\"%-30s = %lf\" % (\"Market Futures Price\", futures_price))\n",
    "print(\"%-30s = %lf\" % (\"Model Adjustment\", model_futures_price-futures_price))\n",
    "print(\"%-30s = %2.3f%%\" % (\"Implied Yield\", implied_yield*100))\n",
    "print(\"%-30s = %2.1fbps\" % (\"Forward Z-Spread\", z_spread*10000))\n",
    "print(\"%-30s = %2.3f%%\" % (\"Forward YTM \", ytm*100))"
   ]
  },
  {
   "cell_type": "markdown",
   "metadata": {},
   "source": [
    "#### References\n",
    "[1] [Understanding Treasury Futures](https://www.cmegroup.com/education/files/understanding-treasury-futures.pdf), CME Group PDF\n",
    "\n",
    "#### Conclusion\n",
    "\n",
    "In this chapter, we looked into understanding and valuing treasury futures contracts. We used the QuantLib `FixedRateBondForward` class in order to model the futures contract. But, we also made a cheapest to deliver calculation to figure out the deliverable. "
   ]
  }
 ],
 "metadata": {
  "kernelspec": {
   "display_name": "Python 3",
   "language": "python",
   "name": "python3"
  },
  "language_info": {
   "codemirror_mode": {
    "name": "ipython",
    "version": 3
   },
   "file_extension": ".py",
   "mimetype": "text/x-python",
   "name": "python",
   "nbconvert_exporter": "python",
   "pygments_lexer": "ipython3",
   "version": "3.6.5"
  }
 },
 "nbformat": 4,
 "nbformat_minor": 1
}
